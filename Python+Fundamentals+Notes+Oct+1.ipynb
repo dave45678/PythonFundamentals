{
 "cells": [
  {
   "cell_type": "markdown",
   "metadata": {},
   "source": [
    "## Python Fundamentals - ITI 276\n",
    "#### CRN: 25569\n",
    "## Instructor: David Wolf\n",
    "### Tu, Th Oct 04,2016 - Oct 13,2016 and Oct 8, 2016"
   ]
  },
  {
   "cell_type": "markdown",
   "metadata": {},
   "source": [
    "## Setting up your Python Development Environment\n",
    "* install python \n",
    "    * download location\n",
    "    * which version?\n",
    "* an editor\n",
    "    * idle\n",
    "    * notepad++\n",
    "    * IDE\n",
    "        * pycharm\n",
    "        * spyder\n",
    "* meet the terminal (cmd)\n",
    "    * how to run a program at the terminal\n",
    "* know your OS\n",
    "    * be able to navigate to the different locations on your hard drive\n"
   ]
  },
  {
   "cell_type": "markdown",
   "metadata": {},
   "source": [
    "# Using jupyter notebook\n",
    " * markdown mode\n",
    " * cell mode\n",
    " * entering code\n",
    " * executing code\n",
    " * inserting cells\n",
    " * deleting cells\n",
    " * moving cells up and down\n",
    " * renaming notebooks\n",
    " * download notebook to thumb drive\n",
    " * starting and stopping the kernel\n",
    " * command mode [esc]\n",
    " * toggle line numbers [esc] l\n",
    " \n",
    " \n",
    "\n"
   ]
  },
  {
   "cell_type": "code",
   "execution_count": null,
   "metadata": {
    "collapsed": true
   },
   "outputs": [],
   "source": [
    "# Finding out where you are\n",
    "import sys\n",
    "import os\n",
    "\n",
    "print sys.version\n",
    "print os.getcwd()\n",
    "help(os)"
   ]
  },
  {
   "cell_type": "code",
   "execution_count": 1,
   "metadata": {
    "collapsed": false
   },
   "outputs": [
    {
     "name": "stdout",
     "output_type": "stream",
     "text": [
      "2 4 8 "
     ]
    }
   ],
   "source": [
    "number = 2\n",
    "exponent  = 3\n",
    "product  = 1\n",
    "for eachPass in range(exponent):\n",
    "    product = product * number\n",
    "    print(product, end = \" \")"
   ]
  },
  {
   "cell_type": "markdown",
   "metadata": {},
   "source": [
    "### Getting input from the user"
   ]
  },
  {
   "cell_type": "code",
   "execution_count": 1,
   "metadata": {
    "collapsed": false
   },
   "outputs": [
    {
     "name": "stdout",
     "output_type": "stream",
     "text": [
      "Please enter your name: Dave\n"
     ]
    }
   ],
   "source": [
    "#Write a line of code that prompts the user for his name and saves it in variable called 'name'\n",
    "name = raw_input('Please enter your name: ')\n",
    "print \"Hello, \" + name\n"
   ]
  },
  {
   "cell_type": "code",
   "execution_count": null,
   "metadata": {
    "collapsed": true
   },
   "outputs": [],
   "source": [
    "# All input comes in as a string\n",
    "# Sometimes you need to convert input to numeric value\n"
   ]
  },
  {
   "cell_type": "markdown",
   "metadata": {},
   "source": [
    "### Order of Operations\n"
   ]
  },
  {
   "cell_type": "code",
   "execution_count": 5,
   "metadata": {
    "collapsed": false
   },
   "outputs": [
    {
     "data": {
      "text/plain": [
       "16"
      ]
     },
     "execution_count": 5,
     "metadata": {},
     "output_type": "execute_result"
    }
   ],
   "source": [
    "8*2"
   ]
  },
  {
   "cell_type": "code",
   "execution_count": 7,
   "metadata": {
    "collapsed": false
   },
   "outputs": [
    {
     "data": {
      "text/plain": [
       "9"
      ]
     },
     "execution_count": 7,
     "metadata": {},
     "output_type": "execute_result"
    }
   ],
   "source": [
    "8**1+1"
   ]
  },
  {
   "cell_type": "code",
   "execution_count": 6,
   "metadata": {
    "collapsed": false
   },
   "outputs": [
    {
     "name": "stdout",
     "output_type": "stream",
     "text": [
      "179769313486231590772930519078902473361797697894230657273430081157732675805500963132708477322407536021120113879871393357658789768814416622492847430639474124377767893424865485276302219601246094119453082952085005768838150682342462881473913110540827237163350510684586298239947245938479716304835356329624224137216\n",
      "____\n",
      "1048576\n",
      "____\n",
      "179769313486231590772930519078902473361797697894230657273430081157732675805500963132708477322407536021120113879871393357658789768814416622492847430639474124377767893424865485276302219601246094119453082952085005768838150682342462881473913110540827237163350510684586298239947245938479716304835356329624224137216\n"
     ]
    }
   ],
   "source": [
    "print 2**2**10\n",
    "print \"____\"\n",
    "print (2**2)**10\n",
    "print \"____\"\n",
    "print 2**(2**10)"
   ]
  },
  {
   "cell_type": "code",
   "execution_count": 7,
   "metadata": {
    "collapsed": false
   },
   "outputs": [
    {
     "data": {
      "text/plain": [
       "0.6666666666666666"
      ]
     },
     "execution_count": 7,
     "metadata": {},
     "output_type": "execute_result"
    }
   ],
   "source": [
    "# floating point division\n",
    "8/12"
   ]
  },
  {
   "cell_type": "code",
   "execution_count": 2,
   "metadata": {
    "collapsed": false
   },
   "outputs": [
    {
     "name": "stdout",
     "output_type": "stream",
     "text": [
      "0\n",
      "2\n"
     ]
    }
   ],
   "source": [
    "# integer division\n",
    "print 8//12\n",
    "print 8//4"
   ]
  },
  {
   "cell_type": "markdown",
   "metadata": {},
   "source": [
    "### Handling Errors"
   ]
  },
  {
   "cell_type": "code",
   "execution_count": 9,
   "metadata": {
    "collapsed": false
   },
   "outputs": [
    {
     "ename": "ZeroDivisionError",
     "evalue": "division by zero",
     "output_type": "error",
     "traceback": [
      "\u001b[1;31m---------------------------------------------------------------------------\u001b[0m",
      "\u001b[1;31mZeroDivisionError\u001b[0m                         Traceback (most recent call last)",
      "\u001b[1;32m<ipython-input-9-ff90b89d4cfb>\u001b[0m in \u001b[0;36m<module>\u001b[1;34m()\u001b[0m\n\u001b[1;32m----> 1\u001b[1;33m \u001b[1;36m8\u001b[0m\u001b[1;33m/\u001b[0m\u001b[1;36m0\u001b[0m\u001b[1;33m\u001b[0m\u001b[0m\n\u001b[0m",
      "\u001b[1;31mZeroDivisionError\u001b[0m: division by zero"
     ]
    }
   ],
   "source": [
    "8/0"
   ]
  },
  {
   "cell_type": "code",
   "execution_count": 22,
   "metadata": {
    "collapsed": false
   },
   "outputs": [
    {
     "name": "stdout",
     "output_type": "stream",
     "text": [
      "Can't divide by zero!\n"
     ]
    }
   ],
   "source": [
    "# catch a specific exception\n",
    "# https://docs.python.org/2.7/tutorial/errors.html\n",
    "try:\n",
    "    8/0\n",
    "except ZeroDivisionError:\n",
    "    print \"Can't divide by zero!\""
   ]
  },
  {
   "cell_type": "code",
   "execution_count": 24,
   "metadata": {
    "collapsed": false
   },
   "outputs": [
    {
     "name": "stdout",
     "output_type": "stream",
     "text": [
      "Unspecified error!\n"
     ]
    }
   ],
   "source": [
    "# catch a general exception\n",
    "try:\n",
    "    9/0\n",
    "except:\n",
    "    print \"Unspecified error!\" "
   ]
  },
  {
   "cell_type": "markdown",
   "metadata": {
    "collapsed": false
   },
   "source": [
    "### modulus"
   ]
  },
  {
   "cell_type": "code",
   "execution_count": 11,
   "metadata": {
    "collapsed": false
   },
   "outputs": [
    {
     "data": {
      "text/plain": [
       "0"
      ]
     },
     "execution_count": 11,
     "metadata": {},
     "output_type": "execute_result"
    }
   ],
   "source": [
    "8 % 2"
   ]
  },
  {
   "cell_type": "code",
   "execution_count": 12,
   "metadata": {
    "collapsed": false
   },
   "outputs": [
    {
     "data": {
      "text/plain": [
       "1"
      ]
     },
     "execution_count": 12,
     "metadata": {},
     "output_type": "execute_result"
    }
   ],
   "source": [
    "9%2"
   ]
  },
  {
   "cell_type": "markdown",
   "metadata": {},
   "source": [
    "### Printing "
   ]
  },
  {
   "cell_type": "code",
   "execution_count": 9,
   "metadata": {
    "collapsed": false
   },
   "outputs": [
    {
     "name": "stdout",
     "output_type": "stream",
     "text": [
      "Bart Simpson\n",
      "4 evergreen st.\n",
      "Springfiled\n",
      "555-1212\n"
     ]
    }
   ],
   "source": [
    "print (\"Bart Simpson\")\n",
    "print (\"4 Evergreen st.\")\n",
    "print (\"Springfiled\")\n",
    "print (\"555-1212\")"
   ]
  },
  {
   "cell_type": "code",
   "execution_count": 1,
   "metadata": {
    "collapsed": false
   },
   "outputs": [
    {
     "data": {
      "text/plain": [
       "'Dave\\nWolf\\n4 main street\\n'"
      ]
     },
     "execution_count": 1,
     "metadata": {},
     "output_type": "execute_result"
    }
   ],
   "source": [
    "# a comment begins with a # and ends at the end of the line\n",
    "# a docstring comment spans multiple lines. Start and end it with three quotes or three apostrophes\n",
    "\"\"\"Dave\n",
    "Wolf\n",
    "4 main street\n",
    "\"\"\""
   ]
  },
  {
   "cell_type": "code",
   "execution_count": null,
   "metadata": {
    "collapsed": true
   },
   "outputs": [],
   "source": [
    "## Python allows you to use either single quotes or double quotes"
   ]
  },
  {
   "cell_type": "code",
   "execution_count": 10,
   "metadata": {
    "collapsed": false
   },
   "outputs": [
    {
     "name": "stdout",
     "output_type": "stream",
     "text": [
      "dave's things\n",
      "dave's things\n"
     ]
    }
   ],
   "source": [
    "# If you want to include a single quote inside a string the put the string in double quotes\n",
    "print \"dave's things\"\n",
    "# or escape the single quote with a slash\n",
    "print 'dave\\'s things'\n",
    "#  you can do both\n",
    "print 'Dave says \"He\\'s going home\"'"
   ]
  },
  {
   "cell_type": "code",
   "execution_count": 12,
   "metadata": {
    "collapsed": false
   },
   "outputs": [
    {
     "name": "stdout",
     "output_type": "stream",
     "text": [
      "<type 'int'>\n",
      "<type 'float'>\n",
      "<type 'str'>\n",
      "<type 'str'>\n",
      "<type 'bool'>\n"
     ]
    }
   ],
   "source": [
    "# Python has integers, floats, strings and booleans\n",
    "# you can check a data type with the type function\n",
    "print type(5)\n",
    "print type(5.0)\n",
    "print type (\"test\")\n",
    "print type ('test')\n",
    "print type (True)\n",
    "print type (False)\n"
   ]
  },
  {
   "cell_type": "code",
   "execution_count": 13,
   "metadata": {
    "collapsed": false
   },
   "outputs": [
    {
     "name": "stdout",
     "output_type": "stream",
     "text": [
      "<type 'float'>\n",
      "<type 'bool'>\n"
     ]
    }
   ],
   "source": [
    "# Python variables are dynamically typed\n",
    "# you do not need to declare the variable type, Python figures that out\n",
    "pi = 3.14\n",
    "print type (pi)\n",
    "# but you can change it\n",
    "pi = True\n",
    "print type(pi)"
   ]
  },
  {
   "cell_type": "code",
   "execution_count": null,
   "metadata": {
    "collapsed": true
   },
   "outputs": [],
   "source": [
    "# When you get input from the user it comes in as a string\n",
    "# Use raw_input() instead of input()\n",
    "# Python 3.x calls this input() and it works as you would expect\n",
    "# Python 2.x has a function called input() which actually evaluates the input as Python code. \n",
    "# I suggest to never use input in python 2.x.  \n",
    "# raw_input() returns the verbatim string entered by the user.\n",
    "\n",
    "testString = raw_input(\"Ask user for a number.\")\n",
    "# The input is a string. Convert the input to a number if needed\n",
    "testInteger = int(raw_input(\"Enter an integer: \"))\n",
    "testFloat = float(raw_input(\"Enter a float: \"))"
   ]
  },
  {
   "cell_type": "markdown",
   "metadata": {
    "collapsed": true
   },
   "source": [
    "# spaces vs tabs\n",
    "* Always indent four spaces for each level of indentation\n",
    "* Do not use a tab, Python doesn't recognize the tab\n",
    "* If you use a tab on most IDEs then they will convert it to four spaces"
   ]
  },
  {
   "cell_type": "markdown",
   "metadata": {},
   "source": [
    "## Order of Operations\n",
    "Parentheses\n",
    "\n",
    "Exponentiation              (from right to left)\n",
    "\n",
    "Multiplication / Division   (from left to right)\n",
    "\n",
    "Addition / Subtraction     (from left to right)\n",
    "\n",
    "\n",
    "### Examples:\n",
    "```\n",
    "4 + 2 **3 / 2 – 1\n",
    "\n",
    "3.0 *5.0 – 2. * ( (10 – 3) % 2)\n",
    "\n",
    "2**3**2\n",
    "\n",
    "(2**3)**2\n",
    "```\n"
   ]
  },
  {
   "cell_type": "markdown",
   "metadata": {},
   "source": [
    "```\n",
    "2 + 8 // 3 * 3 % 4\n",
    "4 * 3 ** 2 + 1\n",
    "18.0 – (4 + 2 * (8//3+1) )\n",
    "10. + 11.0 / 2.0 + 3.0\n",
    "3. + (2.*4.)**2/2\n",
    "a. “spam”+”12”           b. 2*len(‘April’)\n",
    "a. ‘ab’ in “Up Above”   b. ‘ab’ in “Up above”   \n",
    "```"
   ]
  },
  {
   "cell_type": "markdown",
   "metadata": {},
   "source": [
    "## Returning remainder\n",
    "The % (modulo) operator yields the remainder from the division of the first argument by the second. \n",
    "The numeric arguments are first converted to a common type. \n",
    "A zero right argument raises the ZeroDivisionError exception.\n",
    "\n",
    "```\n",
    "3 % 2\n",
    "3 % 3\n",
    "divmod(10,3)\n",
    "```"
   ]
  },
  {
   "cell_type": "markdown",
   "metadata": {},
   "source": [
    "## Printing"
   ]
  },
  {
   "cell_type": "code",
   "execution_count": null,
   "metadata": {
    "collapsed": false
   },
   "outputs": [],
   "source": [
    "## Printing\n",
    "a1 = 'a'\n",
    "a2 = 'ab'\n",
    "a3 = 'abc'\n",
    "print (a1)\n",
    "print (a2)\n",
    "print (a3)\n",
    "print (a3[1], a3[1:])\n"
   ]
  },
  {
   "cell_type": "code",
   "execution_count": null,
   "metadata": {
    "collapsed": true
   },
   "outputs": [],
   "source": [
    "'''\n",
    "You may be as astonished as we were to learn how much water runs off a roof in a rain storm!\n",
    "Take a guess--what is the volume of water that runs off a 1,000 square foot roof during a 1\" rain storm?\n",
    "20 gallons? 50 gallons? 100 gallons? 1000 gallons?\n",
    "Python can give us the answer.\n",
    "\n",
    "To calculate the runoff from any given rainfall:\n",
    "Take the dimensions of the footprint of your roof and convert them to inches. (So, a 50' x 20' roof is 600\" x 240\".)\n",
    "Multiply the roof dimensions by the number of inches of rainfall. \n",
    "In this example, 600\" x 240\" x 1\" = 144,000 cubic inches of water.\n",
    "Divide by 231 to get the number of gallons (because 1 gallon = 231 cubic inches). (144,000/231 = 623.38).\n",
    "'''\n",
    "\n",
    "length = float(input(\"Enter the length of your roof (feet): \"))\n",
    "width = float(input(\"Enter the width of your roof (feet): \"))\n",
    "area = (length * 12) * (width * 12) #calculate the area of the roof in sq. inches\n",
    "how_much_rain = float(input(\"How much rain fell? \"))\n",
    "cu_inches_water = area * how_much_rain\n",
    "nmbr_gallons = cu_inches_water/231 #because 1 gallon is 132 cu inches\n",
    "print(\"Approximately {0:,.1f} gallons of water fell on your roof when {1:.1f} inches rain fell.\".format(nmbr_gallons,how_much_rain))\n",
    "\n"
   ]
  },
  {
   "cell_type": "markdown",
   "metadata": {},
   "source": [
    "## Functions"
   ]
  },
  {
   "cell_type": "code",
   "execution_count": 8,
   "metadata": {
    "collapsed": true
   },
   "outputs": [],
   "source": [
    "\n",
    "def main():\n",
    "    fahr = float(input(\"Enter the temperature in F: \"))\n",
    "    cel = (fahr - 32) * 5.0/9.0\n",
    "    print (\"the temperature in C is: \", cel)\n",
    "    "
   ]
  },
  {
   "cell_type": "code",
   "execution_count": 9,
   "metadata": {
    "collapsed": false
   },
   "outputs": [
    {
     "name": "stdout",
     "output_type": "stream",
     "text": [
      "Enter the temperature in F: 88\n",
      "('the temperature in C is: ', 31.11111111111111)\n"
     ]
    }
   ],
   "source": [
    "main()"
   ]
  },
  {
   "cell_type": "markdown",
   "metadata": {},
   "source": [
    "## Comments"
   ]
  },
  {
   "cell_type": "code",
   "execution_count": null,
   "metadata": {
    "collapsed": true
   },
   "outputs": [],
   "source": [
    "'''\n",
    "There are two ways to write comments. This is one\n",
    "'''\n",
    "#This is another"
   ]
  },
  {
   "cell_type": "code",
   "execution_count": null,
   "metadata": {
    "collapsed": true
   },
   "outputs": [],
   "source": [
    "'''\n",
    "How tall are four-story tall waves?\n",
    "http://www.washingtonpost.com/business/economy/cargo-ship-likely-sank-during-hurricane-coast-guard-says/2015/10/05/2bab59ae-6b79-11e5-aa5b-f78a98956699_story.html\n",
    "\n",
    "Python can help us find out how tall a four story building is \n",
    "and how many of you stacked up would be the height of The Burj Khalifa in Dubui, UAE\n",
    "https://en.wikipedia.org/wiki/List_of_tallest_buildings_and_structures_in_the_world\n",
    "'''\n",
    "#http://www.ctbuh.org/TallBuildings/HeightStatistics/HeightCalculator/OnLineCalculator/tabid/1068/language/en-GB/Default.aspx\n",
    "FEET_PER_METER = 3.28084\n",
    "nmbr_stories = int( input(\"Enter the number of stories: \"))\n",
    "height = (3.9 * nmbr_stories) + 11.7 + (3.9 * (nmbr_stories/20))\n",
    "#convert meters to feet\n",
    "height = height * FEET_PER_METER\n",
    "#https://docs.python.org/2/library/string.html#format-string-syntax\n",
    "print(\"The {0} story tall building would be {1:,.0f} feet tall\".format(nmbr_stories,height))\n",
    "\n",
    "\n",
    "\n"
   ]
  },
  {
   "cell_type": "markdown",
   "metadata": {},
   "source": [
    "## Looping"
   ]
  },
  {
   "cell_type": "code",
   "execution_count": null,
   "metadata": {
    "collapsed": false
   },
   "outputs": [],
   "source": [
    "for bottle in range(99,0,-1):\n",
    "    if bottle == 1:\n",
    "        print(\"{0} bottle of beer on the wall, {0} bottle of beer. Take it down, pass it around, No more bottles of beer on the wall\".format(bottle))\n",
    "    else:\n",
    "        print(\"{0} bottles of beer on the wall, {0} bottles of beer. Take one down, pass it around, {1} bottles of beer on the wall\".format(bottle,bottle-1))\n",
    "    \n",
    "print(\"My song is finished!\")"
   ]
  },
  {
   "cell_type": "markdown",
   "metadata": {},
   "source": [
    "## Decision Making"
   ]
  },
  {
   "cell_type": "code",
   "execution_count": null,
   "metadata": {
    "collapsed": true
   },
   "outputs": [],
   "source": [
    "Write a logical expression that test to see if the variable x is a number in the range of 1 to 10"
   ]
  },
  {
   "cell_type": "code",
   "execution_count": 14,
   "metadata": {
    "collapsed": false
   },
   "outputs": [
    {
     "name": "stdout",
     "output_type": "stream",
     "text": [
      "Enter the taxcode: 2\n",
      "Enter the amount: 19.95\n",
      "MD  Tax owed:  1.197\n"
     ]
    }
   ],
   "source": [
    "taxcode = int(raw_input(\"Enter the taxcode: \"))\n",
    "amt = float(raw_input(\"Enter the amount: \"))\n",
    "if taxcode == 1:\n",
    "    tax = .05 * amt\n",
    "    state = 'VA'\n",
    "elif taxcode == 2:\n",
    "    tax = .06 * amt\n",
    "    state = 'MD'\n",
    "elif taxcode == 3:\n",
    "     tax = 0.0\n",
    "     state = 'DE'\n",
    "else:\n",
    "     tax = .07 * amt\n",
    "     state = 'DC'\n",
    "print state,' Tax owed: ', tax\n"
   ]
  },
  {
   "cell_type": "markdown",
   "metadata": {},
   "source": [
    "## Programs to write\n",
    "### Calculate payroll\n",
    "\n",
    "#### For each salesman:                                        \n",
    " * Last name, ID#, Hours Wk, and Payrate         \n",
    " * They get time and a half for hours worked over 40\n",
    " * The program is to print out name, ID#, Pay\n"
   ]
  },
  {
   "cell_type": "markdown",
   "metadata": {},
   "source": [
    "### Movie Titles"
   ]
  },
  {
   "cell_type": "markdown",
   "metadata": {},
   "source": [
    "## Libraries"
   ]
  },
  {
   "cell_type": "code",
   "execution_count": 43,
   "metadata": {
    "collapsed": true
   },
   "outputs": [],
   "source": [
    "import math"
   ]
  },
  {
   "cell_type": "code",
   "execution_count": null,
   "metadata": {
    "collapsed": false
   },
   "outputs": [],
   "source": [
    "dir(math)"
   ]
  },
  {
   "cell_type": "markdown",
   "metadata": {},
   "source": [
    "math.pi"
   ]
  },
  {
   "cell_type": "code",
   "execution_count": 10,
   "metadata": {
    "collapsed": false
   },
   "outputs": [
    {
     "name": "stdout",
     "output_type": "stream",
     "text": [
      "Help on built-in function sin in module math:\n",
      "\n",
      "sin(...)\n",
      "    sin(x)\n",
      "    \n",
      "    Return the sine of x (measured in radians).\n",
      "\n"
     ]
    }
   ],
   "source": [
    "import math\n",
    "help(math.sin)"
   ]
  },
  {
   "cell_type": "code",
   "execution_count": null,
   "metadata": {
    "collapsed": true
   },
   "outputs": [],
   "source": [
    "# Lbraries \n",
    "https://pythontips.com/2013/07/30/20-python-libraries-you-cant-live-without/"
   ]
  },
  {
   "cell_type": "code",
   "execution_count": 12,
   "metadata": {
    "collapsed": false
   },
   "outputs": [
    {
     "name": "stdout",
     "output_type": "stream",
     "text": [
      "Enter year: 1980\n",
      "Enter month: 9\n",
      "   September 1980\n",
      "Mo Tu We Th Fr Sa Su\n",
      " 1  2  3  4  5  6  7\n",
      " 8  9 10 11 12 13 14\n",
      "15 16 17 18 19 20 21\n",
      "22 23 24 25 26 27 28\n",
      "29 30\n",
      "\n"
     ]
    }
   ],
   "source": [
    "# Python program to display calendar of given month of the year\n",
    "# http://www.programiz.com/python-programming/examples/display-calendar\n",
    "\n",
    "# import module\n",
    "import calendar\n",
    "\n",
    "# ask of month and year\n",
    "yy = int(input(\"Enter year: \"))\n",
    "mm = int(input(\"Enter month: \"))\n",
    "\n",
    "# display the calendar\n",
    "print(calendar.month(yy,mm))"
   ]
  },
  {
   "cell_type": "code",
   "execution_count": null,
   "metadata": {
    "collapsed": false
   },
   "outputs": [],
   "source": [
    "import urllib\n",
    "\n",
    "adj = \"https://cs.leanderisd.org/txt/adjectives.txt\"\n",
    "f = urllib.urlopen(adj)\n",
    "myfile = f.read()\n",
    "print(myfile)"
   ]
  },
  {
   "cell_type": "code",
   "execution_count": null,
   "metadata": {
    "collapsed": false
   },
   "outputs": [],
   "source": [
    "# Getting help\n",
    "help(urllib)"
   ]
  },
  {
   "cell_type": "code",
   "execution_count": null,
   "metadata": {
    "collapsed": false
   },
   "outputs": [],
   "source": [
    "#using the requests library\n",
    "import requests\n",
    "help(requests)"
   ]
  },
  {
   "cell_type": "code",
   "execution_count": 10,
   "metadata": {
    "collapsed": true
   },
   "outputs": [],
   "source": [
    "r = requests.get('https://cs.leanderisd.org/txt/adjectives.txt')"
   ]
  },
  {
   "cell_type": "code",
   "execution_count": 11,
   "metadata": {
    "collapsed": false
   },
   "outputs": [
    {
     "data": {
      "text/plain": [
       "<bound method Response.json of <Response [200]>>"
      ]
     },
     "execution_count": 11,
     "metadata": {},
     "output_type": "execute_result"
    }
   ],
   "source": [
    "r.json"
   ]
  },
  {
   "cell_type": "code",
   "execution_count": 12,
   "metadata": {
    "collapsed": false
   },
   "outputs": [
    {
     "data": {
      "text/plain": [
       "'ISO-8859-1'"
      ]
     },
     "execution_count": 12,
     "metadata": {},
     "output_type": "execute_result"
    }
   ],
   "source": [
    "r.encoding"
   ]
  },
  {
   "cell_type": "code",
   "execution_count": null,
   "metadata": {
    "collapsed": false
   },
   "outputs": [],
   "source": [
    "# print all the words in the list\n",
    "words = r.text.split()\n",
    "for word in words:\n",
    "    print(word)\n",
    "\n",
    "    "
   ]
  },
  {
   "cell_type": "code",
   "execution_count": 24,
   "metadata": {
    "collapsed": false
   },
   "outputs": [
    {
     "data": {
      "text/plain": [
       "'abnormal'"
      ]
     },
     "execution_count": 24,
     "metadata": {},
     "output_type": "execute_result"
    }
   ],
   "source": [
    "words[2] \n"
   ]
  },
  {
   "cell_type": "code",
   "execution_count": 38,
   "metadata": {
    "collapsed": false
   },
   "outputs": [
    {
     "data": {
      "text/plain": [
       "'crazy'"
      ]
     },
     "execution_count": 38,
     "metadata": {},
     "output_type": "execute_result"
    }
   ],
   "source": [
    "# using the random library\n",
    "import random as rnd\n",
    "words[rnd.randint(0,len(words))]"
   ]
  },
  {
   "cell_type": "code",
   "execution_count": null,
   "metadata": {
    "collapsed": true
   },
   "outputs": [],
   "source": [
    "#For this next exercise you will build a calendar yourself\n",
    "# http://www.cs.cmu.edu/~tcortina/15-105sp09/lab2.html"
   ]
  },
  {
   "cell_type": "code",
   "execution_count": null,
   "metadata": {
    "collapsed": true
   },
   "outputs": [],
   "source": [
    " #BubbleSort example\n",
    "def bubbleSort(alist):\n",
    "    for passnum in range(len(alist)-1,0,-1):\n",
    "        for i in range(passnum):\n",
    "            if alist[i]>alist[i+1]:\n",
    "                temp = alist[i]\n",
    "                alist[i] = alist[i+1]\n",
    "                alist[i+1] = temp\n",
    "\n",
    "alist = [54,26,93,17,77,31,44,55,20]\n",
    "bubbleSort(alist)\n",
    "print(alist)"
   ]
  },
  {
   "cell_type": "code",
   "execution_count": null,
   "metadata": {
    "collapsed": true
   },
   "outputs": [],
   "source": [
    "#Python tuples\n",
    "#A tuple is a sequence of immutable Python objects. Tuples are sequences, just like lists. \n",
    "#The differences between tuples and lists are, the tuples cannot be changed unlike lists \n",
    "#and tuples use parentheses, whereas lists use square brackets.\n",
    "#Creating a tuple is as simple as putting different comma-separated values. \n",
    "#Optionally you can put these comma-separated values between parentheses also. For example −\n",
    "tup1 = ('physics', 'chemistry', 1997, 2000);\n",
    "tup2 = (1, 2, 3, 4, 5 );\n",
    "tup3 = \"a\", \"b\", \"c\", \"d\";\n",
    "\n",
    "#To access values in tuple, use the square brackets for slicing along with the index or \n",
    "#indices to obtain value available at that index. For example −\n",
    "tup1 = ('physics', 'chemistry', 1997, 2000);\n",
    "tup2 = (1, 2, 3, 4, 5, 6, 7 );\n",
    "print(\"tup1[0]: \", tup1[0])\n",
    "print(\"tup2[1:5]: \", tup2[1:5])\n",
    "\n",
    "#Removing individual tuple elements is not possible. \n",
    "#There is, of course, nothing wrong with putting together another tuple with the undesired elements discarded.\n",
    "#To explicitly remove an entire tuple, just use the del statement. For example:\n",
    "tup = ('physics', 'chemistry', 1997, 2000);\n",
    "\n",
    "print(tup)\n",
    "del tup;\n",
    "print(\"After deleting tup : \")\n",
    "print(tup)"
   ]
  },
  {
   "cell_type": "code",
   "execution_count": null,
   "metadata": {
    "collapsed": true
   },
   "outputs": [],
   "source": [
    "# How strong is your password?\n",
    "# https://en.wikipedia.org/wiki/Password_strength\n",
    "# https://pypi.python.org/pypi/passwordmeter/0.1.1"
   ]
  },
  {
   "cell_type": "code",
   "execution_count": null,
   "metadata": {
    "collapsed": true
   },
   "outputs": [],
   "source": [
    "#Number of Saturday Nights"
   ]
  },
  {
   "cell_type": "code",
   "execution_count": 16,
   "metadata": {
    "collapsed": false
   },
   "outputs": [
    {
     "name": "stdout",
     "output_type": "stream",
     "text": [
      "Help on built-in function round in module __builtin__:\n",
      "\n",
      "round(...)\n",
      "    round(number[, ndigits]) -> floating point number\n",
      "    \n",
      "    Round a number to a given precision in decimal digits (default 0 digits).\n",
      "    This always returns a floating point number.  Precision may be negative.\n",
      "\n"
     ]
    }
   ],
   "source": [
    "round(6.59809578,2)\n",
    "help(round)"
   ]
  },
  {
   "cell_type": "markdown",
   "metadata": {},
   "source": [
    "## Structure Theorem\n",
    "Time for some theory here.... a  computer program can be comprised of three kinds of constructs:\n",
    "    * Sequences\n",
    "    * Decisions \n",
    "    * Loops\n",
    "\n",
    "*Sequence*s are when you write one line at at time. The program starts at the top and executes every line\n",
    "until is it finished.\n",
    "\n",
    "*Decisions* occur when you use if statements to control which code is executed. \n",
    "When the program encounters an if statement a path is chosen. That path determines which code will execute. \n",
    "\n",
    "*Loops* cause your code to repeat. If Python there are while loops and for loops.\n",
    "\n",
    "Your program will likely contain a combination of all three."
   ]
  },
  {
   "cell_type": "markdown",
   "metadata": {},
   "source": [
    "## Making Decisions\n"
   ]
  },
  {
   "cell_type": "code",
   "execution_count": null,
   "metadata": {
    "collapsed": true
   },
   "outputs": [],
   "source": [
    "# create a decision by entering if followed by an expression\n",
    "## you can even put if statements inside of other if statements"
   ]
  },
  {
   "cell_type": "code",
   "execution_count": null,
   "metadata": {
    "collapsed": false
   },
   "outputs": [],
   "source": [
    "x = int(raw_input(\"Enter the first number: \"))\n",
    "y = int(raw_input(\"Enter the second number: \"))\n",
    "a = (x <  y);\n",
    "b = (x <= y);\n",
    "c = (x == y);\n",
    "d = (x != y);\n",
    "e = (x >  y);\n",
    "f = (x >= y);\n",
    "\n",
    "print ( str(x) + \" is LESS THAN \" + str(y) + \": \" + a );\n",
    "print( x + \" is LESS THAN or EQUAL TO \" + y + \": \" + b );\n",
    "print( x + \" is EQUAL TO \" + y + \": \" + c );\n",
    "print( x + \" is NOT EQUAL TO \" + y + \": \" + d );\n",
    "print ( x + \" is GREATER THAN \" + y + \": \" + e );\n",
    "print( x + \" is GREATER THAN or EQUAL TO \" + y + \": \" + f );\n"
   ]
  },
  {
   "cell_type": "code",
   "execution_count": 34,
   "metadata": {
    "collapsed": false
   },
   "outputs": [
    {
     "name": "stdout",
     "output_type": "stream",
     "text": [
      "Sorry, you can only have two.\n"
     ]
    }
   ],
   "source": [
    "# Alternate choices: elif and else\n",
    "# Sometimes we want to use logic more complicated than just “less than” or “equal to”. \n",
    "# Project managers are constantly asking for software to be developed. \n",
    "# And they want it to be done quickly, for minimal cost and at the highest quality. \n",
    "# The rule is: We can make it fast, cheap or good. Pick two.\n",
    "bFast = False\n",
    "bGood = False\n",
    "bCheap = False\n",
    "\n",
    "if bFast != True and bCheap == True and bGood == True:\n",
    "    print \"OK, we'll make it cheap and good. But it will take a while.\"\n",
    "elif bFast == True and bCheap !=True and bGood == True:\n",
    "    print \"OK, we'll make it good and have it to you quickly. But it will cost you!\"\n",
    "elif bFast == True and bCheap == True and bGood != True:\n",
    "    print \"Ok, it will be done right away and it won't cost you much but it won't be very good!\" \n",
    "else:\n",
    "    print \"Sorry, you can only have two.\"\n"
   ]
  },
  {
   "cell_type": "code",
   "execution_count": null,
   "metadata": {
    "collapsed": true
   },
   "outputs": [],
   "source": [
    "# Modify the above program so it prompts the user to enter their choices for bFast, bCheap and bGood"
   ]
  },
  {
   "cell_type": "code",
   "execution_count": null,
   "metadata": {
    "collapsed": true
   },
   "outputs": [],
   "source": [
    "# you should look at Exercises 27 and 28 and practice with Boolean expressions. Logic is an important part of programming."
   ]
  },
  {
   "cell_type": "code",
   "execution_count": null,
   "metadata": {
    "collapsed": true
   },
   "outputs": [],
   "source": [
    "# Accept the inputs\n",
    "startSal = float(input(\"Enter the starting salary: $\"))\n",
    "increase = int(input(\"Enter the annual % increase: \"))\n",
    "years = int(input(\"Enter the number of years: \"))\n",
    "\n",
    "# Compute and display the results\n",
    "print(\"Year   Salary\\n-------------\")\n",
    "multiplier = 1 + increase / 100\n",
    "nextSal = startSal\n",
    "for year in range(1, years + 1):\n",
    "    print(\"%2d%12.2f\" % (year, nextSal))\n",
    "    nextSal *= multiplier \n"
   ]
  },
  {
   "cell_type": "code",
   "execution_count": null,
   "metadata": {
    "collapsed": false
   },
   "outputs": [],
   "source": [
    "\"\"\"\n",
    "Program: sum.py\n",
    "Computes the sum and average of a series of input numbers.\n",
    "\"\"\"\n",
    "\n",
    "sum = 0\n",
    "count = 0\n",
    "while True:\n",
    "    number = input(\"Enter a number or press Enter to quit: \")\n",
    "    if number == \"\":\n",
    "        break\n",
    "    sum += float(number)\n",
    "    count += 1\n",
    "\n",
    "print(\"The sum is\", sum)\n",
    "if count > 0:\n",
    "    print(\"The average is\", sum / count)\n"
   ]
  },
  {
   "cell_type": "markdown",
   "metadata": {
    "collapsed": true
   },
   "source": [
    "## Create a program to print your name"
   ]
  },
  {
   "cell_type": "markdown",
   "metadata": {},
   "source": [
    "## Create a program to calculate an employee's weekly pay\n",
    "\n",
    "An employee's total weekly pay equals the\n",
    "hourly wage multiplied by the total number\n",
    "of regular hours plus any overtime pay.  Overtime\n",
    "pay equals the total overtime hours multiplied by 1.5\n",
    "times the hourly wage.\n",
    "\n",
    "Write a program that takes as inputs the hourly wage,\n",
    "total regular hours, and total overtime hours and\n",
    "displays an employee's total weekly pay."
   ]
  },
  {
   "cell_type": "code",
   "execution_count": null,
   "metadata": {
    "collapsed": true
   },
   "outputs": [],
   "source": [
    "\"\"\"\n",
    "Program: employeepay.py\n",
    "Project 2.10\n",
    "\n",
    "Compute an employee's total weekly pay.\n",
    "\n",
    "Useful facts:\n",
    "     An employee's total weekly pay equals the\n",
    "     hourly wage multiplied by the total number\n",
    "     of regular hours plus any overtime pay.  Overtime\n",
    "     pay equals the total overtime hours multiplied by 1.5\n",
    "     times the hourly wage.\n",
    "\n",
    "Write a program that takes as inputs the hourly wage,\n",
    "total regular hours, and total overtime hours and\n",
    "displays an employee's total weekly pay.\n",
    "\n",
    "\"\"\"         \n",
    "\n",
    "# Request the inputs\n",
    "wage = float(input(\"Enter the wage: $\"))  \n",
    "regularHours = float(input(\"Enter the regular hours: \"))  \n",
    "overtimeHours = float(input(\"Enter the overtime hours: \"))  \n",
    "\n",
    "# Compute the result\n",
    "totalPay = regularHours * wage + overtimeHours * wage * 1.5\n",
    "\n",
    "# Display the result\n",
    "print(\"The total weekly pay is $\" + str(round(totalPay, 2)))"
   ]
  },
  {
   "cell_type": "code",
   "execution_count": 18,
   "metadata": {
    "collapsed": false
   },
   "outputs": [
    {
     "name": "stdout",
     "output_type": "stream",
     "text": [
      "I'm looping! and my counter is at 0\n",
      "I'm looping! and my counter is at 1\n",
      "I'm looping! and my counter is at 2\n",
      "I'm looping! and my counter is at 3\n",
      "I'm looping! and my counter is at 4\n",
      "I'm looping! and my counter is at 5\n",
      "I'm looping! and my counter is at 6\n",
      "I'm looping! and my counter is at 7\n",
      "I'm looping! and my counter is at 8\n",
      "I'm looping! and my counter is at 9\n",
      "\n",
      "This line prints at the end of the loop\n"
     ]
    }
   ],
   "source": [
    "## Using a while loop\n",
    "#The while loop checks a condition when it starts. If that expression is True then the loop repeats \n",
    "#until the expression changes.\n",
    "\n",
    "# Create a program to loop until the user enters an empty string\n",
    "#Initialize the Counter\n",
    "counter = 0\n",
    "# after you type  while and then the expression, enter a : and press enter. This causes your IDE to indent your next statements\n",
    "# The indented statements are part of the loop\n",
    "# The first statement that isn't indented is the end of the loop\n",
    "while counter < 10:\n",
    "    print \"I'm looping! and my counter is at \" + str(counter)\n",
    "    counter = counter + 1 \n",
    "print  # prints a blank line   \n",
    "print \"This line prints at the end of the loop\""
   ]
  },
  {
   "cell_type": "code",
   "execution_count": 22,
   "metadata": {
    "collapsed": false
   },
   "outputs": [
    {
     "name": "stdout",
     "output_type": "stream",
     "text": [
      "False\n",
      "0\n",
      "1\n",
      "2\n",
      "3\n",
      "4\n",
      "5\n"
     ]
    }
   ],
   "source": [
    "# While loop tests\n",
    "# any expression that returns true or false can be used to test the while loop\n",
    "i = 0\n",
    "print i > 6\n",
    "# the loop will continue until the expression is false\n",
    "while i < 6:\n",
    "    print i\n",
    "    i = i + 1\n",
    "    "
   ]
  },
  {
   "cell_type": "code",
   "execution_count": null,
   "metadata": {
    "collapsed": false
   },
   "outputs": [],
   "source": [
    "# Endless loops\n",
    "# if you don't add code to your loop to exit then you never will\n",
    "# you can also enter True as the expression and the loop will never exit\n",
    "# MAKE SURE YOU PROVIDE AN EXIT CONDITION!!!\n",
    "while True:\n",
    "    print \"I'm in the loop\"\n",
    "    quit = raw_input(\"Do you want to quit? Enter Y or N: \")\n",
    "    # an if statement helps evaluate quit\n",
    "    if quit == 'Y':\n",
    "        break # break allows you to exit a loop"
   ]
  },
  {
   "cell_type": "code",
   "execution_count": null,
   "metadata": {
    "collapsed": false
   },
   "outputs": [],
   "source": [
    "# What if you want to allow the user to enter lower or upper case and still quit? \n",
    "print 'Y'.lower()\n",
    "print 'n'.upper()\n",
    "# Huh? What's going on here?!\n",
    "# lower() and upper() are methods of the string class. \n",
    "# Since you put your string in quotes it's now part of the string class. \n",
    "# The string class has some built in methods that work with strings.\n",
    "# You can read about the string class here: https://docs.python.org/2/library/string.html\n",
    "help(str)"
   ]
  },
  {
   "cell_type": "code",
   "execution_count": null,
   "metadata": {
    "collapsed": true
   },
   "outputs": [],
   "source": [
    "# Write a program which prompts the user to enter a movie they like. Print that movie."
   ]
  },
  {
   "cell_type": "code",
   "execution_count": null,
   "metadata": {
    "collapsed": true
   },
   "outputs": [],
   "source": [
    "# Modify the above program to prompt the user to keep entering moview until they enter Q. \n",
    "# Once they enter Q print out the movies they have entered and exit the program.\n"
   ]
  },
  {
   "cell_type": "markdown",
   "metadata": {},
   "source": [
    "# Modulus"
   ]
  },
  {
   "cell_type": "code",
   "execution_count": null,
   "metadata": {
    "collapsed": true
   },
   "outputs": [],
   "source": [
    "# Write a program that prints the numbers from 1 to 100. \n",
    "# But for multiples of three print “Fizz” instead of the number \n",
    "# and for the multiples of five print “Buzz”. \n",
    "# For numbers which are multiples of both three and five print “FizzBuzz”."
   ]
  }
 ],
 "metadata": {
  "anaconda-cloud": {},
  "kernelspec": {
   "display_name": "Python [Root]",
   "language": "python",
   "name": "Python [Root]"
  },
  "language_info": {
   "codemirror_mode": {
    "name": "ipython",
    "version": 2
   },
   "file_extension": ".py",
   "mimetype": "text/x-python",
   "name": "python",
   "nbconvert_exporter": "python",
   "pygments_lexer": "ipython2",
   "version": "2.7.12"
  }
 },
 "nbformat": 4,
 "nbformat_minor": 0
}
