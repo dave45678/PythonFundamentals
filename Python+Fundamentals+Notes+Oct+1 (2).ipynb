{
 "cells": [
  {
   "cell_type": "markdown",
   "metadata": {},
   "source": [
    "# About this course\n",
    "## Course objectives"
   ]
  },
  {
   "cell_type": "markdown",
   "metadata": {},
   "source": [
    "# About your instructor\n",
    "# https://www.linkedin.com/in/djwolf"
   ]
  },
  {
   "cell_type": "markdown",
   "metadata": {},
   "source": [
    "# Why learn python?"
   ]
  },
  {
   "cell_type": "markdown",
   "metadata": {},
   "source": [
    "## Setting up your Python Development Environment\n",
    "* install python \n",
    "    * download location\n",
    "    * which version?\n",
    "* an editor\n",
    "    * idle\n",
    "    * notepad++\n",
    "    * IDE\n",
    "        * pycharm\n",
    "        * spyder\n",
    "* meet the terminal (cmd)\n",
    "    * how to run a program at the terminal\n",
    "* know your OS\n",
    "    * be able to navigate to the different locations on your hard drive\n"
   ]
  },
  {
   "cell_type": "markdown",
   "metadata": {},
   "source": [
    "# Using jupyter notebook\n",
    " * markdown mode\n",
    " * cell mode\n",
    " * entering code\n",
    " * executing code\n",
    " * inserting cells\n",
    " * deleting cells\n",
    " * moving cells up and down\n",
    " * renaming notebooks\n",
    " * download notebook to thumb drive\n",
    " * starting and stopping the kernel\n",
    " * command mode [esc]\n",
    " * toggle line numbers [esc] l\n",
    " \n",
    " \n",
    "\n"
   ]
  },
  {
   "cell_type": "code",
   "execution_count": null,
   "metadata": {
    "collapsed": true
   },
   "outputs": [],
   "source": [
    "# Finding out where you are\n",
    "import sys\n",
    "import os\n",
    "\n",
    "print sys.version\n",
    "print os.getcwd()\n",
    "help(os)"
   ]
  },
  {
   "cell_type": "code",
   "execution_count": null,
   "metadata": {
    "collapsed": false
   },
   "outputs": [],
   "source": [
    "number = 2\n",
    "exponent  = 3\n",
    "product  = 1\n",
    "for eachPass in range(exponent):\n",
    "    product = product * number\n",
    "    print(product, end = \" \")"
   ]
  },
  {
   "cell_type": "code",
   "execution_count": null,
   "metadata": {
    "collapsed": false
   },
   "outputs": [],
   "source": [
    "#Write a line of code that prompts the user for his name and saves it in variable called 'name'\n",
    "name = input('Please enter your name: ')\n",
    "\n"
   ]
  },
  {
   "cell_type": "code",
   "execution_count": null,
   "metadata": {
    "collapsed": false
   },
   "outputs": [],
   "source": [
    "a = 2 +"
   ]
  },
  {
   "cell_type": "code",
   "execution_count": null,
   "metadata": {
    "collapsed": false
   },
   "outputs": [],
   "source": [
    "8"
   ]
  },
  {
   "cell_type": "code",
   "execution_count": null,
   "metadata": {
    "collapsed": false
   },
   "outputs": [],
   "source": [
    "8*2"
   ]
  },
  {
   "cell_type": "code",
   "execution_count": null,
   "metadata": {
    "collapsed": false
   },
   "outputs": [],
   "source": [
    "8**2"
   ]
  },
  {
   "cell_type": "code",
   "execution_count": null,
   "metadata": {
    "collapsed": false
   },
   "outputs": [],
   "source": [
    "8/12"
   ]
  },
  {
   "cell_type": "code",
   "execution_count": null,
   "metadata": {
    "collapsed": false
   },
   "outputs": [],
   "source": [
    "8//12"
   ]
  },
  {
   "cell_type": "code",
   "execution_count": null,
   "metadata": {
    "collapsed": false
   },
   "outputs": [],
   "source": [
    "8/0"
   ]
  },
  {
   "cell_type": "code",
   "execution_count": null,
   "metadata": {
    "collapsed": false
   },
   "outputs": [],
   "source": [
    "# https://docs.python.org/2.7/tutorial/errors.html\n",
    "try:\n",
    "    8/0\n",
    "except ZeroDivisionError:\n",
    "    print \"Can't divide by zero!\""
   ]
  },
  {
   "cell_type": "code",
   "execution_count": null,
   "metadata": {
    "collapsed": false
   },
   "outputs": [],
   "source": [
    "try:\n",
    "    9/0\n",
    "except:\n",
    "    print \"Unspecified error!\" "
   ]
  },
  {
   "cell_type": "code",
   "execution_count": null,
   "metadata": {
    "collapsed": false
   },
   "outputs": [],
   "source": [
    "help(Exception)"
   ]
  },
  {
   "cell_type": "code",
   "execution_count": null,
   "metadata": {
    "collapsed": false
   },
   "outputs": [],
   "source": [
    "8 mod 2"
   ]
  },
  {
   "cell_type": "code",
   "execution_count": null,
   "metadata": {
    "collapsed": false
   },
   "outputs": [],
   "source": [
    "8 % 2"
   ]
  },
  {
   "cell_type": "code",
   "execution_count": null,
   "metadata": {
    "collapsed": false
   },
   "outputs": [],
   "source": [
    "9%2"
   ]
  },
  {
   "cell_type": "code",
   "execution_count": null,
   "metadata": {
    "collapsed": false
   },
   "outputs": [],
   "source": [
    "print (\"dave\")\n",
    "print (\"4 main st.\")\n",
    "print (\"555-1212\")"
   ]
  },
  {
   "cell_type": "code",
   "execution_count": null,
   "metadata": {
    "collapsed": false
   },
   "outputs": [],
   "source": [
    "\"\"\"Dave\n",
    "Wolf\n",
    "4 main street\n",
    "\"\"\""
   ]
  },
  {
   "cell_type": "code",
   "execution_count": null,
   "metadata": {
    "collapsed": false
   },
   "outputs": [],
   "source": [
    "\"dave's things\""
   ]
  },
  {
   "cell_type": "code",
   "execution_count": null,
   "metadata": {
    "collapsed": false
   },
   "outputs": [],
   "source": [
    "'dave\\'s things'"
   ]
  },
  {
   "cell_type": "code",
   "execution_count": null,
   "metadata": {
    "collapsed": false
   },
   "outputs": [],
   "source": [
    "print 'Dave says \"He\\'s going home\"'"
   ]
  },
  {
   "cell_type": "code",
   "execution_count": null,
   "metadata": {
    "collapsed": false
   },
   "outputs": [],
   "source": [
    "2More = 4\n"
   ]
  },
  {
   "cell_type": "code",
   "execution_count": null,
   "metadata": {
    "collapsed": false
   },
   "outputs": [],
   "source": [
    "two==2"
   ]
  },
  {
   "cell_type": "code",
   "execution_count": null,
   "metadata": {
    "collapsed": false
   },
   "outputs": [],
   "source": [
    "type(5)\n"
   ]
  },
  {
   "cell_type": "code",
   "execution_count": null,
   "metadata": {
    "collapsed": false
   },
   "outputs": [],
   "source": [
    "type(5.0)"
   ]
  },
  {
   "cell_type": "code",
   "execution_count": null,
   "metadata": {
    "collapsed": false
   },
   "outputs": [],
   "source": [
    "type 5l"
   ]
  },
  {
   "cell_type": "code",
   "execution_count": null,
   "metadata": {
    "collapsed": true
   },
   "outputs": [],
   "source": [
    "pi = 3.14"
   ]
  },
  {
   "cell_type": "code",
   "execution_count": null,
   "metadata": {
    "collapsed": false
   },
   "outputs": [],
   "source": [
    "type(pi)"
   ]
  },
  {
   "cell_type": "code",
   "execution_count": null,
   "metadata": {
    "collapsed": false
   },
   "outputs": [],
   "source": [
    "zipcode = '02942'\n",
    "type(zipcode)"
   ]
  },
  {
   "cell_type": "code",
   "execution_count": null,
   "metadata": {
    "collapsed": true
   },
   "outputs": [],
   "source": [
    "# spaces vs tabs"
   ]
  },
  {
   "cell_type": "markdown",
   "metadata": {},
   "source": [
    "## Order of Operations\n",
    "Parentheses\n",
    "\n",
    "Exponentiation              (from right to left)\n",
    "\n",
    "Multiplication / Division   (from left to right)\n",
    "\n",
    "Addition / Subtraction     (from left to right)\n",
    "\n",
    "\n",
    "### Examples:\n",
    "```\n",
    "4 + 2 **3 / 2 – 1\n",
    "\n",
    "3.0 *5.0 – 2. * ( (10 – 3) % 2)\n",
    "\n",
    "2**3**2\n",
    "\n",
    "(2**3)**2\n",
    "```\n"
   ]
  },
  {
   "cell_type": "markdown",
   "metadata": {},
   "source": [
    "```\n",
    "2 + 8 // 3 * 3 % 4\n",
    "4 * 3 ** 2 + 1\n",
    "18.0 – (4 + 2 * (8//3+1) )\n",
    "10. + 11.0 / 2.0 + 3.0\n",
    "3. + (2.*4.)**2/2\n",
    "a. “spam”+”12”           b. 2*len(‘April’)\n",
    "a. ‘ab’ in “Up Above”   b. ‘ab’ in “Up above”   \n",
    "```"
   ]
  },
  {
   "cell_type": "markdown",
   "metadata": {},
   "source": [
    "## Returning remainder\n",
    "The % (modulo) operator yields the remainder from the division of the first argument by the second. \n",
    "The numeric arguments are first converted to a common type. \n",
    "A zero right argument raises the ZeroDivisionError exception.\n",
    "\n",
    "```\n",
    "3 % 2\n",
    "3 % 3\n",
    "divmod(10,3)\n",
    "```"
   ]
  },
  {
   "cell_type": "markdown",
   "metadata": {},
   "source": [
    "## Printing"
   ]
  },
  {
   "cell_type": "code",
   "execution_count": null,
   "metadata": {
    "collapsed": false
   },
   "outputs": [],
   "source": [
    "## Printing\n",
    "a1 = 'a'\n",
    "a2 = 'ab'\n",
    "a3 = 'abc'\n",
    "print (a1)\n",
    "print (a2)\n",
    "print (a3)\n",
    "print (a3[1], a3[1:])\n"
   ]
  },
  {
   "cell_type": "markdown",
   "metadata": {},
   "source": [
    "## Functions"
   ]
  },
  {
   "cell_type": "code",
   "execution_count": null,
   "metadata": {
    "collapsed": true
   },
   "outputs": [],
   "source": [
    "\n",
    "def main():\n",
    "    fahr = float(input(\"Enter the temperature in F: \"))\n",
    "    cel = (fahr - 32) * 5.0/9.0\n",
    "    print (\"the temperature in C is: \", cel)\n",
    "    "
   ]
  },
  {
   "cell_type": "code",
   "execution_count": null,
   "metadata": {
    "collapsed": false
   },
   "outputs": [],
   "source": [
    "main()"
   ]
  },
  {
   "cell_type": "markdown",
   "metadata": {},
   "source": [
    "## Comments"
   ]
  },
  {
   "cell_type": "code",
   "execution_count": null,
   "metadata": {
    "collapsed": true
   },
   "outputs": [],
   "source": [
    "'''\n",
    "There are two ways to write comments. This is one\n",
    "'''\n",
    "#This is another"
   ]
  },
  {
   "cell_type": "code",
   "execution_count": null,
   "metadata": {
    "collapsed": true
   },
   "outputs": [],
   "source": [
    "'''\n",
    "How tall are four-story tall waves?\n",
    "http://www.washingtonpost.com/business/economy/cargo-ship-likely-sank-during-hurricane-coast-guard-says/2015/10/05/2bab59ae-6b79-11e5-aa5b-f78a98956699_story.html\n",
    "\n",
    "Python can help us find out how tall a four story building is \n",
    "and how many of you stacked up would be the height of The Burj Khalifa in Dubui, UAE\n",
    "https://en.wikipedia.org/wiki/List_of_tallest_buildings_and_structures_in_the_world\n",
    "'''\n",
    "#http://www.ctbuh.org/TallBuildings/HeightStatistics/HeightCalculator/OnLineCalculator/tabid/1068/language/en-GB/Default.aspx\n",
    "FEET_PER_METER = 3.28084\n",
    "nmbr_stories = int( input(\"Enter the number of stories: \"))\n",
    "height = (3.9 * nmbr_stories) + 11.7 + (3.9 * (nmbr_stories/20))\n",
    "#convert meters to feet\n",
    "height = height * FEET_PER_METER\n",
    "#https://docs.python.org/2/library/string.html#format-string-syntax\n",
    "print(\"The {0} story tall building would be {1:,.0f} feet tall\".format(nmbr_stories,height))\n",
    "\n",
    "\n",
    "\n"
   ]
  },
  {
   "cell_type": "markdown",
   "metadata": {},
   "source": [
    "## Looping"
   ]
  },
  {
   "cell_type": "code",
   "execution_count": null,
   "metadata": {
    "collapsed": true
   },
   "outputs": [],
   "source": [
    "'''\n",
    "You may be as astonished as we were to learn how much water runs off a roof in a rain storm!\n",
    "Take a guess--what is the volume of water that runs off a 1,000 square foot roof during a 1\" rain storm?\n",
    "20 gallons? 50 gallons? 100 gallons? 1000 gallons?\n",
    "Python can give us the answer.\n",
    "\n",
    "To calculate the runoff from any given rainfall:\n",
    "Take the dimensions of the footprint of your roof and convert them to inches. (So, a 50' x 20' roof is 600\" x 240\".)\n",
    "Multiply the roof dimensions by the number of inches of rainfall. \n",
    "In this example, 600\" x 240\" x 1\" = 144,000 cubic inches of water.\n",
    "Divide by 231 to get the number of gallons (because 1 gallon = 231 cubic inches). (144,000/231 = 623.38).\n",
    "'''\n",
    "\n",
    "length = float(input(\"Enter the length of your roof (feet): \"))\n",
    "width = float(input(\"Enter the width of your roof (feet): \"))\n",
    "area = (length * 12) * (width * 12) #calculate the area of the roof in sq. inches\n",
    "how_much_rain = float(input(\"How much rain fell? \"))\n",
    "cu_inches_water = area * how_much_rain\n",
    "nmbr_gallons = cu_inches_water/231 #because 1 gallon is 132 cu inches\n",
    "print(\"Approximately {0:,.1f} gallons of water fell on your roof when {1:.1f} inches rain fell.\".format(nmbr_gallons,how_much_rain))\n",
    "\n"
   ]
  },
  {
   "cell_type": "markdown",
   "metadata": {},
   "source": [
    "## Decision Making"
   ]
  },
  {
   "cell_type": "code",
   "execution_count": null,
   "metadata": {
    "collapsed": true
   },
   "outputs": [],
   "source": [
    "Write a logical expression that test to see if the variable x is a number in the range of 1 to 10"
   ]
  },
  {
   "cell_type": "code",
   "execution_count": null,
   "metadata": {
    "collapsed": false
   },
   "outputs": [],
   "source": [
    "taxcode = int(raw_input(\"Enter the taxcode: \"))\n",
    "amt = float(raw_input(\"Enter the amount: \"))\n",
    "if taxcode == 1:\n",
    "    tax = .05 * amt\n",
    "    state = 'VA'\n",
    "elif taxcode == 2:\n",
    "    tax = .06 * amt\n",
    "    state = 'MD'\n",
    "elif taxcode == 3:\n",
    "     tax = 0.0\n",
    "     state = 'DE'\n",
    "else:\n",
    "     tax = .07 * amt\n",
    "     state = 'DC'\n",
    "print state,' Tax owed: ', tax\n"
   ]
  },
  {
   "cell_type": "markdown",
   "metadata": {},
   "source": [
    "## Programs to write\n",
    "### Calculate payroll\n",
    "\n",
    "#### For each salesman:                                        \n",
    " * Last name, ID#, Hours Wk, and Payrate         \n",
    " * They get time and a half for hours worked over 40\n",
    " * The program is to print out name, ID#, Pay\n"
   ]
  },
  {
   "cell_type": "markdown",
   "metadata": {},
   "source": [
    "### Movie Titles"
   ]
  },
  {
   "cell_type": "markdown",
   "metadata": {},
   "source": [
    "## Libraries"
   ]
  },
  {
   "cell_type": "code",
   "execution_count": null,
   "metadata": {
    "collapsed": true
   },
   "outputs": [],
   "source": [
    "import math"
   ]
  },
  {
   "cell_type": "code",
   "execution_count": null,
   "metadata": {
    "collapsed": false
   },
   "outputs": [],
   "source": [
    "dir(math)"
   ]
  },
  {
   "cell_type": "markdown",
   "metadata": {},
   "source": [
    "math.pi"
   ]
  },
  {
   "cell_type": "code",
   "execution_count": null,
   "metadata": {
    "collapsed": false
   },
   "outputs": [],
   "source": [
    "import math\n",
    "help(math.sin)"
   ]
  },
  {
   "cell_type": "code",
   "execution_count": null,
   "metadata": {
    "collapsed": true
   },
   "outputs": [],
   "source": [
    "# Lbraries \n",
    "https://pythontips.com/2013/07/30/20-python-libraries-you-cant-live-without/"
   ]
  },
  {
   "cell_type": "code",
   "execution_count": null,
   "metadata": {
    "collapsed": false
   },
   "outputs": [],
   "source": [
    "# Python program to display calendar of given month of the year\n",
    "# http://www.programiz.com/python-programming/examples/display-calendar\n",
    "\n",
    "# import module\n",
    "import calendar\n",
    "\n",
    "# ask of month and year\n",
    "yy = int(input(\"Enter year: \"))\n",
    "mm = int(input(\"Enter month: \"))\n",
    "\n",
    "# display the calendar\n",
    "print(calendar.month(yy,mm))"
   ]
  },
  {
   "cell_type": "code",
   "execution_count": null,
   "metadata": {
    "collapsed": false
   },
   "outputs": [],
   "source": [
    "import urllib\n",
    "\n",
    "adj = \"https://cs.leanderisd.org/txt/adjectives.txt\"\n",
    "f = urllib.urlopen(adj)\n",
    "myfile = f.read()\n",
    "print(myfile)"
   ]
  },
  {
   "cell_type": "code",
   "execution_count": null,
   "metadata": {
    "collapsed": false
   },
   "outputs": [],
   "source": [
    "# Getting help\n",
    "help(urllib)"
   ]
  },
  {
   "cell_type": "code",
   "execution_count": null,
   "metadata": {
    "collapsed": false
   },
   "outputs": [],
   "source": [
    "#using the requests library\n",
    "import requests\n",
    "help(requests)"
   ]
  },
  {
   "cell_type": "code",
   "execution_count": null,
   "metadata": {
    "collapsed": true
   },
   "outputs": [],
   "source": [
    "r = requests.get('https://cs.leanderisd.org/txt/adjectives.txt')"
   ]
  },
  {
   "cell_type": "code",
   "execution_count": null,
   "metadata": {
    "collapsed": false
   },
   "outputs": [],
   "source": [
    "r.json"
   ]
  },
  {
   "cell_type": "code",
   "execution_count": null,
   "metadata": {
    "collapsed": false
   },
   "outputs": [],
   "source": [
    "r.encoding"
   ]
  },
  {
   "cell_type": "code",
   "execution_count": null,
   "metadata": {
    "collapsed": false
   },
   "outputs": [],
   "source": [
    "# print all the words in the list\n",
    "words = r.text.split()\n",
    "for word in words:\n",
    "    print(word)\n",
    "\n",
    "    "
   ]
  },
  {
   "cell_type": "code",
   "execution_count": null,
   "metadata": {
    "collapsed": false
   },
   "outputs": [],
   "source": [
    "words[2] \n"
   ]
  },
  {
   "cell_type": "code",
   "execution_count": null,
   "metadata": {
    "collapsed": false
   },
   "outputs": [],
   "source": [
    "# using the random library\n",
    "import random as rnd\n",
    "words[rnd.randint(0,len(words))]"
   ]
  },
  {
   "cell_type": "code",
   "execution_count": null,
   "metadata": {
    "collapsed": true
   },
   "outputs": [],
   "source": [
    "#For this next exercise you will build a calendar yourself\n",
    "# http://www.cs.cmu.edu/~tcortina/15-105sp09/lab2.html"
   ]
  },
  {
   "cell_type": "code",
   "execution_count": null,
   "metadata": {
    "collapsed": true
   },
   "outputs": [],
   "source": [
    " #BubbleSort example\n",
    "def bubbleSort(alist):\n",
    "    for passnum in range(len(alist)-1,0,-1):\n",
    "        for i in range(passnum):\n",
    "            if alist[i]>alist[i+1]:\n",
    "                temp = alist[i]\n",
    "                alist[i] = alist[i+1]\n",
    "                alist[i+1] = temp\n",
    "\n",
    "alist = [54,26,93,17,77,31,44,55,20]\n",
    "bubbleSort(alist)\n",
    "print(alist)"
   ]
  },
  {
   "cell_type": "code",
   "execution_count": null,
   "metadata": {
    "collapsed": true
   },
   "outputs": [],
   "source": [
    "#Python tuples\n",
    "#A tuple is a sequence of immutable Python objects. Tuples are sequences, just like lists. \n",
    "#The differences between tuples and lists are, the tuples cannot be changed unlike lists \n",
    "#and tuples use parentheses, whereas lists use square brackets.\n",
    "#Creating a tuple is as simple as putting different comma-separated values. \n",
    "#Optionally you can put these comma-separated values between parentheses also. For example −\n",
    "tup1 = ('physics', 'chemistry', 1997, 2000);\n",
    "tup2 = (1, 2, 3, 4, 5 );\n",
    "tup3 = \"a\", \"b\", \"c\", \"d\";\n",
    "\n",
    "#To access values in tuple, use the square brackets for slicing along with the index or \n",
    "#indices to obtain value available at that index. For example −\n",
    "tup1 = ('physics', 'chemistry', 1997, 2000);\n",
    "tup2 = (1, 2, 3, 4, 5, 6, 7 );\n",
    "print(\"tup1[0]: \", tup1[0])\n",
    "print(\"tup2[1:5]: \", tup2[1:5])\n",
    "\n",
    "#Removing individual tuple elements is not possible. \n",
    "#There is, of course, nothing wrong with putting together another tuple with the undesired elements discarded.\n",
    "#To explicitly remove an entire tuple, just use the del statement. For example:\n",
    "tup = ('physics', 'chemistry', 1997, 2000);\n",
    "\n",
    "print(tup)\n",
    "del tup;\n",
    "print(\"After deleting tup : \")\n",
    "print(tup)"
   ]
  },
  {
   "cell_type": "code",
   "execution_count": null,
   "metadata": {
    "collapsed": false
   },
   "outputs": [],
   "source": [
    "for bottle in range(99,0,-1):\n",
    "    if bottle == 1:\n",
    "        print(\"{0} bottle of beer on the wall, {0} bottle of beer. Take it down, pass it around, No more bottles of beer on the wall\".format(bottle))\n",
    "    else:\n",
    "        print(\"{0} bottles of beer on the wall, {0} bottles of beer. Take one down, pass it around, {1} bottles of beer on the wall\".format(bottle,bottle-1))\n",
    "    \n",
    "print(\"My song is finished!\")"
   ]
  },
  {
   "cell_type": "code",
   "execution_count": null,
   "metadata": {
    "collapsed": true
   },
   "outputs": [],
   "source": [
    "# How strong is your password?\n",
    "# https://en.wikipedia.org/wiki/Password_strength\n",
    "# https://pypi.python.org/pypi/passwordmeter/0.1.1"
   ]
  },
  {
   "cell_type": "code",
   "execution_count": null,
   "metadata": {
    "collapsed": true
   },
   "outputs": [],
   "source": [
    "#Number of Saturday Nights"
   ]
  },
  {
   "cell_type": "code",
   "execution_count": null,
   "metadata": {
    "collapsed": false
   },
   "outputs": [],
   "source": [
    "round(6.59809578,2)\n",
    "help(round)"
   ]
  },
  {
   "cell_type": "code",
   "execution_count": null,
   "metadata": {
    "collapsed": true
   },
   "outputs": [],
   "source": [
    "if 1 == int(\"1\"):\n",
    "    print(\"They are equal\")\n",
    "else:\n",
    "    print(\"They are not equal\")"
   ]
  },
  {
   "cell_type": "code",
   "execution_count": null,
   "metadata": {
    "collapsed": true
   },
   "outputs": [],
   "source": [
    "1==1 or 2 != 1"
   ]
  },
  {
   "cell_type": "code",
   "execution_count": null,
   "metadata": {
    "collapsed": true
   },
   "outputs": [],
   "source": [
    "not(True and False)"
   ]
  },
  {
   "cell_type": "code",
   "execution_count": null,
   "metadata": {
    "collapsed": false
   },
   "outputs": [],
   "source": [
    "# Introducing print formatting. Use empty braces as a place holder followed by .format and the values to include\n",
    "print 'We are the {} who say \"{}!\"'.format('knights', 'Ni')\n",
    "# you can also use numbers in the place holders\n",
    "print 'We are the {0} who say \"{1}!\"'.format('knights', 'Ni')\n",
    "# can you see what just happened?\n",
    "print 'We are the {1} who say \"{0}!\"'.format('Ni','knights')\n",
    "\n",
    "# More details on print formatting are at https://docs.python.org/2/tutorial/inputoutput.html\n"
   ]
  },
  {
   "cell_type": "code",
   "execution_count": null,
   "metadata": {
    "collapsed": false
   },
   "outputs": [],
   "source": [
    "##Python Ranges and for loops\n",
    "'''\n",
    "The range() function allows you to execute a statement (or sequence of statements) a given number of times. \n",
    "\n",
    "start: Starting number of the sequence.\n",
    "stop: Generate numbers up to, but not including this number.\n",
    "step: Difference between each number in the sequence.\n",
    "\n",
    "range([start], stop[, step])    # arguments in []'s are optional\n",
    "    \n",
    "The range function can take one argument, two arguments or three arguments. Try it now with each:\n",
    "'''\n",
    "\n",
    "counter = 4\n",
    "for eachPass in range(counter):\n",
    "    print counter\n",
    "print '_'*20    \n",
    "\n",
    "\n",
    "counter = 1\n",
    "stop = 11\n",
    "for eachPass in range(counter,stop):\n",
    "    print counter\n",
    "print '_'*20    \n",
    "\n",
    "\n",
    "counter = 1\n",
    "stop = 21\n",
    "step = 2\n",
    "for eachPass in range(counter,stop,step):\n",
    "    print counter    \n",
    "print '_'*20    "
   ]
  },
  {
   "cell_type": "code",
   "execution_count": null,
   "metadata": {
    "collapsed": false
   },
   "outputs": [],
   "source": [
    "# A shortcut for you ...\n",
    "# Expressions such as x = x + 1 occur so frequently that a shortcut exists for them....\n",
    "# You can say x += 1 and get the same result. \n",
    "# Note there is no space between the operator (+) and the = sign.\n",
    "# This works with other operators as well such as - and * and /\n",
    "# Try it below:\n",
    "\n",
    "total = 0\n",
    "for amount in range(10):\n",
    "    total = total + amount\n",
    "    print total\n",
    "    \n",
    "# can be shortened to \n",
    "total = 0\n",
    "for amount in range(10):\n",
    "    total += amount\n",
    "    print total"
   ]
  },
  {
   "cell_type": "code",
   "execution_count": null,
   "metadata": {
    "collapsed": false
   },
   "outputs": [],
   "source": [
    "# Python includes a library for dates. We can add that to our program with the following statement:\n",
    "import datetime\n",
    "\n",
    "# Get the date/time for now... according to your computer\n",
    "now = datetime.datetime.now()\n",
    "print \"It is now: {} \".format(now)\n",
    "\n",
    "# Print it all in a nicer format\n",
    "print \"The year is: {}, the month is: {}, the day is: {} the time is: {}:{}:{}\".format(now.year, now.month, now.day, now.hour, now.minute, now.second)\n",
    "\n",
    "\n",
    "# Print the years from 2000 to today\n",
    "# This prints on one line \n",
    "for y in range(2000, now.year+1):\n",
    "    print \"{} \".format(y),\n",
    "    \n",
    "# This prints a new line each time the print statement is called. Can you tell why?    \n",
    "for y in range(2000, now.year+1):\n",
    "    print \"{} \".format(y)    "
   ]
  },
  {
   "cell_type": "code",
   "execution_count": null,
   "metadata": {
    "collapsed": false
   },
   "outputs": [],
   "source": [
    "# Let's fix this program. It doesn't calculate correctly.\n",
    "\n",
    "# Accept the inputs\n",
    "startSal = 100000.0\n",
    "increase = 10\n",
    "years = 10\n",
    "\n",
    "# Compute and display the results\n",
    "print(\"Year   Salary\\n-------------\")\n",
    "multiplier = 1 + (increase / 100.0)\n",
    "print multiplier\n",
    "nextSal = startSal\n",
    "for year in range(1, years + 1):\n",
    "    print \"{0}  {1:.2f}\".format(year, nextSal)\n",
    "    nextSal = (nextSal * multiplier)\n"
   ]
  },
  {
   "cell_type": "markdown",
   "metadata": {},
   "source": [
    "# Getting input from the user\n",
    "```\n",
    "prompt = \"Enter something\"\n",
    "value = raw_input(prompt)\n",
    "print value\n",
    "```"
   ]
  },
  {
   "cell_type": "code",
   "execution_count": null,
   "metadata": {
    "collapsed": false
   },
   "outputs": [],
   "source": [
    "\"\"\"\n",
    "Write a program that receives a series of numbers from the user \n",
    "until the user presses enter without entering a number.\n",
    "Then print the sum of the numbers and their average.\n",
    "\"\"\"\n",
    "\n",
    "sum = 0\n",
    "count = 0\n",
    "while True:\n",
    "    number = raw_input(\"Enter a number or press Enter to quit: \")\n",
    "    if number == \"\":\n",
    "        break\n",
    "    else:\n",
    "        sum += float(number)\n",
    "        count += 1\n",
    "\n",
    "print(\"The sum is\", sum)\n",
    "if count > 0:\n",
    "    print(\"The average is\", sum / count)\n"
   ]
  },
  {
   "cell_type": "code",
   "execution_count": null,
   "metadata": {
    "collapsed": true
   },
   "outputs": [],
   "source": []
  },
  {
   "cell_type": "code",
   "execution_count": null,
   "metadata": {
    "collapsed": true
   },
   "outputs": [],
   "source": []
  }
 ],
 "metadata": {
  "kernelspec": {
   "display_name": "Python [Root]",
   "language": "python",
   "name": "Python [Root]"
  },
  "language_info": {
   "codemirror_mode": {
    "name": "ipython",
    "version": 2
   },
   "file_extension": ".py",
   "mimetype": "text/x-python",
   "name": "python",
   "nbconvert_exporter": "python",
   "pygments_lexer": "ipython2",
   "version": "2.7.12"
  }
 },
 "nbformat": 4,
 "nbformat_minor": 0
}
