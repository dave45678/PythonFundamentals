{
 "cells": [
  {
   "cell_type": "code",
   "execution_count": 1,
   "metadata": {
    "collapsed": false
   },
   "outputs": [
    {
     "name": "stdout",
     "output_type": "stream",
     "text": [
      "2 4 8 "
     ]
    }
   ],
   "source": [
    "number = 2\n",
    "exponent  = 3\n",
    "product  = 1\n",
    "for eachPass in range(exponent):\n",
    "    product = product * number\n",
    "    print(product, end = \" \")"
   ]
  },
  {
   "cell_type": "code",
   "execution_count": null,
   "metadata": {
    "collapsed": false
   },
   "outputs": [],
   "source": [
    "'''\n",
    "page 30\n",
    "exercise 1.4.1\n",
    "Describe what happens when you enter \"Greetings!\" in the Python shell.\n",
    "'''\n",
    "\"Greetings!\"\n"
   ]
  },
  {
   "cell_type": "code",
   "execution_count": 1,
   "metadata": {
    "collapsed": false
   },
   "outputs": [
    {
     "name": "stdout",
     "output_type": "stream",
     "text": [
      "Please enter your name: Dave\n"
     ]
    }
   ],
   "source": [
    "#Write a line of code that prompts the user for his name and saves it in variable called 'name'\n",
    "name = input('Please enter your name: ')\n",
    "\n"
   ]
  },
  {
   "cell_type": "code",
   "execution_count": 3,
   "metadata": {
    "collapsed": false
   },
   "outputs": [
    {
     "ename": "SyntaxError",
     "evalue": "invalid syntax (<ipython-input-3-0cb15722ab7f>, line 1)",
     "output_type": "error",
     "traceback": [
      "\u001b[1;36m  File \u001b[1;32m\"<ipython-input-3-0cb15722ab7f>\"\u001b[1;36m, line \u001b[1;32m1\u001b[0m\n\u001b[1;33m    a = 2 +\u001b[0m\n\u001b[1;37m           ^\u001b[0m\n\u001b[1;31mSyntaxError\u001b[0m\u001b[1;31m:\u001b[0m invalid syntax\n"
     ]
    }
   ],
   "source": [
    "a = 2 +"
   ]
  },
  {
   "cell_type": "code",
   "execution_count": 4,
   "metadata": {
    "collapsed": false
   },
   "outputs": [
    {
     "data": {
      "text/plain": [
       "8"
      ]
     },
     "execution_count": 4,
     "metadata": {},
     "output_type": "execute_result"
    }
   ],
   "source": [
    "8"
   ]
  },
  {
   "cell_type": "code",
   "execution_count": 5,
   "metadata": {
    "collapsed": false
   },
   "outputs": [
    {
     "data": {
      "text/plain": [
       "16"
      ]
     },
     "execution_count": 5,
     "metadata": {},
     "output_type": "execute_result"
    }
   ],
   "source": [
    "8*2"
   ]
  },
  {
   "cell_type": "code",
   "execution_count": 6,
   "metadata": {
    "collapsed": false
   },
   "outputs": [
    {
     "data": {
      "text/plain": [
       "64"
      ]
     },
     "execution_count": 6,
     "metadata": {},
     "output_type": "execute_result"
    }
   ],
   "source": [
    "8**2"
   ]
  },
  {
   "cell_type": "code",
   "execution_count": 7,
   "metadata": {
    "collapsed": false
   },
   "outputs": [
    {
     "data": {
      "text/plain": [
       "0.6666666666666666"
      ]
     },
     "execution_count": 7,
     "metadata": {},
     "output_type": "execute_result"
    }
   ],
   "source": [
    "8/12"
   ]
  },
  {
   "cell_type": "code",
   "execution_count": 8,
   "metadata": {
    "collapsed": false
   },
   "outputs": [
    {
     "data": {
      "text/plain": [
       "0"
      ]
     },
     "execution_count": 8,
     "metadata": {},
     "output_type": "execute_result"
    }
   ],
   "source": [
    "8//12"
   ]
  },
  {
   "cell_type": "code",
   "execution_count": 9,
   "metadata": {
    "collapsed": false
   },
   "outputs": [
    {
     "ename": "ZeroDivisionError",
     "evalue": "division by zero",
     "output_type": "error",
     "traceback": [
      "\u001b[1;31m---------------------------------------------------------------------------\u001b[0m",
      "\u001b[1;31mZeroDivisionError\u001b[0m                         Traceback (most recent call last)",
      "\u001b[1;32m<ipython-input-9-ff90b89d4cfb>\u001b[0m in \u001b[0;36m<module>\u001b[1;34m()\u001b[0m\n\u001b[1;32m----> 1\u001b[1;33m \u001b[1;36m8\u001b[0m\u001b[1;33m/\u001b[0m\u001b[1;36m0\u001b[0m\u001b[1;33m\u001b[0m\u001b[0m\n\u001b[0m",
      "\u001b[1;31mZeroDivisionError\u001b[0m: division by zero"
     ]
    }
   ],
   "source": [
    "8/0"
   ]
  },
  {
   "cell_type": "code",
   "execution_count": 10,
   "metadata": {
    "collapsed": false
   },
   "outputs": [
    {
     "ename": "SyntaxError",
     "evalue": "invalid syntax (<ipython-input-10-5dc3cac0a058>, line 1)",
     "output_type": "error",
     "traceback": [
      "\u001b[1;36m  File \u001b[1;32m\"<ipython-input-10-5dc3cac0a058>\"\u001b[1;36m, line \u001b[1;32m1\u001b[0m\n\u001b[1;33m    8 mod 2\u001b[0m\n\u001b[1;37m        ^\u001b[0m\n\u001b[1;31mSyntaxError\u001b[0m\u001b[1;31m:\u001b[0m invalid syntax\n"
     ]
    }
   ],
   "source": [
    "8 mod 2"
   ]
  },
  {
   "cell_type": "code",
   "execution_count": 11,
   "metadata": {
    "collapsed": false
   },
   "outputs": [
    {
     "data": {
      "text/plain": [
       "0"
      ]
     },
     "execution_count": 11,
     "metadata": {},
     "output_type": "execute_result"
    }
   ],
   "source": [
    "8 % 2"
   ]
  },
  {
   "cell_type": "code",
   "execution_count": 12,
   "metadata": {
    "collapsed": false
   },
   "outputs": [
    {
     "data": {
      "text/plain": [
       "1"
      ]
     },
     "execution_count": 12,
     "metadata": {},
     "output_type": "execute_result"
    }
   ],
   "source": [
    "9%2"
   ]
  },
  {
   "cell_type": "code",
   "execution_count": 13,
   "metadata": {
    "collapsed": false
   },
   "outputs": [
    {
     "name": "stdout",
     "output_type": "stream",
     "text": [
      "dave\n",
      "4 main st.\n",
      "555-1212\n"
     ]
    }
   ],
   "source": [
    "print (\"dave\")\n",
    "print (\"4 main st.\")\n",
    "print (\"555-1212\")"
   ]
  },
  {
   "cell_type": "code",
   "execution_count": 1,
   "metadata": {
    "collapsed": false
   },
   "outputs": [
    {
     "data": {
      "text/plain": [
       "'Dave\\nWolf\\n4 main street\\n'"
      ]
     },
     "execution_count": 1,
     "metadata": {},
     "output_type": "execute_result"
    }
   ],
   "source": [
    "\"\"\"Dave\n",
    "Wolf\n",
    "4 main street\n",
    "\"\"\""
   ]
  },
  {
   "cell_type": "code",
   "execution_count": 2,
   "metadata": {
    "collapsed": false
   },
   "outputs": [
    {
     "data": {
      "text/plain": [
       "\"dave's things\""
      ]
     },
     "execution_count": 2,
     "metadata": {},
     "output_type": "execute_result"
    }
   ],
   "source": [
    "\"dave's things\""
   ]
  },
  {
   "cell_type": "code",
   "execution_count": 18,
   "metadata": {
    "collapsed": false
   },
   "outputs": [
    {
     "data": {
      "text/plain": [
       "\"dave's things\""
      ]
     },
     "execution_count": 18,
     "metadata": {},
     "output_type": "execute_result"
    }
   ],
   "source": [
    "'dave\\'s things'"
   ]
  },
  {
   "cell_type": "code",
   "execution_count": 3,
   "metadata": {
    "collapsed": false
   },
   "outputs": [
    {
     "ename": "SyntaxError",
     "evalue": "invalid syntax (<ipython-input-3-0606ff656c86>, line 1)",
     "output_type": "error",
     "traceback": [
      "\u001b[0;36m  File \u001b[0;32m\"<ipython-input-3-0606ff656c86>\"\u001b[0;36m, line \u001b[0;32m1\u001b[0m\n\u001b[0;31m    2More = 4\u001b[0m\n\u001b[0m        ^\u001b[0m\n\u001b[0;31mSyntaxError\u001b[0m\u001b[0;31m:\u001b[0m invalid syntax\n"
     ]
    }
   ],
   "source": [
    "2More = 4\n"
   ]
  },
  {
   "cell_type": "code",
   "execution_count": 4,
   "metadata": {
    "collapsed": false
   },
   "outputs": [
    {
     "ename": "NameError",
     "evalue": "name 'two' is not defined",
     "output_type": "error",
     "traceback": [
      "\u001b[0;31m---------------------------------------------------------------------------\u001b[0m",
      "\u001b[0;31mNameError\u001b[0m                                 Traceback (most recent call last)",
      "\u001b[0;32m<ipython-input-4-9abde93df4a9>\u001b[0m in \u001b[0;36m<module>\u001b[0;34m()\u001b[0m\n\u001b[0;32m----> 1\u001b[0;31m \u001b[0mtwo\u001b[0m\u001b[0;34m==\u001b[0m\u001b[0;36m2\u001b[0m\u001b[0;34m\u001b[0m\u001b[0m\n\u001b[0m",
      "\u001b[0;31mNameError\u001b[0m: name 'two' is not defined"
     ]
    }
   ],
   "source": [
    "two==2"
   ]
  },
  {
   "cell_type": "code",
   "execution_count": 5,
   "metadata": {
    "collapsed": false
   },
   "outputs": [
    {
     "data": {
      "text/plain": [
       "int"
      ]
     },
     "execution_count": 5,
     "metadata": {},
     "output_type": "execute_result"
    }
   ],
   "source": [
    "type(5)\n"
   ]
  },
  {
   "cell_type": "code",
   "execution_count": 22,
   "metadata": {
    "collapsed": false
   },
   "outputs": [
    {
     "data": {
      "text/plain": [
       "float"
      ]
     },
     "execution_count": 22,
     "metadata": {},
     "output_type": "execute_result"
    }
   ],
   "source": [
    "type(5.0)"
   ]
  },
  {
   "cell_type": "code",
   "execution_count": 7,
   "metadata": {
    "collapsed": false
   },
   "outputs": [
    {
     "ename": "SyntaxError",
     "evalue": "invalid syntax (<ipython-input-7-80ca1a895d9b>, line 1)",
     "output_type": "error",
     "traceback": [
      "\u001b[0;36m  File \u001b[0;32m\"<ipython-input-7-80ca1a895d9b>\"\u001b[0;36m, line \u001b[0;32m1\u001b[0m\n\u001b[0;31m    type 5l\u001b[0m\n\u001b[0m          ^\u001b[0m\n\u001b[0;31mSyntaxError\u001b[0m\u001b[0;31m:\u001b[0m invalid syntax\n"
     ]
    }
   ],
   "source": [
    "type 5l"
   ]
  },
  {
   "cell_type": "code",
   "execution_count": 24,
   "metadata": {
    "collapsed": false
   },
   "outputs": [
    {
     "data": {
      "text/plain": [
       "str"
      ]
     },
     "execution_count": 24,
     "metadata": {},
     "output_type": "execute_result"
    }
   ],
   "source": [
    "\n",
    "type(\"dave\")"
   ]
  },
  {
   "cell_type": "code",
   "execution_count": 25,
   "metadata": {
    "collapsed": false
   },
   "outputs": [
    {
     "ename": "NameError",
     "evalue": "name 'df' is not defined",
     "output_type": "error",
     "traceback": [
      "\u001b[1;31m---------------------------------------------------------------------------\u001b[0m",
      "\u001b[1;31mNameError\u001b[0m                                 Traceback (most recent call last)",
      "\u001b[1;32m<ipython-input-25-d57a54818e49>\u001b[0m in \u001b[0;36m<module>\u001b[1;34m()\u001b[0m\n\u001b[1;32m----> 1\u001b[1;33m \u001b[0mtype\u001b[0m\u001b[1;33m(\u001b[0m\u001b[0mdf\u001b[0m\u001b[1;33m)\u001b[0m\u001b[1;33m\u001b[0m\u001b[0m\n\u001b[0m",
      "\u001b[1;31mNameError\u001b[0m: name 'df' is not defined"
     ]
    }
   ],
   "source": [
    "type(df)"
   ]
  },
  {
   "cell_type": "code",
   "execution_count": 27,
   "metadata": {
    "collapsed": true
   },
   "outputs": [],
   "source": [
    "pi = 3.14"
   ]
  },
  {
   "cell_type": "code",
   "execution_count": 29,
   "metadata": {
    "collapsed": false
   },
   "outputs": [
    {
     "data": {
      "text/plain": [
       "float"
      ]
     },
     "execution_count": 29,
     "metadata": {},
     "output_type": "execute_result"
    }
   ],
   "source": [
    "type(pi)"
   ]
  },
  {
   "cell_type": "code",
   "execution_count": 30,
   "metadata": {
    "collapsed": false
   },
   "outputs": [
    {
     "ename": "SyntaxError",
     "evalue": "invalid token (<ipython-input-30-7bcde85a3497>, line 1)",
     "output_type": "error",
     "traceback": [
      "\u001b[1;36m  File \u001b[1;32m\"<ipython-input-30-7bcde85a3497>\"\u001b[1;36m, line \u001b[1;32m1\u001b[0m\n\u001b[1;33m    print(01)\u001b[0m\n\u001b[1;37m           ^\u001b[0m\n\u001b[1;31mSyntaxError\u001b[0m\u001b[1;31m:\u001b[0m invalid token\n"
     ]
    }
   ],
   "source": [
    "print(01)"
   ]
  },
  {
   "cell_type": "code",
   "execution_count": 32,
   "metadata": {
    "collapsed": false
   },
   "outputs": [
    {
     "ename": "SyntaxError",
     "evalue": "invalid token (<ipython-input-32-c05197c405e7>, line 1)",
     "output_type": "error",
     "traceback": [
      "\u001b[1;36m  File \u001b[1;32m\"<ipython-input-32-c05197c405e7>\"\u001b[1;36m, line \u001b[1;32m1\u001b[0m\n\u001b[1;33m    zipcode = 02942\u001b[0m\n\u001b[1;37m                  ^\u001b[0m\n\u001b[1;31mSyntaxError\u001b[0m\u001b[1;31m:\u001b[0m invalid token\n"
     ]
    }
   ],
   "source": [
    "zipcode = 02942"
   ]
  },
  {
   "cell_type": "code",
   "execution_count": 33,
   "metadata": {
    "collapsed": false
   },
   "outputs": [
    {
     "ename": "SyntaxError",
     "evalue": "invalid token (<ipython-input-33-18c8c8520b57>, line 1)",
     "output_type": "error",
     "traceback": [
      "\u001b[1;36m  File \u001b[1;32m\"<ipython-input-33-18c8c8520b57>\"\u001b[1;36m, line \u001b[1;32m1\u001b[0m\n\u001b[1;33m    print(02132)\u001b[0m\n\u001b[1;37m              ^\u001b[0m\n\u001b[1;31mSyntaxError\u001b[0m\u001b[1;31m:\u001b[0m invalid token\n"
     ]
    }
   ],
   "source": [
    "print(02132)"
   ]
  },
  {
   "cell_type": "code",
   "execution_count": 34,
   "metadata": {
    "collapsed": false
   },
   "outputs": [
    {
     "ename": "SyntaxError",
     "evalue": "invalid token (<ipython-input-34-7bcde85a3497>, line 1)",
     "output_type": "error",
     "traceback": [
      "\u001b[1;36m  File \u001b[1;32m\"<ipython-input-34-7bcde85a3497>\"\u001b[1;36m, line \u001b[1;32m1\u001b[0m\n\u001b[1;33m    print(01)\u001b[0m\n\u001b[1;37m           ^\u001b[0m\n\u001b[1;31mSyntaxError\u001b[0m\u001b[1;31m:\u001b[0m invalid token\n"
     ]
    }
   ],
   "source": [
    "print(01)"
   ]
  },
  {
   "cell_type": "code",
   "execution_count": 8,
   "metadata": {
    "collapsed": true
   },
   "outputs": [],
   "source": [
    "def main():\n",
    "    fahr = float(input(\"Enter the temperature in F: \"))\n",
    "    cel = (fahr - 32) * 5.0/9.0\n",
    "    print (\"the temperature in C is: \", cel)\n",
    "    "
   ]
  },
  {
   "cell_type": "code",
   "execution_count": 9,
   "metadata": {
    "collapsed": false
   },
   "outputs": [
    {
     "name": "stdout",
     "output_type": "stream",
     "text": [
      "Enter the temperature in F: 88\n",
      "('the temperature in C is: ', 31.11111111111111)\n"
     ]
    }
   ],
   "source": [
    "main()"
   ]
  },
  {
   "cell_type": "code",
   "execution_count": null,
   "metadata": {
    "collapsed": true
   },
   "outputs": [],
   "source": []
  },
  {
   "cell_type": "code",
   "execution_count": null,
   "metadata": {
    "collapsed": true
   },
   "outputs": [],
   "source": [
    "main()"
   ]
  },
  {
   "cell_type": "code",
   "execution_count": null,
   "metadata": {
    "collapsed": true
   },
   "outputs": [],
   "source": []
  },
  {
   "cell_type": "code",
   "execution_count": null,
   "metadata": {
    "collapsed": true
   },
   "outputs": [],
   "source": []
  },
  {
   "cell_type": "code",
   "execution_count": 43,
   "metadata": {
    "collapsed": true
   },
   "outputs": [],
   "source": [
    "import math"
   ]
  },
  {
   "cell_type": "code",
   "execution_count": 44,
   "metadata": {
    "collapsed": false
   },
   "outputs": [
    {
     "data": {
      "text/plain": [
       "['__doc__',\n",
       " '__loader__',\n",
       " '__name__',\n",
       " '__package__',\n",
       " '__spec__',\n",
       " 'acos',\n",
       " 'acosh',\n",
       " 'asin',\n",
       " 'asinh',\n",
       " 'atan',\n",
       " 'atan2',\n",
       " 'atanh',\n",
       " 'ceil',\n",
       " 'copysign',\n",
       " 'cos',\n",
       " 'cosh',\n",
       " 'degrees',\n",
       " 'e',\n",
       " 'erf',\n",
       " 'erfc',\n",
       " 'exp',\n",
       " 'expm1',\n",
       " 'fabs',\n",
       " 'factorial',\n",
       " 'floor',\n",
       " 'fmod',\n",
       " 'frexp',\n",
       " 'fsum',\n",
       " 'gamma',\n",
       " 'hypot',\n",
       " 'isfinite',\n",
       " 'isinf',\n",
       " 'isnan',\n",
       " 'ldexp',\n",
       " 'lgamma',\n",
       " 'log',\n",
       " 'log10',\n",
       " 'log1p',\n",
       " 'log2',\n",
       " 'modf',\n",
       " 'pi',\n",
       " 'pow',\n",
       " 'radians',\n",
       " 'sin',\n",
       " 'sinh',\n",
       " 'sqrt',\n",
       " 'tan',\n",
       " 'tanh',\n",
       " 'trunc']"
      ]
     },
     "execution_count": 44,
     "metadata": {},
     "output_type": "execute_result"
    }
   ],
   "source": [
    "dir(math)"
   ]
  },
  {
   "cell_type": "markdown",
   "metadata": {},
   "source": [
    "math.pi"
   ]
  },
  {
   "cell_type": "code",
   "execution_count": 1,
   "metadata": {
    "collapsed": false
   },
   "outputs": [
    {
     "ename": "NameError",
     "evalue": "name 'math' is not defined",
     "output_type": "error",
     "traceback": [
      "\u001b[1;31m---------------------------------------------------------------------------\u001b[0m",
      "\u001b[1;31mNameError\u001b[0m                                 Traceback (most recent call last)",
      "\u001b[1;32m<ipython-input-1-5074f3f6309d>\u001b[0m in \u001b[0;36m<module>\u001b[1;34m()\u001b[0m\n\u001b[1;32m----> 1\u001b[1;33m \u001b[0mhelp\u001b[0m\u001b[1;33m(\u001b[0m\u001b[0mmath\u001b[0m\u001b[1;33m.\u001b[0m\u001b[0msin\u001b[0m\u001b[1;33m)\u001b[0m\u001b[1;33m\u001b[0m\u001b[0m\n\u001b[0m",
      "\u001b[1;31mNameError\u001b[0m: name 'math' is not defined"
     ]
    }
   ],
   "source": [
    "help(math.sin)"
   ]
  },
  {
   "cell_type": "code",
   "execution_count": null,
   "metadata": {
    "collapsed": true
   },
   "outputs": [],
   "source": []
  },
  {
   "cell_type": "code",
   "execution_count": 3,
   "metadata": {
    "collapsed": false
   },
   "outputs": [],
   "source": [
    "#http://cs231n.github.io/python-numpy-tutorial/#python-basic\n",
    "\n",
    "import numpy as np\n",
    "import pandas as pd\n",
    "import pylab as pl"
   ]
  },
  {
   "cell_type": "code",
   "execution_count": 5,
   "metadata": {
    "collapsed": false
   },
   "outputs": [
    {
     "name": "stdout",
     "output_type": "stream",
     "text": [
      "<class 'numpy.ndarray'>\n",
      "(3,)\n",
      "1 2 3\n",
      "[5 2 3]\n"
     ]
    }
   ],
   "source": [
    "a = np.array([1, 2, 3])  # Create a rank 1 array\n",
    "print(type(a))            # Prints \"<type 'numpy.ndarray'>\"\n",
    "print(a.shape)            # Prints \"(3,)\"\n",
    "print(a[0], a[1], a[2])   # Prints \"1 2 3\"\n",
    "a[0] = 5                 # Change an element of the array\n",
    "print(a)                  # Prints \"[5, 2, 3]\""
   ]
  },
  {
   "cell_type": "code",
   "execution_count": 6,
   "metadata": {
    "collapsed": false
   },
   "outputs": [
    {
     "ename": "AttributeError",
     "evalue": "'module' object has no attribute 'urlopen'",
     "output_type": "error",
     "traceback": [
      "\u001b[1;31m---------------------------------------------------------------------------\u001b[0m",
      "\u001b[1;31mAttributeError\u001b[0m                            Traceback (most recent call last)",
      "\u001b[1;32m<ipython-input-6-94e839d6dcd1>\u001b[0m in \u001b[0;36m<module>\u001b[1;34m()\u001b[0m\n\u001b[0;32m      2\u001b[0m \u001b[1;33m\u001b[0m\u001b[0m\n\u001b[0;32m      3\u001b[0m \u001b[0madj\u001b[0m \u001b[1;33m=\u001b[0m \u001b[1;34m\"https://cs.leanderisd.org/txt/adjectives.txt\"\u001b[0m\u001b[1;33m\u001b[0m\u001b[0m\n\u001b[1;32m----> 4\u001b[1;33m \u001b[0mf\u001b[0m \u001b[1;33m=\u001b[0m \u001b[0murllib\u001b[0m\u001b[1;33m.\u001b[0m\u001b[0murlopen\u001b[0m\u001b[1;33m(\u001b[0m\u001b[0madj\u001b[0m\u001b[1;33m)\u001b[0m\u001b[1;33m\u001b[0m\u001b[0m\n\u001b[0m\u001b[0;32m      5\u001b[0m \u001b[0mmyfile\u001b[0m \u001b[1;33m=\u001b[0m \u001b[0mf\u001b[0m\u001b[1;33m.\u001b[0m\u001b[0mread\u001b[0m\u001b[1;33m(\u001b[0m\u001b[1;33m)\u001b[0m\u001b[1;33m\u001b[0m\u001b[0m\n\u001b[0;32m      6\u001b[0m \u001b[0mprint\u001b[0m\u001b[1;33m(\u001b[0m\u001b[0mmyfile\u001b[0m\u001b[1;33m)\u001b[0m\u001b[1;33m\u001b[0m\u001b[0m\n",
      "\u001b[1;31mAttributeError\u001b[0m: 'module' object has no attribute 'urlopen'"
     ]
    }
   ],
   "source": [
    "import urllib\n",
    "\n",
    "adj = \"https://cs.leanderisd.org/txt/adjectives.txt\"\n",
    "f = urllib.urlopen(adj)\n",
    "myfile = f.read()\n",
    "print(myfile)"
   ]
  },
  {
   "cell_type": "code",
   "execution_count": 7,
   "metadata": {
    "collapsed": false
   },
   "outputs": [
    {
     "name": "stdout",
     "output_type": "stream",
     "text": [
      "Help on package urllib:\n",
      "\n",
      "NAME\n",
      "    urllib\n",
      "\n",
      "PACKAGE CONTENTS\n",
      "    error\n",
      "    parse\n",
      "    request\n",
      "    response\n",
      "    robotparser\n",
      "\n",
      "FILE\n",
      "    c:\\anaconda3\\lib\\urllib\\__init__.py\n",
      "\n",
      "\n"
     ]
    }
   ],
   "source": [
    "help(urllib)"
   ]
  },
  {
   "cell_type": "code",
   "execution_count": 8,
   "metadata": {
    "collapsed": false
   },
   "outputs": [
    {
     "name": "stdout",
     "output_type": "stream",
     "text": [
      "Help on package requests:\n",
      "\n",
      "NAME\n",
      "    requests\n",
      "\n",
      "DESCRIPTION\n",
      "    requests HTTP library\n",
      "    ~~~~~~~~~~~~~~~~~~~~~\n",
      "    \n",
      "    Requests is an HTTP library, written in Python, for human beings. Basic GET\n",
      "    usage:\n",
      "    \n",
      "       >>> import requests\n",
      "       >>> r = requests.get('https://www.python.org')\n",
      "       >>> r.status_code\n",
      "       200\n",
      "       >>> 'Python is a programming language' in r.content\n",
      "       True\n",
      "    \n",
      "    ... or POST:\n",
      "    \n",
      "       >>> payload = dict(key1='value1', key2='value2')\n",
      "       >>> r = requests.post('http://httpbin.org/post', data=payload)\n",
      "       >>> print(r.text)\n",
      "       {\n",
      "         ...\n",
      "         \"form\": {\n",
      "           \"key2\": \"value2\",\n",
      "           \"key1\": \"value1\"\n",
      "         },\n",
      "         ...\n",
      "       }\n",
      "    \n",
      "    The other HTTP methods are supported - see `requests.api`. Full documentation\n",
      "    is at <http://python-requests.org>.\n",
      "    \n",
      "    :copyright: (c) 2015 by Kenneth Reitz.\n",
      "    :license: Apache 2.0, see LICENSE for more details.\n",
      "\n",
      "PACKAGE CONTENTS\n",
      "    adapters\n",
      "    api\n",
      "    auth\n",
      "    certs\n",
      "    compat\n",
      "    cookies\n",
      "    exceptions\n",
      "    hooks\n",
      "    models\n",
      "    packages (package)\n",
      "    sessions\n",
      "    status_codes\n",
      "    structures\n",
      "    utils\n",
      "\n",
      "DATA\n",
      "    __build__ = 132864\n",
      "    __copyright__ = 'Copyright 2015 Kenneth Reitz'\n",
      "    __license__ = 'Apache 2.0'\n",
      "    __title__ = 'requests'\n",
      "    codes = <lookup 'status_codes'>\n",
      "\n",
      "VERSION\n",
      "    2.7.0\n",
      "\n",
      "AUTHOR\n",
      "    Kenneth Reitz\n",
      "\n",
      "FILE\n",
      "    c:\\anaconda3\\lib\\site-packages\\requests\\__init__.py\n",
      "\n",
      "\n"
     ]
    }
   ],
   "source": [
    "import requests\n",
    "help(requests)"
   ]
  },
  {
   "cell_type": "code",
   "execution_count": 10,
   "metadata": {
    "collapsed": true
   },
   "outputs": [],
   "source": [
    "r = requests.get('https://cs.leanderisd.org/txt/adjectives.txt')"
   ]
  },
  {
   "cell_type": "code",
   "execution_count": 11,
   "metadata": {
    "collapsed": false
   },
   "outputs": [
    {
     "data": {
      "text/plain": [
       "<bound method Response.json of <Response [200]>>"
      ]
     },
     "execution_count": 11,
     "metadata": {},
     "output_type": "execute_result"
    }
   ],
   "source": [
    "r.json"
   ]
  },
  {
   "cell_type": "code",
   "execution_count": 12,
   "metadata": {
    "collapsed": false
   },
   "outputs": [
    {
     "data": {
      "text/plain": [
       "'ISO-8859-1'"
      ]
     },
     "execution_count": 12,
     "metadata": {},
     "output_type": "execute_result"
    }
   ],
   "source": [
    "r.encoding"
   ]
  },
  {
   "cell_type": "code",
   "execution_count": 18,
   "metadata": {
    "collapsed": false
   },
   "outputs": [
    {
     "name": "stdout",
     "output_type": "stream",
     "text": [
      "1124\n",
      "able\n",
      "abnormal\n",
      "above\n",
      "absent\n",
      "absolute\n",
      "abstract\n",
      "absurd\n",
      "academic\n",
      "acceptable\n",
      "accessible\n",
      "accounting\n",
      "accurate\n",
      "accused\n",
      "active\n",
      "actual\n",
      "acute\n",
      "added\n",
      "additional\n",
      "adequate\n",
      "adjacent\n",
      "administrative\n",
      "adult\n",
      "advanced\n",
      "adverse\n",
      "advisory\n",
      "aesthetic\n",
      "afraid\n",
      "aggregate\n",
      "aggressive\n",
      "agreed\n",
      "agricultural\n",
      "alert\n",
      "alien\n",
      "alive\n",
      "alleged\n",
      "allied\n",
      "alone\n",
      "alright\n",
      "alternative\n",
      "amateur\n",
      "amazing\n",
      "ambiguous\n",
      "ambitious\n",
      "ample\n",
      "ancient\n",
      "angry\n",
      "annual\n",
      "anonymous\n",
      "anxious\n",
      "appalling\n",
      "apparent\n",
      "applicable\n",
      "applied\n",
      "appointed\n",
      "appropriate\n",
      "approved\n",
      "arbitrary\n",
      "archaeological\n",
      "architectural\n",
      "armed\n",
      "artificial\n",
      "artistic\n",
      "ashamed\n",
      "asleep\n",
      "assistant\n",
      "associated\n",
      "astonishing\n",
      "atomic\n",
      "attempted\n",
      "attractive\n",
      "automatic\n",
      "autonomous\n",
      "available\n",
      "average\n",
      "awake\n",
      "aware\n",
      "awful\n",
      "awkward\n",
      "back\n",
      "bad\n",
      "balanced\n",
      "bare\n",
      "basic\n",
      "beautiful\n",
      "beneficial\n",
      "big\n",
      "binding\n",
      "biological\n",
      "bitter\n",
      "bizarre\n",
      "black\n",
      "blank\n",
      "bleak\n",
      "blind\n",
      "blonde\n",
      "bloody\n",
      "blue\n",
      "bodily\n",
      "bold\n",
      "bored\n",
      "boring\n",
      "bottom\n",
      "bourgeois\n",
      "brave\n",
      "brief\n",
      "bright\n",
      "brilliant\n",
      "broad\n",
      "broken\n",
      "brown\n",
      "bureaucratic\n",
      "burning\n",
      "busy\n",
      "calm\n",
      "capable\n",
      "capital\n",
      "careful\n",
      "casual\n",
      "causal\n",
      "cautious\n",
      "central\n",
      "certain\n",
      "changing\n",
      "characteristic\n",
      "charming\n",
      "cheap\n",
      "cheerful\n",
      "chemical\n",
      "chief\n",
      "chosen\n",
      "chronic\n",
      "circular\n",
      "civic\n",
      "civil\n",
      "civilian\n",
      "classic\n",
      "classical\n",
      "clean\n",
      "clear\n",
      "clerical\n",
      "clever\n",
      "clinical\n",
      "close\n",
      "closed\n",
      "cooperative\n",
      "coastal\n",
      "cognitive\n",
      "coherent\n",
      "cold\n",
      "collective\n",
      "colonial\n",
      "color-blind\n",
      "colorful\n",
      "combined\n",
      "comfortable\n",
      "coming\n",
      "commercial\n",
      "common\n",
      "communist\n",
      "comparable\n",
      "comparative\n",
      "compatible\n",
      "competent\n",
      "competitive\n",
      "complementary\n",
      "complete\n",
      "complex\n",
      "complicated\n",
      "comprehensive\n",
      "compulsory\n",
      "conceptual\n",
      "concerned\n",
      "concrete\n",
      "confident\n",
      "confidential\n",
      "conscious\n",
      "conservative\n",
      "considerable\n",
      "consistent\n",
      "constant\n",
      "constitutional\n",
      "constructive\n",
      "contemporary\n",
      "content\n",
      "continental\n",
      "continued\n",
      "continuing\n",
      "continuous\n",
      "contractual\n",
      "contrary\n",
      "controlled\n",
      "controversial\n",
      "convenient\n",
      "conventional\n",
      "convincing\n",
      "cool\n",
      "corporate\n",
      "correct\n",
      "corresponding\n",
      "costly\n",
      "crazy\n",
      "creative\n",
      "criminal\n",
      "critical\n",
      "crucial\n",
      "crude\n",
      "cruel\n",
      "cultural\n",
      "curious\n",
      "current\n",
      "daily\n",
      "damaging\n",
      "damp\n",
      "dangerous\n",
      "dark\n",
      "dead\n",
      "deadly\n",
      "deaf\n",
      "dear\n",
      "decent\n",
      "decisive\n",
      "decorative\n",
      "deep\n",
      "defensive\n",
      "definite\n",
      "deliberate\n",
      "delicate\n",
      "delicious\n",
      "delighted\n",
      "delightful\n",
      "democratic\n",
      "dense\n",
      "departmental\n",
      "dependent\n",
      "depending\n",
      "depressed\n",
      "desirable\n",
      "desired\n",
      "desperate\n",
      "detailed\n",
      "determined\n",
      "developed\n",
      "developing\n",
      "devoted\n",
      "different\n",
      "differential\n",
      "difficult\n",
      "digital\n",
      "diplomatic\n",
      "direct\n",
      "dirty\n",
      "disabled\n",
      "disastrous\n",
      "disciplinary\n",
      "distant\n",
      "distinct\n",
      "distinctive\n",
      "distinguished\n",
      "distributed\n",
      "diverse\n",
      "divine\n",
      "domestic\n",
      "dominant\n",
      "double\n",
      "doubtful\n",
      "dramatic\n",
      "dreadful\n",
      "driving\n",
      "drunk\n",
      "dry\n",
      "dual\n",
      "due\n",
      "dull\n",
      "dynamic\n",
      "eager\n",
      "early\n",
      "eastern\n",
      "easy\n",
      "economic\n",
      "educational\n",
      "effective\n",
      "efficient\n",
      "elaborate\n",
      "elderly\n",
      "elected\n",
      "electoral\n",
      "electric\n",
      "electrical\n",
      "electronic\n",
      "elegant\n",
      "eligible\n",
      "embarrassed\n",
      "embarrassing\n",
      "emotional\n",
      "empirical\n",
      "empty\n",
      "encouraging\n",
      "endless\n",
      "enhanced\n",
      "enjoyable\n",
      "enormous\n",
      "enthusiastic\n",
      "entire\n",
      "environmental\n",
      "equal\n",
      "equivalent\n",
      "essential\n",
      "established\n",
      "estimated\n",
      "eternal\n",
      "ethical\n",
      "ethnic\n",
      "eventual\n",
      "everyday\n",
      "evident\n",
      "evil\n",
      "evolutionary\n",
      "exact\n",
      "excellent\n",
      "exceptional\n",
      "excess\n",
      "excessive\n",
      "excited\n",
      "exciting\n",
      "exclusive\n",
      "executive\n",
      "existing\n",
      "exotic\n",
      "expected\n",
      "expensive\n",
      "experienced\n",
      "experimental\n",
      "expert\n",
      "explicit\n",
      "express\n",
      "extended\n",
      "extensive\n",
      "external\n",
      "extra\n",
      "extraordinary\n",
      "extreme\n",
      "faint\n",
      "fair\n",
      "faithful\n",
      "false\n",
      "familiar\n",
      "famous\n",
      "fantastic\n",
      "far\n",
      "fascinating\n",
      "fashionable\n",
      "fast\n",
      "fat\n",
      "fatal\n",
      "favorable\n",
      "favorite\n",
      "feasible\n",
      "federal\n",
      "fellow\n",
      "female\n",
      "feminine\n",
      "fierce\n",
      "final\n",
      "financial\n",
      "fine\n",
      "finished\n",
      "firm\n",
      "first\n",
      "fiscal\n",
      "fit\n",
      "fixed\n",
      "flat\n",
      "flexible\n",
      "following\n",
      "fond\n",
      "foolish\n",
      "foreign\n",
      "formal\n",
      "formidable\n",
      "forthcoming\n",
      "fortunate\n",
      "forward\n",
      "fragile\n",
      "free\n",
      "frequent\n",
      "fresh\n",
      "friendly\n",
      "frightened\n",
      "front\n",
      "frozen\n",
      "futile\n",
      "full\n",
      "full-time\n",
      "fun\n",
      "functional\n",
      "fundamental\n",
      "funny\n",
      "furious\n",
      "future\n",
      "gastric\n",
      "gay\n",
      "general\n",
      "generous\n",
      "genetic\n",
      "gentle\n",
      "genuine\n",
      "geographical\n",
      "geological\n",
      "giant\n",
      "given\n",
      "glad\n",
      "global\n",
      "glorious\n",
      "gold\n",
      "golden\n",
      "good\n",
      "gothic\n",
      "gradual\n",
      "grammatical\n",
      "grand\n",
      "grateful\n",
      "grave\n",
      "great\n",
      "green\n",
      "gray\n",
      "grim\n",
      "gross\n",
      "growing\n",
      "guilty\n",
      "handicapped\n",
      "handsome\n",
      "handy\n",
      "happy\n",
      "hard\n",
      "harmful\n",
      "harsh\n",
      "head\n",
      "healthy\n",
      "heavy\n",
      "helpful\n",
      "helpless\n",
      "hidden\n",
      "high\n",
      "historic\n",
      "historical\n",
      "holy\n",
      "homeless\n",
      "homogenous\n",
      "honest\n",
      "honorable\n",
      "horizontal\n",
      "horrible\n",
      "hostile\n",
      "hot\n",
      "huge\n",
      "human\n",
      "humble\n",
      "hungry\n",
      "ideal\n",
      "identical\n",
      "ideological\n",
      "ill\n",
      "illegal\n",
      "imaginative\n",
      "immediate\n",
      "immense\n",
      "imminent\n",
      "immune\n",
      "imperial\n",
      "implicit\n",
      "important\n",
      "impossible\n",
      "impressive\n",
      "improved\n",
      "inadequate\n",
      "inappropriate\n",
      "incapable\n",
      "inclined\n",
      "increased\n",
      "increasing\n",
      "incredible\n",
      "independent\n",
      "indigenous\n",
      "indirect\n",
      "individual\n",
      "indoor\n",
      "industrial\n",
      "inevitable\n",
      "infinite\n",
      "influential\n",
      "informal\n",
      "inherent\n",
      "initial\n",
      "injured\n",
      "inland\n",
      "inner\n",
      "innocent\n",
      "innovative\n",
      "instant\n",
      "institutional\n",
      "instrumental\n",
      "insufficient\n",
      "intact\n",
      "integral\n",
      "integrated\n",
      "intellectual\n",
      "intelligent\n",
      "intense\n",
      "intensive\n",
      "intent\n",
      "interactive\n",
      "interested\n",
      "interesting\n",
      "interim\n",
      "interior\n",
      "intermediate\n",
      "internal\n",
      "international\n",
      "intimate\n",
      "invaluable\n",
      "invisible\n",
      "involved\n",
      "irrelevant\n",
      "irrespective\n",
      "isolated\n",
      "jealous\n",
      "joint\n",
      "judicial\n",
      "junior\n",
      "just\n",
      "justified\n",
      "keen\n",
      "key\n",
      "kind\n",
      "known\n",
      "labor\n",
      "lacking\n",
      "large\n",
      "large-scale\n",
      "last\n",
      "late\n",
      "Latin\n",
      "lay\n",
      "lazy\n",
      "leading\n",
      "left\n",
      "legal\n",
      "legislative\n",
      "legitimate\n",
      "lengthy\n",
      "lesser\n",
      "level\n",
      "lexical\n",
      "liable\n",
      "liberal\n",
      "light\n",
      "like\n",
      "likely\n",
      "limited\n",
      "linear\n",
      "linguistic\n",
      "liquid\n",
      "literary\n",
      "little\n",
      "live\n",
      "lively\n",
      "living\n",
      "local\n",
      "logical\n",
      "lone\n",
      "lonely\n",
      "long\n",
      "long-term\n",
      "loose\n",
      "lost\n",
      "loud\n",
      "lovely\n",
      "low\n",
      "loyal\n",
      "lucky\n",
      "luxury\n",
      "mad\n",
      "magic\n",
      "magical\n",
      "magnetic\n",
      "magnificent\n",
      "main\n",
      "major\n",
      "male\n",
      "managerial\n",
      "managing\n",
      "mandatory\n",
      "manual\n",
      "manufacturing\n",
      "marginal\n",
      "marine\n",
      "marked\n",
      "married\n",
      "marvelous\n",
      "mass\n",
      "massive\n",
      "material\n",
      "mathematical\n",
      "mature\n",
      "maximum\n",
      "mean\n",
      "meaningful\n",
      "mechanical\n",
      "medical\n",
      "medieval\n",
      "medium\n",
      "memorable\n",
      "mental\n",
      "mere\n",
      "metropolitan\n",
      "mid\n",
      "middle\n",
      "middle-class\n",
      "mighty\n",
      "mild\n",
      "military\n",
      "minimal\n",
      "minimum\n",
      "ministerial\n",
      "minor\n",
      "minute\n",
      "miserable\n",
      "misleading\n",
      "missing\n",
      "mixed\n",
      "mobile\n",
      "moderate\n",
      "modern\n",
      "modest\n",
      "molecular\n",
      "monetary\n",
      "monthly\n",
      "moral\n",
      "moving\n",
      "multiple\n",
      "municipal\n",
      "musical\n",
      "mutual\n",
      "mysterious\n",
      "naked\n",
      "narrow\n",
      "nasty\n",
      "national\n",
      "native\n",
      "natural\n",
      "naval\n",
      "near\n",
      "nearby\n",
      "neat\n",
      "necessary\n",
      "negative\n",
      "neighboring\n",
      "nervous\n",
      "net\n",
      "neutral\n",
      "new\n",
      "nice\n",
      "noble\n",
      "noisy\n",
      "nominal\n",
      "normal\n",
      "northern\n",
      "notable\n",
      "noticeable\n",
      "notorious\n",
      "novel\n",
      "nuclear\n",
      "numerous\n",
      "nursing\n",
      "objective\n",
      "obscure\n",
      "obvious\n",
      "occasional\n",
      "occupational\n",
      "odd\n",
      "offensive\n",
      "official\n",
      "okay\n",
      "old\n",
      "old-fashioned\n",
      "only\n",
      "open\n",
      "operational\n",
      "opposed\n",
      "opposite\n",
      "optical\n",
      "optimistic\n",
      "optional\n",
      "oral\n",
      "orange\n",
      "ordinary\n",
      "organic\n",
      "organizational\n",
      "organizational\n",
      "original\n",
      "orthodox\n",
      "other\n",
      "outdoor\n",
      "outer\n",
      "outside\n",
      "outstanding\n",
      "overall\n",
      "overseas\n",
      "overwhelming\n",
      "paid\n",
      "painful\n",
      "pale\n",
      "papal\n",
      "parallel\n",
      "parental\n",
      "parliamentary\n",
      "part-time\n",
      "partial\n",
      "particular\n",
      "passionate\n",
      "passive\n",
      "past\n",
      "patient\n",
      "payable\n",
      "peaceful\n",
      "peculiar\n",
      "perceived\n",
      "perfect\n",
      "permanent\n",
      "persistent\n",
      "personal\n",
      "petty\n",
      "philosophical\n",
      "photographic\n",
      "physical\n",
      "pink\n",
      "plain\n",
      "planned\n",
      "plausible\n",
      "pleasant\n",
      "pleased\n",
      "polish\n",
      "polite\n",
      "political\n",
      "poor\n",
      "popular\n",
      "portable\n",
      "positive\n",
      "possible\n",
      "post-war\n",
      "potential\n",
      "powerful\n",
      "practical\n",
      "precious\n",
      "precise\n",
      "predictable\n",
      "preferred\n",
      "pregnant\n",
      "preliminary\n",
      "premature\n",
      "premier\n",
      "present\n",
      "presidential\n",
      "pretty\n",
      "previous\n",
      "primary\n",
      "prime\n",
      "primitive\n",
      "principal\n",
      "printed\n",
      "prior\n",
      "private\n",
      "privileged\n",
      "probable\n",
      "productive\n",
      "professional\n",
      "profitable\n",
      "profound\n",
      "progressive\n",
      "prolonged\n",
      "prominent\n",
      "prone\n",
      "proper\n",
      "proportional\n",
      "proposed\n",
      "prospective\n",
      "protective\n",
      "proud\n",
      "provincial\n",
      "provisional\n",
      "psychiatric\n",
      "psychological\n",
      "public\n",
      "pure\n",
      "purple\n",
      "qualified\n",
      "quantitative\n",
      "quick\n",
      "quiet\n",
      "racial\n",
      "radical\n",
      "raised\n",
      "random\n",
      "rapid\n",
      "rare\n",
      "rational\n",
      "raw\n",
      "ready\n",
      "real\n",
      "realistic\n",
      "rear\n",
      "reasonable\n",
      "recent\n",
      "red\n",
      "reduced\n",
      "redundant\n",
      "regional\n",
      "regular\n",
      "regulatory\n",
      "related\n",
      "relative\n",
      "relevant\n",
      "reliable\n",
      "religious\n",
      "reluctant\n",
      "remaining\n",
      "remarkable\n",
      "remote\n",
      "renewed\n",
      "repeated\n",
      "representative\n",
      "required\n",
      "resident\n",
      "residential\n",
      "respectable\n",
      "respective\n",
      "responsible\n",
      "restricted\n",
      "restrictive\n",
      "resulting\n",
      "retail\n",
      "retired\n",
      "revised\n",
      "revolutionary\n",
      "rich\n",
      "ridiculous\n",
      "right\n",
      "rigid\n",
      "rising\n",
      "rival\n",
      "romantic\n",
      "rotten\n",
      "rough\n",
      "round\n",
      "royal\n",
      "rubber\n",
      "rude\n",
      "ruling\n",
      "running\n",
      "rural\n",
      "sacred\n",
      "sad\n",
      "safe\n",
      "satisfactory\n",
      "satisfied\n",
      "scared\n",
      "scientific\n",
      "seasonal\n",
      "secondary\n",
      "secret\n",
      "secular\n",
      "secure\n",
      "select\n",
      "selected\n",
      "selective\n",
      "semantic\n",
      "senior\n",
      "sensible\n",
      "sensitive\n",
      "separate\n",
      "serious\n",
      "severe\n",
      "sensational\n",
      "shallow\n",
      "shared\n",
      "sharp\n",
      "sheer\n",
      "shocked\n",
      "short\n",
      "short-term\n",
      "shy\n",
      "sick\n",
      "significant\n",
      "silent\n",
      "silly\n",
      "silver\n",
      "similar\n",
      "simple\n",
      "single\n",
      "skilled\n",
      "sleeping\n",
      "slight\n",
      "slim\n",
      "slow\n",
      "small\n",
      "smart\n",
      "smooth\n",
      "so-called\n",
      "social\n",
      "socialist\n",
      "sociological\n",
      "soft\n",
      "solar\n",
      "sole\n",
      "solid\n",
      "sophisticated\n",
      "sore\n",
      "sorry\n",
      "sound\n",
      "southern\n",
      "spare\n",
      "spatial\n",
      "special\n",
      "specialist\n",
      "specific\n",
      "specified\n",
      "spectacular\n",
      "spiritual\n",
      "splendid\n",
      "spoken\n",
      "spontaneous\n",
      "square\n",
      "stable\n",
      "standard\n",
      "static\n",
      "statistical\n",
      "statutory\n",
      "steady\n",
      "steep\n",
      "sterling\n",
      "sticky\n",
      "stiff\n",
      "still\n",
      "stolen\n",
      "straight\n",
      "straightforward\n",
      "strange\n",
      "strategic\n",
      "strict\n",
      "striking\n",
      "strong\n",
      "structural\n",
      "stunning\n",
      "stupid\n",
      "subject\n",
      "subjective\n",
      "subsequent\n",
      "substantial\n",
      "substantive\n",
      "subtle\n",
      "successful\n",
      "successive\n",
      "sudden\n",
      "sufficient\n",
      "suitable\n",
      "sunny\n",
      "super\n",
      "superb\n",
      "superior\n",
      "supplementary\n",
      "supporting\n",
      "supposed\n",
      "supreme\n",
      "sure\n",
      "surplus\n",
      "surprised\n",
      "surprising\n",
      "surrounding\n",
      "suspicious\n",
      "sweet\n",
      "swift\n",
      "symbolic\n",
      "sympathetic\n",
      "syntactic\n",
      "systematic\n",
      "talented\n",
      "tall\n",
      "technical\n",
      "technological\n",
      "teenage\n",
      "temporary\n",
      "tender\n",
      "tense\n",
      "terminal\n",
      "terrible\n",
      "territorial\n",
      "theoretical\n",
      "thick\n",
      "thin\n",
      "thinking\n",
      "thorough\n",
      "tight\n",
      "tiny\n",
      "tired\n",
      "top\n",
      "total\n",
      "tough\n",
      "toxic\n",
      "trading\n",
      "traditional\n",
      "tragic\n",
      "trained\n",
      "tremendous\n",
      "trivial\n",
      "tropical\n",
      "true\n",
      "typical\n",
      "ugly\n",
      "ultimate\n",
      "unable\n",
      "unacceptable\n",
      "unaware\n",
      "uncertain\n",
      "unchanged\n",
      "unclear\n",
      "uncomfortable\n",
      "unconscious\n",
      "underground\n",
      "underlying\n",
      "understandable\n",
      "uneasy\n",
      "unemployed\n",
      "unexpected\n",
      "unfair\n",
      "unfamiliar\n",
      "unfortunate\n",
      "unhappy\n",
      "uniform\n",
      "unique\n",
      "united\n",
      "universal\n",
      "unknown\n",
      "unlawful\n",
      "unlike\n",
      "unlikely\n",
      "unnecessary\n",
      "unpleasant\n",
      "unprecedented\n",
      "unreasonable\n",
      "unsuccessful\n",
      "unusual\n",
      "unwanted\n",
      "unwilling\n",
      "up-to-date\n",
      "upper\n",
      "upset\n",
      "urban\n",
      "urgent\n",
      "used\n",
      "useful\n",
      "useless\n",
      "usual\n",
      "vacant\n",
      "vague\n",
      "valid\n",
      "valuable\n",
      "variable\n",
      "varied\n",
      "various\n",
      "varying\n",
      "vast\n",
      "verbal\n",
      "vertical\n",
      "very\n",
      "viable\n",
      "vicious\n",
      "video-taped\n",
      "vigorous\n",
      "violent\n",
      "virtual\n",
      "visible\n",
      "visual\n",
      "vital\n",
      "vivid\n",
      "vocational\n",
      "voluntary\n",
      "vulnerable\n",
      "waiting\n",
      "walking\n",
      "warm\n",
      "wary\n",
      "waste\n",
      "weak\n",
      "wealthy\n",
      "wee\n",
      "weekly\n",
      "weird\n",
      "welcome\n",
      "well\n",
      "well-known\n",
      "western\n",
      "wet\n",
      "white\n",
      "whole\n",
      "wicked\n",
      "wide\n",
      "widespread\n",
      "wild\n",
      "willing\n",
      "winning\n",
      "wise\n",
      "wonderful\n",
      "wooden\n",
      "working\n",
      "working-class\n",
      "worldwide\n",
      "worried\n",
      "worrying\n",
      "worthwhile\n",
      "worthy\n",
      "written\n",
      "wrong\n",
      "xanthous\n",
      "yellow\n",
      "young\n",
      "zealous\n",
      "//\n",
      "This\n",
      "list\n",
      "of\n",
      "adjectives\n",
      "was\n",
      "shamefully\n",
      "stolen\n",
      "from\n",
      "http://creativityforyou.com/nounadj.js\n",
      "//\n",
      "Plus\n",
      "entries\n",
      "beginning\n",
      "with\n",
      "'x'\n",
      "and\n",
      "'z'\n",
      "thanks\n",
      "to\n",
      "Jack\n",
      "S\n",
      "(2015)\n"
     ]
    }
   ],
   "source": [
    "words = r.text.split()\n",
    "for word in words:\n",
    "    print(word)\n",
    "\n",
    "    "
   ]
  },
  {
   "cell_type": "code",
   "execution_count": 24,
   "metadata": {
    "collapsed": false
   },
   "outputs": [
    {
     "data": {
      "text/plain": [
       "'abnormal'"
      ]
     },
     "execution_count": 24,
     "metadata": {},
     "output_type": "execute_result"
    }
   ],
   "source": [
    "words[2] \n"
   ]
  },
  {
   "cell_type": "code",
   "execution_count": 38,
   "metadata": {
    "collapsed": false
   },
   "outputs": [
    {
     "data": {
      "text/plain": [
       "'crazy'"
      ]
     },
     "execution_count": 38,
     "metadata": {},
     "output_type": "execute_result"
    }
   ],
   "source": [
    "import random as rnd\n",
    "words[rnd.randint(0,len(words))]"
   ]
  },
  {
   "cell_type": "code",
   "execution_count": null,
   "metadata": {
    "collapsed": true
   },
   "outputs": [],
   "source": [
    "'''\n",
    "lambda tutorials\n",
    "'''\n",
    "#https://pythonconquerstheuniverse.wordpress.com/2011/08/29/lambda_tutorial/"
   ]
  },
  {
   "cell_type": "code",
   "execution_count": null,
   "metadata": {
    "collapsed": true
   },
   "outputs": [],
   "source": []
  },
  {
   "cell_type": "code",
   "execution_count": null,
   "metadata": {
    "collapsed": true
   },
   "outputs": [],
   "source": []
  },
  {
   "cell_type": "code",
   "execution_count": null,
   "metadata": {
    "collapsed": true
   },
   "outputs": [],
   "source": []
  },
  {
   "cell_type": "code",
   "execution_count": null,
   "metadata": {
    "collapsed": true
   },
   "outputs": [],
   "source": []
  },
  {
   "cell_type": "code",
   "execution_count": null,
   "metadata": {
    "collapsed": true
   },
   "outputs": [],
   "source": []
  },
  {
   "cell_type": "code",
   "execution_count": null,
   "metadata": {
    "collapsed": true
   },
   "outputs": [],
   "source": []
  },
  {
   "cell_type": "code",
   "execution_count": null,
   "metadata": {
    "collapsed": true
   },
   "outputs": [],
   "source": []
  },
  {
   "cell_type": "code",
   "execution_count": null,
   "metadata": {
    "collapsed": true
   },
   "outputs": [],
   "source": []
  },
  {
   "cell_type": "code",
   "execution_count": null,
   "metadata": {
    "collapsed": true
   },
   "outputs": [],
   "source": []
  },
  {
   "cell_type": "code",
   "execution_count": null,
   "metadata": {
    "collapsed": true
   },
   "outputs": [],
   "source": []
  },
  {
   "cell_type": "code",
   "execution_count": null,
   "metadata": {
    "collapsed": true
   },
   "outputs": [],
   "source": []
  },
  {
   "cell_type": "code",
   "execution_count": null,
   "metadata": {
    "collapsed": true
   },
   "outputs": [],
   "source": []
  },
  {
   "cell_type": "code",
   "execution_count": null,
   "metadata": {
    "collapsed": true
   },
   "outputs": [],
   "source": []
  },
  {
   "cell_type": "code",
   "execution_count": null,
   "metadata": {
    "collapsed": true
   },
   "outputs": [],
   "source": []
  },
  {
   "cell_type": "code",
   "execution_count": null,
   "metadata": {
    "collapsed": true
   },
   "outputs": [],
   "source": []
  },
  {
   "cell_type": "code",
   "execution_count": null,
   "metadata": {
    "collapsed": true
   },
   "outputs": [],
   "source": []
  },
  {
   "cell_type": "code",
   "execution_count": null,
   "metadata": {
    "collapsed": true
   },
   "outputs": [],
   "source": []
  },
  {
   "cell_type": "code",
   "execution_count": null,
   "metadata": {
    "collapsed": true
   },
   "outputs": [],
   "source": []
  },
  {
   "cell_type": "code",
   "execution_count": null,
   "metadata": {
    "collapsed": true
   },
   "outputs": [],
   "source": []
  },
  {
   "cell_type": "code",
   "execution_count": null,
   "metadata": {
    "collapsed": true
   },
   "outputs": [],
   "source": []
  },
  {
   "cell_type": "code",
   "execution_count": null,
   "metadata": {
    "collapsed": true
   },
   "outputs": [],
   "source": []
  },
  {
   "cell_type": "code",
   "execution_count": null,
   "metadata": {
    "collapsed": true
   },
   "outputs": [],
   "source": []
  },
  {
   "cell_type": "code",
   "execution_count": null,
   "metadata": {
    "collapsed": true
   },
   "outputs": [],
   "source": []
  },
  {
   "cell_type": "code",
   "execution_count": null,
   "metadata": {
    "collapsed": true
   },
   "outputs": [],
   "source": []
  }
 ],
 "metadata": {
  "kernelspec": {
   "display_name": "Python [conda root]",
   "language": "python",
   "name": "conda-root-py"
  },
  "language_info": {
   "codemirror_mode": {
    "name": "ipython",
    "version": 2
   },
   "file_extension": ".py",
   "mimetype": "text/x-python",
   "name": "python",
   "nbconvert_exporter": "python",
   "pygments_lexer": "ipython2",
   "version": "2.7.12"
  }
 },
 "nbformat": 4,
 "nbformat_minor": 0
}
