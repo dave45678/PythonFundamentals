{
 "cells": [
  {
   "cell_type": "code",
   "execution_count": null,
   "metadata": {
    "collapsed": true
   },
   "outputs": [],
   "source": [
    "'''\n",
    "Modify your script to write your history variable to a file\n",
    "read file to a list\n",
    "sort the list\n",
    "create method for calcScore\n",
    "write only words that have score > 20 to the list\n",
    "\n",
    "''' \n",
    "#Your next assignment is to append all your answers to a variable named history and show history after the user quits\n",
    "history = \"\"\n",
    "while True:\n",
    "    answer = input(\"Enter a movie you like or press 'q' to quit: \")\n",
    "    if answer.lower() == 'q':\n",
    "        break\n",
    "    else:\n",
    "        history += \"\\n\" + answer\n",
    "        #print(\"You entered \" + answer)\n",
    "\n",
    "print(\"You will now exit the program.\")\n",
    "print(history)\n",
    "\n",
    "#Your next assignment is to add a counter to the movies\n",
    "#---------------------------------------------------------------------------------\n",
    "while True:\n",
    "    answer = input(\"Enter a movie you like or press 'q' to quit: \")\n",
    "    if answer.lower() == 'q':\n",
    "        break\n",
    "    else:\n",
    "        print(\"You entered \" + answer)\n",
    "\n",
    "print(\"You will now exit the program.\")\n",
    "#---------------------------------------------------------------------------------\n"
   ]
  },
  {
   "cell_type": "code",
   "execution_count": null,
   "metadata": {
    "collapsed": true
   },
   "outputs": [],
   "source": [
    "'''\n",
    "how to change default browser in iPython notebook\n",
    "\n",
    "http://stackoverflow.com/questions/15632663/launch-ipython-notebook-with-selected-browser\n",
    "\n",
    "import webbrowser\n",
    "\n",
    "webbrowser.register('chrome', None, webbrowser.GenericBrowser('C:\\\\Program Files (x86)\\\\Google\\\\Chrome\\\\Application\\\\Chrome.exe'))\n",
    "c.NotebookApp.browser = 'chrome'\n",
    "'''"
   ]
  },
  {
   "cell_type": "code",
   "execution_count": 1,
   "metadata": {
    "collapsed": false
   },
   "outputs": [
    {
     "name": "stdout",
     "output_type": "stream",
     "text": [
      "elif letter.upper() == 'A':\n",
      "    score = 1\n",
      "elif letter.upper() == 'B':\n",
      "    score = 1\n",
      "elif letter.upper() == 'C':\n",
      "    score = 1\n",
      "elif letter.upper() == 'D':\n",
      "    score = 1\n",
      "elif letter.upper() == 'E':\n",
      "    score = 1\n",
      "elif letter.upper() == 'F':\n",
      "    score = 1\n",
      "elif letter.upper() == 'G':\n",
      "    score = 1\n",
      "elif letter.upper() == 'H':\n",
      "    score = 1\n",
      "elif letter.upper() == 'I':\n",
      "    score = 1\n",
      "elif letter.upper() == 'J':\n",
      "    score = 1\n",
      "elif letter.upper() == 'K':\n",
      "    score = 1\n",
      "elif letter.upper() == 'L':\n",
      "    score = 1\n",
      "elif letter.upper() == 'M':\n",
      "    score = 1\n",
      "elif letter.upper() == 'N':\n",
      "    score = 1\n",
      "elif letter.upper() == 'O':\n",
      "    score = 1\n",
      "elif letter.upper() == 'P':\n",
      "    score = 1\n",
      "elif letter.upper() == 'Q':\n",
      "    score = 1\n",
      "elif letter.upper() == 'R':\n",
      "    score = 1\n",
      "elif letter.upper() == 'S':\n",
      "    score = 1\n",
      "elif letter.upper() == 'T':\n",
      "    score = 1\n",
      "elif letter.upper() == 'U':\n",
      "    score = 1\n",
      "elif letter.upper() == 'V':\n",
      "    score = 1\n",
      "elif letter.upper() == 'W':\n",
      "    score = 1\n",
      "elif letter.upper() == 'X':\n",
      "    score = 1\n",
      "elif letter.upper() == 'Y':\n",
      "    score = 1\n",
      "elif letter.upper() == 'Z':\n",
      "    score = 1\n",
      "        else:\n",
      "        score = 1\n",
      "return score\n"
     ]
    }
   ],
   "source": [
    "# A python helper function that prints code \n",
    "for letter in range(65,91):\n",
    "    print(\"elif letter.upper() == '\" + chr(letter) + \"':\")\n",
    "    print(\"    score = 1\")\n",
    "\n",
    "print(\"        else:\")\n",
    "print(\"        score = 1\")\n",
    "print(\"return score\")\n"
   ]
  },
  {
   "cell_type": "code",
   "execution_count": 2,
   "metadata": {
    "collapsed": false
   },
   "outputs": [
    {
     "name": "stdout",
     "output_type": "stream",
     "text": [
      "('Happy Birthday', 'to you')\n",
      "('Happy Birthday', 'to you')\n",
      "('Happy Birthday', 'Dear Scott')\n",
      "('Happy Birthday', 'to you')\n"
     ]
    }
   ],
   "source": [
    "'''Your next assignmemt is to create a function for happy birthday'''\n",
    "for i in range(0, 4): print(\"Happy Birthday\", ((i == 2 and (\"Dear Scott\",)) or (\"to you\",))[0])"
   ]
  },
  {
   "cell_type": "code",
   "execution_count": 14,
   "metadata": {
    "collapsed": false
   },
   "outputs": [
    {
     "name": "stdout",
     "output_type": "stream",
     "text": [
      "10\n",
      "20\n"
     ]
    }
   ],
   "source": [
    "#---------------------------------------------------------------------------------\n",
    "'''\n",
    "Your next assignment is to create a function to calculate the scrabble score of a letter\n",
    "'''\n",
    "\n",
    "#---------------------------------------------------------------------------------\n",
    "'''\n",
    "Your next assignment is to create a function to calculate the scrabble score of a word\n",
    "''' \n",
    "\n",
    "#---------------------------------------------------------------------------------\n",
    "def calcLetterScore(letter):\n",
    "    if letter.upper() == 'B':\n",
    "        score = 3\n",
    "    elif letter.upper() == 'C':\n",
    "        score = 3\n",
    "    elif letter.upper() == 'D':\n",
    "        score = 2\n",
    "    elif letter.upper() == 'F':\n",
    "        score = 4\n",
    "    elif letter.upper() == 'G':\n",
    "        score = 2\n",
    "    elif letter.upper() == 'H':\n",
    "        score = 4\n",
    "    elif letter.upper() == 'J':\n",
    "        score = 8\n",
    "    elif letter.upper() == 'K':\n",
    "        score = 5\n",
    "    elif letter.upper() == 'M':\n",
    "        score = 3\n",
    "    elif letter.upper() == 'P':\n",
    "        score = 3\n",
    "    elif letter.upper() == 'Q':\n",
    "        score = 10\n",
    "    elif letter.upper() == 'V':\n",
    "        score = 4\n",
    "    elif letter.upper() == 'W':\n",
    "        score = 4\n",
    "    elif letter.upper() == 'X':\n",
    "        score = 8\n",
    "    elif letter.upper() == 'Y':\n",
    "        score = 4\n",
    "    elif letter.upper() == 'Z':\n",
    "        score = 10\n",
    "    else:\n",
    "        score = 1\n",
    "    return score\n",
    "\n",
    "def calcWordScore(word):\n",
    "    score = 0\n",
    "    for char in range(0,len(word)-1):\n",
    "        score += calcLetterScore(word[char])\n",
    "    return score\n",
    "\n",
    "    \n",
    "\n",
    "print(calcLetterScore('z'))\n",
    "print(calcWordScore(\"QZM\"))\n",
    "    \n",
    "\n",
    "    "
   ]
  },
  {
   "cell_type": "code",
   "execution_count": 29,
   "metadata": {
    "collapsed": false
   },
   "outputs": [
    {
     "name": "stdout",
     "output_type": "stream",
     "text": [
      "Enter a movie you like or press 'q' to quit: Star Wars\n",
      "Enter a movie you like or press 'q' to quit: Frozen\n",
      "Enter a movie you like or press 'q' to quit: Toy Story\n",
      "Enter a movie you like or press 'q' to quit: q\n",
      "Kelly's Heroes\n",
      "Animal House\n",
      "Blues Brothers\n",
      "Fargo\n",
      "Raising Arizona\n",
      "Star Wars\n",
      "Frozen\n",
      "Toy Story\n",
      "You will now exit the program.\n"
     ]
    }
   ],
   "source": [
    "'''\n",
    "Your next assignment is to write the history to a file\n",
    "'''\n",
    "history = open(\"myfile.txt\",'a')#use w for write, a for append, r for read\n",
    "while True:\n",
    "    answer = input(\"Enter a movie you like or press 'q' to quit: \")\n",
    "    if answer.lower() == 'q':\n",
    "        break\n",
    "    else:\n",
    "        history.write(answer + \"\\n\")\n",
    "        #print(\"You entered \" + answer)\n",
    "history.close()\n",
    "\n",
    "#now open the file and read it into a dictionary\n",
    "history = open(\"myfile.txt\",'r')\n",
    "while True:\n",
    "    line = history.readline()\n",
    "    if line == \"\":\n",
    "        break\n",
    "    print(line,end=\"\")\n",
    "#It is not necessary to close the file\n",
    "\n",
    "\n",
    "print(\"\")\n",
    "print(\"You will now exit the program.\")\n",
    "\n",
    "\n"
   ]
  },
  {
   "cell_type": "code",
   "execution_count": 3,
   "metadata": {
    "collapsed": false
   },
   "outputs": [
    {
     "name": "stdout",
     "output_type": "stream",
     "text": [
      "The current working directory is /Users/sterlingbusinessadvantage/Dropbox/dave45678/Python Fundamentals/iPython\n"
     ]
    }
   ],
   "source": [
    "#What directory is my file in???\n",
    "import os\n",
    "print(\"The current working directory is \" + os.getcwd())"
   ]
  },
  {
   "cell_type": "code",
   "execution_count": 12,
   "metadata": {
    "collapsed": false
   },
   "outputs": [
    {
     "name": "stdout",
     "output_type": "stream",
     "text": [
      "1. Toy Story\n",
      "2. Animal House\n",
      "3. Blues Brothers\n",
      "4. Fargo\n",
      "5. Frozen\n",
      "6. Kelly's Heroes\n",
      "7. Raising Arizona\n",
      "8. Star Wars\n",
      "\n",
      "\n",
      "Another way to print a list:\n",
      "\n",
      "['Animal House\\n', 'Blues Brothers\\n', 'Fargo\\n', 'Frozen\\n', \"Kelly's Heroes\\n\", 'Raising Arizona\\n', 'Star Wars\\n', 'Toy Story\\n']\n"
     ]
    }
   ],
   "source": [
    "#---------------------------------------------------------------------------------\n",
    "'''\n",
    "Your next assignment is to read the history file into a list then sort the list \n",
    "'''\n",
    "movielist = []\n",
    "history = open(\"myfile.txt\",'r')\n",
    "while True:\n",
    "    line = history.readline()\n",
    "    if line == \"\":\n",
    "        break\n",
    "    else:\n",
    "        movielist.append(line)\n",
    "index = -1   \n",
    "\n",
    "movielist.sort()\n",
    "\n",
    "while index < len(movielist)-1:\n",
    "    print(\"{0}. {1}\".format(index+2,movielist[index]),end=\"\")\n",
    "    index +=1\n",
    "\n",
    "print(\"\\n\")\n",
    "print(\"Another way to print a list:\\n\")\n",
    "print(movielist)\n",
    "    \n"
   ]
  },
  {
   "cell_type": "code",
   "execution_count": 17,
   "metadata": {
    "collapsed": false
   },
   "outputs": [
    {
     "name": "stdout",
     "output_type": "stream",
     "text": [
      "1. Toy Story is worth 11 points!\n",
      "2. Animal House is worth 16 points!\n",
      "3. Blues Brothers is worth 20 points!\n",
      "4. Fargo is worth 8 points!\n",
      "5. Frozen is worth 17 points!\n",
      "6. Kelly's Heroes is worth 23 points!\n",
      "7. Raising Arizona is worth 24 points!\n",
      "8. Star Wars is worth 11 points!\n",
      "\n",
      "\n",
      "Another way to print a list:\n",
      "\n",
      "['Animal House\\n', 'Blues Brothers\\n', 'Fargo\\n', 'Frozen\\n', \"Kelly's Heroes\\n\", 'Raising Arizona\\n', 'Star Wars\\n', 'Toy Story\\n']\n"
     ]
    }
   ],
   "source": [
    "'''\n",
    "Your next assignment is to calculate the scrabble score each word in your history list\n",
    "and save only the words that have a score in the top 10%.... so the top 10% highest scoring words\n",
    "''' \n",
    "movielist = []\n",
    "history = open(\"myfile.txt\",'r')\n",
    "while True:\n",
    "    line = history.readline()\n",
    "    if line == \"\":\n",
    "        break\n",
    "    else:\n",
    "        movielist.append(line)\n",
    "index = -1   \n",
    "\n",
    "movielist.sort()\n",
    "\n",
    "while index < len(movielist)-1:\n",
    "    word = movielist[index].replace(\"\\n\", \"\") #remove line ending\n",
    "    print(\"{0}. {1} is worth {2} points!\\n\".format(index+2,word,calcWordScore(word)),end=\"\")\n",
    "    index +=1\n",
    "\n",
    "print(\"\\n\")\n",
    "print(\"Another way to print a list:\\n\")\n",
    "print(movielist)"
   ]
  },
  {
   "cell_type": "code",
   "execution_count": null,
   "metadata": {
    "collapsed": true
   },
   "outputs": [],
   "source": []
  }
 ],
 "metadata": {
  "anaconda-cloud": {},
  "kernelspec": {
   "display_name": "Python [default]",
   "language": "python",
   "name": "python2"
  },
  "language_info": {
   "codemirror_mode": {
    "name": "ipython",
    "version": 2
   },
   "file_extension": ".py",
   "mimetype": "text/x-python",
   "name": "python",
   "nbconvert_exporter": "python",
   "pygments_lexer": "ipython2",
   "version": "2.7.12"
  }
 },
 "nbformat": 4,
 "nbformat_minor": 0
}
