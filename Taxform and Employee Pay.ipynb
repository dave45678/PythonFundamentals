{
 "cells": [
  {
   "cell_type": "code",
   "execution_count": 1,
   "metadata": {
    "collapsed": false
   },
   "outputs": [
    {
     "name": "stdout",
     "output_type": "stream",
     "text": [
      "Enter the gross income: 500\n",
      "Enter the number of dependents: 2\n",
      "The income tax is $ -3100.0\n"
     ]
    }
   ],
   "source": [
    "#!/usr/bin/python\n",
    "\n",
    "\"\"\"\n",
    "Program: taxform.py\n",
    "Author: Ken Lambert\n",
    "Computer a person's income tax.\n",
    "1. Significant constants\n",
    "    tax rate\n",
    "    standard deduction\n",
    "    deduction per dependent\n",
    "2. The inputs are\n",
    "    gross income\n",
    "    number of dependents\n",
    "3.Computations\n",
    "    taxable income = grosss income - standard deduction for each\n",
    "                                      dependent\n",
    "4.The outputs are\n",
    "     the income tax\n",
    "\"\"\"\n",
    "\n",
    "#Initialize the constants\n",
    "TAX_RATE = 0.20\n",
    "STANDARD_DEDUCTION = 10000.0\n",
    "DEPENDENT_DEDUCTION = 3000.0\n",
    "\n",
    "#Request the inputs\n",
    "grossIncome = input(\"Enter the gross income: \")\n",
    "numDependents = input(\"Enter the number of dependents: \")\n",
    "\n",
    "#Compute the income tax\n",
    "taxableIncome = (grossIncome - STANDARD_DEDUCTION - DEPENDENT_DEDUCTION *\n",
    "                 numDependents)\n",
    "\n",
    "incomeTax = taxableIncome * TAX_RATE\n",
    "\n",
    "# Display the income tax\n",
    "print \"The income tax is $\", round(incomeTax, 2)"
   ]
  },
  {
   "cell_type": "code",
   "execution_count": null,
   "metadata": {
    "collapsed": true
   },
   "outputs": [],
   "source": [
    "\"\"\"\n",
    "Program: employeepay.py\n",
    "Project 2.10\n",
    "\n",
    "Compute an employee's total weekly pay.\n",
    "\n",
    "Useful facts:\n",
    "     An employee's total weekly pay equals the\n",
    "     hourly wage multiplied by the total number\n",
    "     of regular hours plus any overtime pay.  Overtime\n",
    "     pay equals the total overtime hours multiplied by 1.5\n",
    "     times the hourly wage.\n",
    "\n",
    "Write a program that takes as inputs the hourly wage,\n",
    "total regular hours, and total overtime hours and\n",
    "displays an employee's total weekly pay.\n",
    "\n",
    "\"\"\"         \n",
    "\n",
    "# Request the inputs\n",
    "wage = float(input(\"Enter the wage: $\"))  \n",
    "regularHours = float(input(\"Enter the regular hours: \"))  \n",
    "overtimeHours = float(input(\"Enter the overtime hours: \"))  \n",
    "\n",
    "# Compute the result\n",
    "totalPay = regularHours * wage + overtimeHours * wage * 1.5\n",
    "\n",
    "# Display the result\n",
    "print(\"The total weekly pay is $\" + str(round(totalPay, 2)))\n"
   ]
  },
  {
   "cell_type": "code",
   "execution_count": null,
   "metadata": {
    "collapsed": true
   },
   "outputs": [],
   "source": []
  }
 ],
 "metadata": {
  "kernelspec": {
   "display_name": "Python [Root]",
   "language": "python",
   "name": "Python [Root]"
  },
  "language_info": {
   "codemirror_mode": {
    "name": "ipython",
    "version": 2
   },
   "file_extension": ".py",
   "mimetype": "text/x-python",
   "name": "python",
   "nbconvert_exporter": "python",
   "pygments_lexer": "ipython2",
   "version": "2.7.12"
  }
 },
 "nbformat": 4,
 "nbformat_minor": 0
}
