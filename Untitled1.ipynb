{
 "cells": [
  {
   "cell_type": "code",
   "execution_count": 1,
   "metadata": {
    "collapsed": true
   },
   "outputs": [],
   "source": [
    "import win32com.client\n",
    "\n",
    "# Open PowerPoint\n",
    "Application = win32com.client.Dispatch(\"PowerPoint.Application\")\n",
    "\n",
    "# Add a presentation\n",
    "Presentation = Application.Presentations.Add()\n",
    "\n",
    "# Add a slide with a blank layout (12 stands for blank layout)\n",
    "Base = Presentation.Slides.Add(1, 12)\n",
    "\n",
    "# Add an oval. Shape 9 is an oval.\n",
    "oval = Base.Shapes.AddShape(9, 100, 100, 100, 100)"
   ]
  },
  {
   "cell_type": "code",
   "execution_count": 2,
   "metadata": {
    "collapsed": true
   },
   "outputs": [],
   "source": [
    "# Open Excel\n",
    "Application = win32com.client.Dispatch(\"Excel.Application\")\n",
    "\n",
    "# Show Excel. Unlike PPT, Word & Excel open up \"hidden\"\n",
    "Application.Visible = 1\n",
    "\n",
    "# Add a workbook\n",
    "Workbook = Application.Workbooks.Add()\n",
    "\n",
    "# Take the active sheet\n",
    "Base = Workbook.ActiveSheet\n",
    "\n",
    "# Add an oval. Shape 9 is an oval.\n",
    "oval = Base.Shapes.AddShape(9, 100, 100, 100, 100)\n",
    "\n",
    "# In the first row, add Values: 0.0, 0.5, 1.0\n",
    "Base.Cells(1, 1).Value = 'Values'\n",
    "Base.Cells(1, 2).Value = 0.0\n",
    "Base.Cells(1, 3).Value = 0.5\n",
    "Base.Cells(1, 4).Value = 1.0"
   ]
  },
  {
   "cell_type": "code",
   "execution_count": null,
   "metadata": {
    "collapsed": true
   },
   "outputs": [],
   "source": []
  }
 ],
 "metadata": {
  "kernelspec": {
   "display_name": "Python [Root]",
   "language": "python",
   "name": "Python [Root]"
  },
  "language_info": {
   "codemirror_mode": {
    "name": "ipython",
    "version": 2
   },
   "file_extension": ".py",
   "mimetype": "text/x-python",
   "name": "python",
   "nbconvert_exporter": "python",
   "pygments_lexer": "ipython2",
   "version": "2.7.12"
  }
 },
 "nbformat": 4,
 "nbformat_minor": 0
}
