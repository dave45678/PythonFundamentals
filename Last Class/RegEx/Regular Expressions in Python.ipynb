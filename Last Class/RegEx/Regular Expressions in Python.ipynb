{
 "cells": [
  {
   "cell_type": "code",
   "execution_count": 6,
   "metadata": {
    "collapsed": false
   },
   "outputs": [
    {
     "name": "stdout",
     "output_type": "stream",
     "text": [
      "Jack Neu 555-7666\n",
      "Jeb Neu 555-5543\n",
      "Jennifer Neu 555-3652\n"
     ]
    }
   ],
   "source": [
    "import re\n",
    "# for information on re module, type help(re) in iPython. This will tell you about the module and provide a cheat sheet.\n",
    "# you can also find a cheat sheet and some python examples at http://www.rexegg.com/regex-quickstart.html#chars\n",
    "\n",
    "\n",
    "# The example file I used is from http://www.python-course.eu/simpsons_phone_book.txt\n",
    "# in the example below the r preeceding the string is to make it a string literal and the slashes don't need to be escaped\n",
    "fh = open(r\"C:\\Users\\Sterling7\\Dropbox\\dave45678\\Fundamentals of Python\\RegEx\\simpsons_phone_book.txt\")\n",
    "for line in fh:\n",
    "    if re.search(r\"J.*Neu\",line):\n",
    "        print(line.rstrip())\n",
    "fh.close()"
   ]
  },
  {
   "cell_type": "markdown",
   "metadata": {},
   "source": [
    "The purpose of this project is to simply introduce you to regular expressons. \n",
    "\n",
    "The easiest way to develop a regular expression is to use a program that allows you to match your target string. Here's one: http://pythex.org/. You can find lots of others. One I like is http://www.weitz.de/regex-coach/. The Regex Coach is a graphical application for Windows which can be used to experiment with (Perl-compatible) regular expressions interactively.\n",
    "\n",
    "Note, I'm not going to ask you to write a regular expression to match an email address. But if/when you're interested in that you shoud do some research. Email addresses can get really complicated. Here's an article about that: http://www.regular-expressions.info/email.html.\n",
    "\n",
    "Assignment\n",
    "1. Modify the above code snippet to find the lines that match Mr. Burns\n",
    "2. Modify the regular expression above to find the phone number for Moe's Tavern\n",
    "\n",
    "Next, modify the program you created to list files/directories. Add regex handling so only files/directories that match your regular expression match. You may need to create a bunch of sample files (just copy and paste any file) and put them in a directory to test it. "
   ]
  }
 ],
 "metadata": {
  "kernelspec": {
   "display_name": "Python 3",
   "language": "python",
   "name": "python3"
  },
  "language_info": {
   "codemirror_mode": {
    "name": "ipython",
    "version": 3
   },
   "file_extension": ".py",
   "mimetype": "text/x-python",
   "name": "python",
   "nbconvert_exporter": "python",
   "pygments_lexer": "ipython3",
   "version": "3.4.3"
  }
 },
 "nbformat": 4,
 "nbformat_minor": 0
}
