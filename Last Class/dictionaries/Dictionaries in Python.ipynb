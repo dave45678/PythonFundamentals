{
 "cells": [
  {
   "cell_type": "markdown",
   "metadata": {},
   "source": [
    "Dictionaries \n",
    "A python dictionary contains keys and values. Sometimes they're called key-value pairs. Often they're called hash tables. By any name they organize information by association. So the values can be located by use of the corresponding key. A list, on the other hand, organizes its elements by position. So you could easily find the third item in a list. A dictionary doesn't have a third item. It does, actually, but you don't access it that way. You would access the value by knowing the corresponding key you gave it. The keys and values in a python dictionary can be of any type, not just integers and strings. You could even have a dictionary that contains values which are lists or other dictionaries.\n",
    "\n",
    "A python dictionary, like a regular dictionary makes a great look up table. So if you wanted to store the cities of some states you could create a dictionary like this:\n",
    "cities = {'CA': 'San Francisco','MI': 'Detroit','FL': 'Jacksonville'}\n",
    "\n",
    "Notice that the dictionary uses the {} characters (sometimes called brackets). A list uses the [] characters. I don't know what they are called - square brackets?!\n",
    "\n",
    "You can access a state's city as: city = cities['CA']. Now the variable called city will contain the value 'San Francisco'.\n",
    "You can add a city as: cities['OR'] = 'Portland'.\n",
    "\n",
    "If you want to print a sorted list of the cities for each state in your program you would do something like this:\n",
    "Note that I converted the dictionary to a list so I could sort it because you can't sort a dictionary.\n",
    "\n",
    "theKeys = list(amounts.keys())\n",
    "theKeys.sort()\n",
    "for key in theKeys:\n",
    "    print(key,amounts[key])\n",
    "    \n",
    "   \n",
    "There are more examples in the book and online. Here is a link if you want more information: http://learnpythonthehardway.org/book/ex39.html.\n",
    "\n",
    "So, let's use the dictionary in a program.\n",
    "\n",
    "1. Create a program that will prompt the user to enter an amount. When the user enters the amount, the \n",
    "program will respond with the text spelling out of the amount. For example, the user enters '10', the program responds with 'ten'.\n",
    "2. If the user enters an amount that the program does not have stored then the program shall prompt the user to enter the text. So if the user enters '201' and the program doesn't know that value then the program will prompt the user to type in the text, 'two-hundred one'. \n",
    "3. Once the user types in the text, the program shall store the text in a dictionary. This will enable the program to quickly locate the value the next time the user enters it.\n"
   ]
  },
  {
   "cell_type": "code",
   "execution_count": 5,
   "metadata": {
    "collapsed": false
   },
   "outputs": [
    {
     "name": "stdout",
     "output_type": "stream",
     "text": [
      "Enter a number or press (q) to quit: 5\n",
      "Enter the value or press (q) to quit: five\n",
      "Enter a number or press (q) to quit: 3\n",
      "Enter the value or press (q) to quit: three\n",
      "Enter a number or press (q) to quit: 6\n",
      "Enter the value or press (q) to quit: six\n",
      "Enter a number or press (q) to quit: 10\n",
      "Enter the value or press (q) to quit: ten\n",
      "Enter a number or press (q) to quit: 1000\n",
      "Enter the value or press (q) to quit: one thousand\n",
      "Enter a number or press (q) to quit: 101\n",
      "Enter the value or press (q) to quit: one hundred one\n",
      "Enter a number or press (q) to quit: 7\n",
      "Enter the value or press (q) to quit: seven\n",
      "Enter a number or press (q) to quit: 20\n",
      "Enter the value or press (q) to quit: twenty\n",
      "Enter a number or press (q) to quit: q\n",
      "\n",
      "Here are the values you have entered:\n",
      "3 three\n",
      "5 five\n",
      "6 six\n",
      "7 seven\n",
      "10 ten\n",
      "20 twenty\n",
      "101 one hundred one\n",
      "1000 one thousand\n"
     ]
    }
   ],
   "source": [
    "quit = False\n",
    "amounts = {}\n",
    "while quit == False:\n",
    "    nmbr = input(\"Enter a number or press (q) to quit: \") \n",
    "    \n",
    "    if nmbr.lower()=='q'.lower():\n",
    "        quit = True\n",
    "    else:\n",
    "        key = int(nmbr)\n",
    "        if amounts.get(key):\n",
    "            print(\"You have entered \" + amounts[key])\n",
    "        else:\n",
    "            value = input(\"Enter the value or press (q) to quit: \")\n",
    "            if value.lower() != 'q'.lower():\n",
    "                amounts[key] = value\n",
    "            else:\n",
    "                quit = True\n",
    "        \n",
    "print(\"\\nHere are the values you have entered:\")\n",
    "theKeys = list(amounts.keys())\n",
    "theKeys.sort()\n",
    "for key in theKeys:\n",
    "    print(key,amounts[key])\n",
    "    \n",
    "         \n",
    "    "
   ]
  },
  {
   "cell_type": "code",
   "execution_count": null,
   "metadata": {
    "collapsed": true
   },
   "outputs": [],
   "source": []
  },
  {
   "cell_type": "code",
   "execution_count": null,
   "metadata": {
    "collapsed": true
   },
   "outputs": [],
   "source": []
  }
 ],
 "metadata": {
  "kernelspec": {
   "display_name": "Python 3",
   "language": "python",
   "name": "python3"
  },
  "language_info": {
   "codemirror_mode": {
    "name": "ipython",
    "version": 3
   },
   "file_extension": ".py",
   "mimetype": "text/x-python",
   "name": "python",
   "nbconvert_exporter": "python",
   "pygments_lexer": "ipython3",
   "version": "3.4.3"
  }
 },
 "nbformat": 4,
 "nbformat_minor": 0
}
