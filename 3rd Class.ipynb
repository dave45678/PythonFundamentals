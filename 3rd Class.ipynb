{
 "cells": [
  {
   "cell_type": "code",
   "execution_count": null,
   "metadata": {
    "collapsed": true
   },
   "outputs": [],
   "source": [
    "Free Book Recommendation"
   ]
  },
  {
   "cell_type": "code",
   "execution_count": null,
   "metadata": {
    "collapsed": true
   },
   "outputs": [],
   "source": [
    "#### while loop allows you to repeat code while a condition is true \n",
    "Here the condition is that x is not equal to 0.\n",
    "```!=``` means not equal. Type in the while loop to see how it works.\n",
    "\n",
    "```\n",
    "x= 10\n",
    "while x != 0:\n",
    "    print x\n",
    "    x= x-1\n",
    "    print \" wow, we have counted down x and now it is equal to \" + str(x)\n",
    "\n",
    "print \" And now the loop has ended.\"    \n",
    "```"
   ]
  },
  {
   "cell_type": "code",
   "execution_count": null,
   "metadata": {
    "collapsed": false
   },
   "outputs": [],
   "source": [
    "# Looping until no data is received\n",
    "\n",
    "# prompt for the first value\n",
    "data = raw_input(\"Enter the data or press enter to quit: \")\n",
    "while data != '':\n",
    "    print \"in the loop\"\n",
    "    data = data + raw_input(\"Enter the data or press enter to quit: \")\n",
    "\n",
    "print data    \n",
    "\n",
    "\n",
    "\n",
    "# Using a counter in a while loop\n",
    "sum = 0\n",
    "counter = 1\n",
    "while counter <= 100:\n",
    "    sum = sum + counter\n",
    "    counter = counter + 1\n",
    "print sum\n",
    "\n",
    "# You can do the same thing with the for loop. \n",
    "# This is more efficient. \n",
    "# Notice I don't have to initialize the counter separately.\n",
    "# Range goes from 1 upto but not including 101 .. so fo 1 to \n",
    "sum = 0\n",
    "for counter in range(1,101):\n",
    "    sum = sum + counter\n",
    "print sum"
   ]
  },
  {
   "cell_type": "code",
   "execution_count": null,
   "metadata": {
    "collapsed": true
   },
   "outputs": [],
   "source": [
    "#### Python expects code to be repeated to follow the colon : and to be indented\n",
    "Normal indentation is 4 spaces\n",
    "\n",
    "```\n",
    "a = 0 \n",
    "b = 3\n",
    "while a < 10:\n",
    "    a = a + 1\n",
    "    b = b + 1\n",
    "    print \"The value of a is \" + str(a) + \" and the value of b is \" + str(b)\n",
    "print \"this line prints after the loop is finished\"\n",
    "print \"The value of a is \" + str(a) + \" and the value of b is \" + str(b)\n",
    "\n",
    "print \"You can change a variable with assignment (=)\"\n",
    "a = 234\n",
    "print \"the value of a is \" + str(a)\n",
    "```"
   ]
  },
  {
   "cell_type": "code",
   "execution_count": null,
   "metadata": {
    "collapsed": true
   },
   "outputs": [],
   "source": [
    "# Movie Titles\n",
    "'''\n",
    "Modify your script to write your history variable to a file\n",
    "read file to a list\n",
    "sort the list\n",
    "create method for calcScore\n",
    "write only words that have score > 20 to the list\n",
    "\n",
    "''' \n",
    "#Your next assignment is to append all your answers to a variable named history and show history after the user quits\n",
    "history = \"\"\n",
    "while True:\n",
    "    answer = input(\"Enter a movie you like or press 'q' to quit: \")\n",
    "    if answer.lower() == 'q':\n",
    "        break\n",
    "    else:\n",
    "        history += \"\\n\" + answer\n",
    "        #print(\"You entered \" + answer)\n",
    "\n",
    "print(\"You will now exit the program.\")\n",
    "print(history)\n",
    "\n",
    "#Your next assignment is to add a counter to the movies\n",
    "#---------------------------------------------------------------------------------\n",
    "while True:\n",
    "    answer = input(\"Enter a movie you like or press 'q' to quit: \")\n",
    "    if answer.lower() == 'q':\n",
    "        break\n",
    "    else:\n",
    "        print(\"You entered \" + answer)\n",
    "\n",
    "print(\"You will now exit the program.\")\n",
    "#---------------------------------------------------------------------------------\n"
   ]
  },
  {
   "cell_type": "markdown",
   "metadata": {},
   "source": [
    "## Logical Expressions\n",
    "* with one condition\n",
    "* with multiple conditions\n"
   ]
  },
  {
   "cell_type": "code",
   "execution_count": null,
   "metadata": {
    "collapsed": true
   },
   "outputs": [],
   "source": [
    "# Write a logical expression that tests to see if the variable x is a number in the range of 1 to 10\n",
    "\n",
    "x = raw_input(\"Enter the value for x: \")\n",
    "if x >=1 and x <= 10:\n",
    "    print True\n",
    "else:\n",
    "    print False\n",
    "    "
   ]
  },
  {
   "cell_type": "code",
   "execution_count": 1,
   "metadata": {
    "collapsed": false
   },
   "outputs": [
    {
     "name": "stdout",
     "output_type": "stream",
     "text": [
      "Enter the numeric grade: 88\n",
      "The letter grade is B\n"
     ]
    }
   ],
   "source": [
    "number = int(raw_input(\"Enter the numeric grade: \"))\n",
    "if number > 89:\n",
    "    letter = 'A'\n",
    "elif number > 79:\n",
    "    letter = 'B'\n",
    "elif number > 69:\n",
    "    letter = 'C'\n",
    "else:\n",
    "    letter = 'F'\n",
    "    \n",
    "print \"The letter grade is {}\".format(letter)    "
   ]
  },
  {
   "cell_type": "code",
   "execution_count": null,
   "metadata": {
    "collapsed": true
   },
   "outputs": [],
   "source": [
    "number = int(raw_input(\"Enter the numeric grade: \"))\n",
    "if number > 89:\n",
    "    letter = 'A'\n",
    "elif number > 79:\n",
    "    letter = 'B'\n",
    "elif number > 69:\n",
    "    letter = 'C'\n",
    "else:\n",
    "    letter = 'F'\n",
    "    \n",
    "print \"The letter grade is {}\".format(letter)    "
   ]
  },
  {
   "cell_type": "markdown",
   "metadata": {
    "collapsed": true
   },
   "source": [
    "## Python Ranges and for loops\n",
    "\n",
    "The range() function allows you to execute a statement (or sequence of statements) a given number of times. \n",
    "\n",
    "start: Starting number of the sequence.\n",
    "stop: Generate numbers up to, but not including this number.\n",
    "step: Difference between each number in the sequence.\n",
    "\n",
    "range([start], stop[, step])    # arguments in []'s are optional\n",
    "    \n",
    "The range function can take one argument, two arguments or three arguments. Try it now with each:\n",
    "\n",
    "```python\n",
    "counter = 4\n",
    "for eachPass in range(counter):\n",
    "    print counter\n",
    "print '-'*20   # this line prints the  - character 20 times\n",
    "\n",
    "counter = 1\n",
    "stop = 11\n",
    "for eachPass in range(counter,stop):\n",
    "    print counter\n",
    "print '-'*20   # this line prints the  - character 20 times  \n",
    "\n",
    "\n",
    "counter = 1\n",
    "stop = 21\n",
    "step = 2\n",
    "for eachPass in range(counter,stop,step):\n",
    "    print counter    \n",
    "print '-'*20  # this line prints the  - character 20 times   \n",
    "```"
   ]
  },
  {
   "cell_type": "markdown",
   "metadata": {
    "collapsed": true
   },
   "source": [
    "## Introducing print formatting. \n",
    "Use empty braces as a place holder followed by ```.format``` and the values to include\n",
    "\n",
    "```python\n",
    "print 'We are the {} who say \"{}!\"'.format('knights', 'Ni')\n",
    "```\n",
    "### you can also use numbers in the place holders\n",
    "```python\n",
    "print 'We are the {0} who say \"{1}!\"'.format('knights', 'Ni')\n",
    "```\n",
    "\n",
    "### can you see what just happened?\n",
    "```python\n",
    "print 'We are the {1} who say \"{0}!\"'.format('Ni','knights')\n",
    "```\n",
    "\n",
    "### More details on print formatting are at \n",
    "https://docs.python.org/2/tutorial/inputoutput.html\n"
   ]
  },
  {
   "cell_type": "code",
   "execution_count": null,
   "metadata": {
    "collapsed": true
   },
   "outputs": [],
   "source": [
    "for bottle in range(99,0,-1):\n",
    "    if bottle == 1:\n",
    "        print(\"{0} bottle of beer on the wall, {0} bottle of beer. Take it down, pass it around, No more bottles of beer on the wall\".format(bottle))\n",
    "    else:\n",
    "        print(\"{0} bottles of beer on the wall, {0} bottles of beer. Take one down, pass it around, {1} bottles of beer on the wall\".format(bottle,bottle-1))\n",
    "    \n",
    "print(\"My song is finished!\")"
   ]
  },
  {
   "cell_type": "markdown",
   "metadata": {},
   "source": [
    "## Returning remainders\n",
    "The % (modulo) operator yields the remainder from the division of the first argument by the second. The numeric arguments are first converted to a common type. A zero right argument raises the ZeroDivisionError exception. The arguments may be floating point numbers, e.g., 3.14%0.7 equals 0.34 (since 3.14 equals 4*0.7 + 0.34.) The modulo operator always yields a result with the same sign as its second operand (or zero); the absolute value of the result is strictly smaller than the absolute value of the second operand [2].\n",
    "Taken from http://docs.python.org/reference/expressions.html\n",
    "\n",
    "```python\n",
    "# The remainder of 3 % 2 is 1\n",
    "3 % 2\n",
    "# The remainder of 3 % 3 is 0\n",
    "3 % 3\n",
    "# divmod is a function that returns a tuple containing the quotent and the remainder\n",
    "divmod(10,3) \n",
    "```\n",
    "\n",
    "Example 1:  ```6%2``` evaluates to ```0``` because there's no remainder if 6 is divided by 2 ( 3 times ).\n",
    "\n",
    "Example 2: ```7%2``` evaluates to 1 because there's a remainder of 1 when 7 is divided by 2 ( 3 times ).\n",
    "\n",
    "So to summarise that, it returns the remainder of a division operation, or 0 if there is no remainder. So 6%2 means find the remainder of 6 divided by 2.\n",
    "\n",
    "```python\n",
    "# list the even numbers between 1 and 20 (inclusive)\n",
    "for x in range(1,21):\n",
    "    if x % 2 == 0:\n",
    "        print \"{} is an even number\".format(x)\n",
    "print \"Done!\"\n",
    "\n",
    "# list the multiples of 7 between 1 and 100\n",
    "for x in range (1,101):\n",
    "    if x % 7 == 0:\n",
    "        print \"{} is a multiple of 7\".format(x)\n",
    "print \"Done!\"\n",
    "```"
   ]
  },
  {
   "cell_type": "markdown",
   "metadata": {},
   "source": [
    "## FizzBuzz\n",
    "Write a program that prints the numbers from 1 to 100. \n",
    "* For multiples of three print \"Fizz\" instead of the number \n",
    "* For the multiples of five print \"Buzz\" instead of the number \n",
    "* For numbers which are multiples of both three and five print \"FizzBuzz\"\n",
    "\n",
    "*Hint: Write it on paper first then program it in the computer*\n",
    "```\n",
    "Example Output:\n",
    "1\n",
    "2\n",
    "Fizz\n",
    "4\n",
    "Buzz\n",
    "Fizz\n",
    "7\n",
    "8\n",
    "Fizz\n",
    "```"
   ]
  },
  {
   "cell_type": "code",
   "execution_count": null,
   "metadata": {
    "collapsed": true
   },
   "outputs": [],
   "source": [
    "for x in range(1,101):\n",
    "    if x % 3 == 0 and x % 5 == 0:\n",
    "        print 'FizzBuzz'\n",
    "    elif x % 3 == 0:\n",
    "        print 'Fizz'\n",
    "    elif x % 5 == 0:\n",
    "        print 'Buzz'\n",
    "    else:\n",
    "        print x"
   ]
  },
  {
   "cell_type": "code",
   "execution_count": null,
   "metadata": {
    "collapsed": true
   },
   "outputs": [],
   "source": [
    "# Let's fix this program. It doesn't calculate correctly.\n",
    "\n",
    "# Accept the inputs\n",
    "startSal = 100000.0\n",
    "increase = 10\n",
    "years = 10\n",
    "\n",
    "# Compute and display the results\n",
    "print(\"Year   Salary\\n-------------\")\n",
    "multiplier = 1 + (increase / 100.0)\n",
    "print multiplier\n",
    "nextSal = startSal\n",
    "for year in range(1, years + 1):\n",
    "    print \"{0}  {1:.2f}\".format(year, nextSal)\n",
    "    nextSal = (nextSal * multiplier)\n"
   ]
  },
  {
   "cell_type": "markdown",
   "metadata": {
    "collapsed": true
   },
   "source": [
    "## A shortcut for you ...\n",
    "Expressions such as x = x + 1 occur so frequently that a shortcut exists for them....\n",
    "You can say x += 1 and get the same result. \n",
    "Note there is no space between the operator (+) and the = sign.\n",
    "This works with other operators as well such as - and * and /\n",
    "Try it below:\n",
    "\n",
    "```python\n",
    "total = 0\n",
    "for amount in range(10):\n",
    "    total = total + amount\n",
    "    print total\n",
    "```\n",
    "\n",
    "*This can be shortened to:* \n",
    "```python\n",
    "total = 0\n",
    "for amount in range(10):\n",
    "    total += amount\n",
    "    print total\n",
    " ```"
   ]
  },
  {
   "cell_type": "code",
   "execution_count": null,
   "metadata": {
    "collapsed": true
   },
   "outputs": [],
   "source": [
    "##Lists\n",
    "\n",
    "A list is a value that contains multiple values in an ordered sequence. The\n",
    "term list value refers to the list itself (which is a value that can be stored in a\n",
    "variable or passed to a function like any other value), not the values inside\n",
    "the list value. A list value looks like this: ['cat', 'bat', 'rat', 'elephant'].\n",
    "Just as string values are typed with quote characters to mark where the\n",
    "string begins and ends, a list begins with an opening square bracket and\n",
    "ends with a closing square bracket, []. Values inside the list are also called\n",
    "items. Items are separated with commas (that is, they are comma-delimited)."
   ]
  },
  {
   "cell_type": "code",
   "execution_count": null,
   "metadata": {
    "collapsed": true
   },
   "outputs": [],
   "source": [
    "#storing items in a list\n",
    "simpsons = ['homer','marge','bart','lisa','maggie']\n",
    "print simpsons\n",
    "\n",
    "#getting individual items\n",
    "print simpsons[0]\n",
    "print simpsons[4]\n",
    "\n",
    "# looping through a list\n",
    "for character in simspons:\n",
    "    print character + \"\\n\""
   ]
  },
  {
   "cell_type": "markdown",
   "metadata": {},
   "source": [
    "Modify the movie program to add movies to a list instead of a string variable\n",
    "When the program is finished make it print the following output:\n",
    "\n",
    "The first three movies you entered are:\n",
    "movie 1\n",
    "movie 2\n",
    "movie 3\n",
    "\n",
    "The last movie you entered was:\n",
    "movie 99\n"
   ]
  },
  {
   "cell_type": "markdown",
   "metadata": {},
   "source": [
    "Looping in Python\n",
    "repeat code until a condition is met\n",
    "counted repetition (for loops)"
   ]
  },
  {
   "cell_type": "code",
   "execution_count": null,
   "metadata": {
    "collapsed": true
   },
   "outputs": [],
   "source": [
    "# Python includes a library for dates. We can add that to our program with the following statement:\n",
    "import datetime\n",
    "\n",
    "# Get the date/time for now... according to your computer\n",
    "now = datetime.datetime.now()\n",
    "print \"It is now: {} \".format(now)\n",
    "\n",
    "# Print it all in a nicer format\n",
    "print \"The year is: {}, the month is: {}, the day is: {} the time is: {}:{}:{}\".format(now.year, now.month, now.day, now.hour, now.minute, now.second)\n",
    "\n",
    "\n",
    "# Print the years from 2000 to today\n",
    "# This prints on one line \n",
    "for y in range(2000, now.year+1):\n",
    "    print \"{} \".format(y),\n",
    "    \n",
    "# This prints a new line each time the print statement is called. Can you tell why?    \n",
    "for y in range(2000, now.year+1):\n",
    "    print \"{} \".format(y)    "
   ]
  }
 ],
 "metadata": {
  "anaconda-cloud": {},
  "kernelspec": {
   "display_name": "Python [Root]",
   "language": "python",
   "name": "Python [Root]"
  },
  "language_info": {
   "codemirror_mode": {
    "name": "ipython",
    "version": 2
   },
   "file_extension": ".py",
   "mimetype": "text/x-python",
   "name": "python",
   "nbconvert_exporter": "python",
   "pygments_lexer": "ipython2",
   "version": "2.7.12"
  }
 },
 "nbformat": 4,
 "nbformat_minor": 0
}
