{
 "cells": [
  {
   "cell_type": "code",
   "execution_count": 3,
   "metadata": {
    "collapsed": false
   },
   "outputs": [
    {
     "data": {
      "text/html": [
       "<script>\n",
       "code_show=true; \n",
       "function code_toggle() {\n",
       " if (code_show){\n",
       " $('div.input').hide();\n",
       " } else {\n",
       " $('div.input').show();\n",
       " }\n",
       " code_show = !code_show\n",
       "} \n",
       "$( document ).ready(code_toggle);\n",
       "</script>\n",
       "The code for this Jupyter notebook is hidden.\n",
       "To toggle on/off the code, click <a href=\"javascript:code_toggle()\">Show Code</a>."
      ],
      "text/plain": [
       "<IPython.core.display.HTML object>"
      ]
     },
     "execution_count": 3,
     "metadata": {},
     "output_type": "execute_result"
    }
   ],
   "source": [
    "from IPython.display import HTML\n",
    "HTML('''<script>\n",
    "code_show=true; \n",
    "function code_toggle() {\n",
    " if (code_show){\n",
    " $('div.input').hide();\n",
    " } else {\n",
    " $('div.input').show();\n",
    " }\n",
    " code_show = !code_show\n",
    "} \n",
    "$( document ).ready(code_toggle);\n",
    "</script>\n",
    "The code for this Jupyter notebook is hidden.\n",
    "To toggle on/off the code, click <a href=\"javascript:code_toggle()\">Show Code</a>.''')"
   ]
  },
  {
   "cell_type": "markdown",
   "metadata": {},
   "source": [
    "Zork was a famous text-only adventure game for the computer. It was popular in the late 1970's. Users would type commands and navigate the rooms of an old house and a dungeon. Zork launched a genre of software games known as interactive fiction.\n",
    "\n",
    "Write an application that asks the user what direction they wish to travel in. Once they tell you the direction, move them to the next room and tell them what is in it and in what direction the other exits are.\n",
    "\n",
    "Your program shall allow the user to move from one room back and forth to any other connected room. The player should not be able to move to a non-connected room or through a wall.\n",
    "\n",
    "You program should allow the user to find the secret room only 25% of the time. However, once they find the secret room they can always find it.\n",
    "\n",
    "When the user exits the house or quits there is a 33% chance they will be followed by a ghost or something. Let them know when they are being followed.\n",
    "\n",
    "Let the user know how many rooms they visited after they exit or quit.\n",
    "\n",
    "||room|contains|doors to (direction & room #)\n",
    "|-|-|\n",
    "|#1|foyer|dead scorpion|room n2|\n",
    "|#2|front room|piano|rooms s1,w3, e4|\n",
    "|#3|parlor|3 walking skeletons|rooms n7, e2|\n",
    "|#4|dining room|bats|rooms w2,n5|\n",
    "|#5|kitchen|dust<br/>empty box|room s4|\n",
    "|#6|vault|treasure chest|rooms w7, e8 (33% of the time)|\n",
    "|#7|library|spiders|rooms e6 & s3|\n",
    "|#8|secret room|piles of gold|room w6|\n",
    " \n",
    "```\n",
    "Welcome to Zork's Haunted House\n",
    "\n",
    "You are standing in the foyer of an old house.\n",
    "You see a dead scorpion.\n",
    "You can (1) exit to the north, (2) run. \n",
    "What do you want to do? 1\n",
    "\n",
    "You are standing in the front room.\n",
    "You see a piano.\n",
    "You can (1) exit to the south, (2) exit to the east, (3) exit to the west, (4) run. \n",
    "What do you want to do? 2\n",
    "\n",
    "You are standing in the kitchen.\n",
    "You see bats.\n",
    "You can (1) exit to the east, (2) exit to the north, (3) run. \n",
    "What do you want to do? 2\n",
    "\n",
    "You are standing in the dining room.\n",
    "You see a dust and empty box.\n",
    "You can (1) exit to the south, (2) run. \n",
    "What do you want to do? 1\n",
    "\n",
    "You are standing in the kitchen.\n",
    "You see bats.\n",
    "You can (1) exit to the east, (2) exit to the north, (3) run. \n",
    "What do you want to do? 1\n",
    "\n",
    "You are standing in the front room.\n",
    "You see a piano.\n",
    "You can (1) exit to the south, (2) exit to the east, (3) exit to the west, (4) run. \n",
    "What do you want to do? 2\n",
    "\n",
    "You are standing in the kitchen.\n",
    "You see bats.\n",
    "You can (1) exit to the east, (2) exit to the north, (3) run. \n",
    "What do you want to do? 1\n",
    "\n",
    "You are standing in the front room.\n",
    "You see a piano.\n",
    "You can (1) exit to the south, (2) exit to the east, (3) exit to the west, (4) run. \n",
    "What do you want to do? 3\n",
    "\n",
    "You are standing in the library.\n",
    "You see spiders.\n",
    "You can (1) exit to the east, (2) exit to the north, (3) run. \n",
    "What do you want to do? 3\n",
    "You have exited the house. But you are not alone. \n",
    "Or are you? . . .\n",
    "```"
   ]
  },
  {
   "cell_type": "code",
   "execution_count": null,
   "metadata": {
    "collapsed": true
   },
   "outputs": [],
   "source": []
  }
 ],
 "metadata": {
  "kernelspec": {
   "display_name": "Python [Root]",
   "language": "python",
   "name": "Python [Root]"
  },
  "language_info": {
   "codemirror_mode": {
    "name": "ipython",
    "version": 2
   },
   "file_extension": ".py",
   "mimetype": "text/x-python",
   "name": "python",
   "nbconvert_exporter": "python",
   "pygments_lexer": "ipython2",
   "version": "2.7.12"
  }
 },
 "nbformat": 4,
 "nbformat_minor": 0
}
