{
 "cells": [
  {
   "cell_type": "markdown",
   "metadata": {},
   "source": [
    "\n",
    "To download iPython notebook visit continuum.io To start ipyhthon notebook:\n",
    "open the command prompt (Windows Key + R) then type: cmd\n",
    "At the command prompt type ipython notebook iPython notebook will probably open in Internet Explorer. Close Internet Explorer.\n",
    "Open Chrome or Firefox\n",
    "Type http://localhost:8888 in the address bar\n",
    "On the page that comes up start a new notebook by clicking on the New button and selecting Python 2"
   ]
  },
  {
   "cell_type": "code",
   "execution_count": 1,
   "metadata": {
    "collapsed": false
   },
   "outputs": [
    {
     "data": {
      "text/html": [
       "<script>\n",
       "code_show=true; \n",
       "function code_toggle() {\n",
       " if (code_show){\n",
       " $('div.input').hide();\n",
       " } else {\n",
       " $('div.input').show();\n",
       " }\n",
       " code_show = !code_show\n",
       "} \n",
       "$( document ).ready(code_toggle);\n",
       "</script>\n",
       "The code for this Jupyter notebook is hidden.\n",
       "To toggle on/off the code, click <a href=\"javascript:code_toggle()\">Show Code</a>."
      ],
      "text/plain": [
       "<IPython.core.display.HTML object>"
      ]
     },
     "execution_count": 1,
     "metadata": {},
     "output_type": "execute_result"
    }
   ],
   "source": [
    "from IPython.display import HTML\n",
    "HTML('''<script>\n",
    "code_show=true; \n",
    "function code_toggle() {\n",
    " if (code_show){\n",
    " $('div.input').hide();\n",
    " } else {\n",
    " $('div.input').show();\n",
    " }\n",
    " code_show = !code_show\n",
    "} \n",
    "$( document ).ready(code_toggle);\n",
    "</script>\n",
    "The code for this Jupyter notebook is hidden.\n",
    "To toggle on/off the code, click <a href=\"javascript:code_toggle()\">Show Code</a>.''')"
   ]
  },
  {
   "cell_type": "markdown",
   "metadata": {},
   "source": [
    "## Free Book Recommendation\n",
    " * email address required\n",
    " * lots of other resources\n",
    "\n",
    "https://www.syncfusion.com/resources/techportal/details/ebooks/python"
   ]
  },
  {
   "cell_type": "markdown",
   "metadata": {
    "collapsed": true
   },
   "source": [
    "#### while loop allows you to repeat code while a condition is true \n",
    "Here the condition is that x is not equal to 0.\n",
    "```!=``` means not equal. Type in the while loop to see how it works.\n",
    "\n",
    "```python\n",
    "x= 10\n",
    "while x != 0:\n",
    "    print x\n",
    "    x= x-1\n",
    "    print \" wow, we have counted down x and now it is equal to \" + str(x)\n",
    "\n",
    "print \" And now the loop has ended.\"    \n",
    "```"
   ]
  },
  {
   "cell_type": "markdown",
   "metadata": {
    "collapsed": false
   },
   "source": [
    "## Looping until no data is received\n",
    "\n",
    "```python\n",
    "# prompt for the first value\n",
    "data = raw_input(\"Enter the data or press enter to quit: \")\n",
    "while data != '':\n",
    "    print \"in the loop\"\n",
    "    data = data + raw_input(\"Enter the data or press enter to quit: \")\n",
    "\n",
    "print data    \n",
    "```\n",
    "\n",
    "\n",
    "## Using a counter in a while loop\n",
    "```python\n",
    "sum = 0\n",
    "counter = 1\n",
    "while counter <= 100:\n",
    "    sum = sum + counter\n",
    "    counter = counter + 1\n",
    "print sum\n",
    "\n",
    "# You can do the same thing with the for loop. \n",
    "# This is more efficient. \n",
    "# Notice I don't have to initialize the counter separately.\n",
    "# Range goes from 1 upto but not including 101 .. so fo 1 to \n",
    "sum = 0\n",
    "for counter in range(1,101):\n",
    "    sum = sum + counter\n",
    "print sum\n",
    "```"
   ]
  },
  {
   "cell_type": "code",
   "execution_count": 3,
   "metadata": {
    "collapsed": false
   },
   "outputs": [
    {
     "name": "stdout",
     "output_type": "stream",
     "text": [
      "Enter the data or press enter to quit: a\n",
      "in the loop\n",
      "Enter the data or press enter to quit: b\n",
      "in the loop\n",
      "Enter the data or press enter to quit: c\n",
      "in the loop\n",
      "Enter the data or press enter to quit: \n",
      "abc\n"
     ]
    }
   ],
   "source": [
    "# This program didn't work as entered above. Fix is below:\n",
    "# prompt for the first value\n",
    "inputdata = raw_input(\"Enter the data or press enter to quit: \")\n",
    "data = inputdata\n",
    "while inputdata != '':\n",
    "    print \"in the loop\"\n",
    "    inputdata = raw_input(\"Enter the data or press enter to quit: \")\n",
    "    data = data + inputdata\n",
    "\n",
    "print data"
   ]
  },
  {
   "cell_type": "markdown",
   "metadata": {
    "collapsed": true
   },
   "source": [
    "## Python expects code to be repeated to follow the colon : and to be indented\n",
    "Normal indentation is 4 spaces\n",
    "\n",
    "```python\n",
    "a = 0 \n",
    "b = 3\n",
    "while a < 10:\n",
    "    a = a + 1\n",
    "    b = b + 1\n",
    "    print \"The value of a is \" + str(a) + \" and the value of b is \" + str(b)\n",
    "print \"this line prints after the loop is finished\"\n",
    "print \"The value of a is \" + str(a) + \" and the value of b is \" + str(b)\n",
    "\n",
    "print \"You can change a variable with assignment (=)\"\n",
    "a = 234\n",
    "print \"the value of a is \" + str(a)\n",
    "```"
   ]
  },
  {
   "cell_type": "markdown",
   "metadata": {
    "collapsed": true
   },
   "source": [
    "## Movie Titles\n",
    "\n",
    "### Your next assignment is to append all your answers to a variable named history and show history after the user quits\n",
    "```python\n",
    "history = \"\"\n",
    "while True:\n",
    "    answer = input(\"Enter a movie you like or press 'q' to quit: \")\n",
    "    if answer.lower() == 'q':\n",
    "        break\n",
    "    else:\n",
    "        history += \"\\n\" + answer\n",
    "        #print(\"You entered \" + answer)\n",
    "\n",
    "print(\"You will now exit the program.\")\n",
    "print(history)\n",
    "```\n",
    "\n",
    "### Your next assignment is to add a counter to the movies\n",
    "```python\n",
    "while True:\n",
    "    answer = input(\"Enter a movie you like or press 'q' to quit: \")\n",
    "    if answer.lower() == 'q':\n",
    "        break\n",
    "    else:\n",
    "        print(\"You entered \" + answer)\n",
    "\n",
    "print(\"You will now exit the program.\")\n",
    "\n",
    "```"
   ]
  },
  {
   "cell_type": "markdown",
   "metadata": {},
   "source": [
    "## Logical Expressions\n",
    "* with one condition\n",
    "* with multiple conditions\n"
   ]
  },
  {
   "cell_type": "markdown",
   "metadata": {
    "collapsed": true
   },
   "source": [
    "## Write a logical expression that tests\n",
    "### if the variable x is a number in the range of 1 to 10\n",
    "```python\n",
    "x = raw_input(\"Enter the value for x: \")\n",
    "if x >=1 and x <= 10:\n",
    "    print True\n",
    "else:\n",
    "    print False\n",
    "```    "
   ]
  },
  {
   "cell_type": "markdown",
   "metadata": {},
   "source": [
    "## Grade program\n",
    "### Create a program which prompts the user to enter a numeric grade and prints the letter grade\n",
    "\n",
    "The letter grade should be assigned as follows:\n",
    "   * 90 to 100 = A    \n",
    "   * 80 to 89 = B\n",
    "   * 70 to 79 = C\n",
    "   * below 70 = F"
   ]
  },
  {
   "cell_type": "code",
   "execution_count": 5,
   "metadata": {
    "collapsed": false
   },
   "outputs": [
    {
     "name": "stdout",
     "output_type": "stream",
     "text": [
      "Enter the numeric grade: 88\n",
      "The letter grade is B\n"
     ]
    }
   ],
   "source": [
    "number = int(raw_input(\"Enter the numeric grade: \"))\n",
    "if number > 89:\n",
    "    letter = 'A'\n",
    "elif number > 79:\n",
    "    letter = 'B'\n",
    "elif number > 69:\n",
    "    letter = 'C'\n",
    "else:\n",
    "    letter = 'F'\n",
    "    \n",
    "print \"The letter grade is {}\".format(letter)    "
   ]
  },
  {
   "cell_type": "markdown",
   "metadata": {
    "collapsed": true
   },
   "source": [
    "## Python Ranges and for loops\n",
    "\n",
    "The range() function allows you to execute a statement (or sequence of statements) a given number of times. \n",
    "\n",
    "start: Starting number of the sequence.<br/>\n",
    "stop: Generate numbers up to, but not including this number.<br/>\n",
    "step: Difference between each number in the sequence.<br/>\n",
    "\n",
    "```range([start], stop[, step]) ```   # arguments in []'s are optional\n",
    "    \n",
    "The range function can take one argument, two arguments or three arguments. Try it now with each:\n",
    "\n",
    "```python\n",
    "counter = 4\n",
    "for eachPass in range(counter):\n",
    "    print counter\n",
    "print '-'*20   # this line prints the  - character 20 times\n",
    "\n",
    "counter = 1\n",
    "stop = 11\n",
    "for eachPass in range(counter,stop):\n",
    "    print counter\n",
    "print '-'*20   # this line prints the  - character 20 times  \n",
    "\n",
    "\n",
    "counter = 1\n",
    "stop = 21\n",
    "step = 2\n",
    "for eachPass in range(counter,stop,step):\n",
    "    print counter    \n",
    "print '-'*20  # this line prints the  - character 20 times   \n",
    "```"
   ]
  },
  {
   "cell_type": "markdown",
   "metadata": {
    "collapsed": true
   },
   "source": [
    "## Introducing print formatting. \n",
    "Use empty braces as a place holder followed by ```.format``` and the values to include\n",
    "\n",
    "```python\n",
    "print 'We are the {} who say \"{}!\"'.format('knights', 'Ni')\n",
    "```\n",
    "### you can also use numbers in the place holders\n",
    "```python\n",
    "print 'We are the {0} who say \"{1}!\"'.format('knights', 'Ni')\n",
    "```\n",
    "\n",
    "### can you see what just happened?\n",
    "```python\n",
    "print 'We are the {1} who say \"{0}!\"'.format('Ni','knights')\n",
    "```\n",
    "\n",
    "### More details on print formatting are at \n",
    "https://docs.python.org/2/tutorial/inputoutput.html\n"
   ]
  },
  {
   "cell_type": "code",
   "execution_count": 8,
   "metadata": {
    "collapsed": false
   },
   "outputs": [
    {
     "name": "stdout",
     "output_type": "stream",
     "text": [
      "We are the knights who say \"Ni!\"\n",
      "We are the knights who say \"Ni!\"\n",
      "We are the knights who say \"Ni!\"\n"
     ]
    }
   ],
   "source": [
    "print 'We are the {} who say \"{}!\"'.format('knights', 'Ni')\n",
    "print 'We are the {0} who say \"{1}!\"'.format('knights', 'Ni')\n",
    "print 'We are the {1} who say \"{0}!\"'.format('Ni','knights')"
   ]
  },
  {
   "cell_type": "markdown",
   "metadata": {},
   "source": [
    "## Counting down in a loop\n",
    "```python\n",
    "for x in range(10,0,-1):\n",
    "    print x\n",
    "```    "
   ]
  },
  {
   "cell_type": "code",
   "execution_count": 9,
   "metadata": {
    "collapsed": false
   },
   "outputs": [
    {
     "name": "stdout",
     "output_type": "stream",
     "text": [
      "10\n",
      "9\n",
      "8\n",
      "7\n",
      "6\n",
      "5\n",
      "4\n",
      "3\n",
      "2\n",
      "1\n"
     ]
    }
   ],
   "source": [
    "for x in range(10,0,-1):\n",
    "    print x"
   ]
  },
  {
   "cell_type": "markdown",
   "metadata": {},
   "source": [
    "## Print formatting\n",
    "```python\n",
    "print(\"{0} is the first item, {0} is the first item again, {1} is the second item\".format(1,2))\n",
    "```"
   ]
  },
  {
   "cell_type": "markdown",
   "metadata": {},
   "source": [
    "# What does this print?\n",
    "```python\n",
    "print(\"{0} is the first item, {0} is the first item again, {1} is the second item\".format(1,2))\n",
    "print(\"{0} is the first item, {0} is the first item again, {1} is the second item {0} is the first item\".format(1,2+3))\n",
    "```\n",
    "Output:\n",
    "```\n",
    "1 is the first item, 1 is the first item again, 2 is the second item\n",
    "1 is the first item, 1 is the first item again, 5 is the second item 1 is the first item\n",
    "```"
   ]
  },
  {
   "cell_type": "code",
   "execution_count": 10,
   "metadata": {
    "collapsed": false
   },
   "outputs": [
    {
     "name": "stdout",
     "output_type": "stream",
     "text": [
      "1 is the first item, 1 is the first item again, 5 is the second item 1 is the first item\n"
     ]
    }
   ],
   "source": [
    "print(\"{0} is the first item, {0} is the first item again, {1} is the second item {0} is the first item\".format(1,2+3))"
   ]
  },
  {
   "cell_type": "code",
   "execution_count": 11,
   "metadata": {
    "collapsed": false
   },
   "outputs": [
    {
     "name": "stdout",
     "output_type": "stream",
     "text": [
      "99 bottles of beer on the wall, 99 bottles of beer. Take one down, pass it around, 98 bottles of beer on the wall\n",
      "98 bottles of beer on the wall, 98 bottles of beer. Take one down, pass it around, 97 bottles of beer on the wall\n",
      "97 bottles of beer on the wall, 97 bottles of beer. Take one down, pass it around, 96 bottles of beer on the wall\n",
      "96 bottles of beer on the wall, 96 bottles of beer. Take one down, pass it around, 95 bottles of beer on the wall\n",
      "95 bottles of beer on the wall, 95 bottles of beer. Take one down, pass it around, 94 bottles of beer on the wall\n",
      "94 bottles of beer on the wall, 94 bottles of beer. Take one down, pass it around, 93 bottles of beer on the wall\n",
      "93 bottles of beer on the wall, 93 bottles of beer. Take one down, pass it around, 92 bottles of beer on the wall\n",
      "92 bottles of beer on the wall, 92 bottles of beer. Take one down, pass it around, 91 bottles of beer on the wall\n",
      "91 bottles of beer on the wall, 91 bottles of beer. Take one down, pass it around, 90 bottles of beer on the wall\n",
      "90 bottles of beer on the wall, 90 bottles of beer. Take one down, pass it around, 89 bottles of beer on the wall\n",
      "89 bottles of beer on the wall, 89 bottles of beer. Take one down, pass it around, 88 bottles of beer on the wall\n",
      "88 bottles of beer on the wall, 88 bottles of beer. Take one down, pass it around, 87 bottles of beer on the wall\n",
      "87 bottles of beer on the wall, 87 bottles of beer. Take one down, pass it around, 86 bottles of beer on the wall\n",
      "86 bottles of beer on the wall, 86 bottles of beer. Take one down, pass it around, 85 bottles of beer on the wall\n",
      "85 bottles of beer on the wall, 85 bottles of beer. Take one down, pass it around, 84 bottles of beer on the wall\n",
      "84 bottles of beer on the wall, 84 bottles of beer. Take one down, pass it around, 83 bottles of beer on the wall\n",
      "83 bottles of beer on the wall, 83 bottles of beer. Take one down, pass it around, 82 bottles of beer on the wall\n",
      "82 bottles of beer on the wall, 82 bottles of beer. Take one down, pass it around, 81 bottles of beer on the wall\n",
      "81 bottles of beer on the wall, 81 bottles of beer. Take one down, pass it around, 80 bottles of beer on the wall\n",
      "80 bottles of beer on the wall, 80 bottles of beer. Take one down, pass it around, 79 bottles of beer on the wall\n",
      "79 bottles of beer on the wall, 79 bottles of beer. Take one down, pass it around, 78 bottles of beer on the wall\n",
      "78 bottles of beer on the wall, 78 bottles of beer. Take one down, pass it around, 77 bottles of beer on the wall\n",
      "77 bottles of beer on the wall, 77 bottles of beer. Take one down, pass it around, 76 bottles of beer on the wall\n",
      "76 bottles of beer on the wall, 76 bottles of beer. Take one down, pass it around, 75 bottles of beer on the wall\n",
      "75 bottles of beer on the wall, 75 bottles of beer. Take one down, pass it around, 74 bottles of beer on the wall\n",
      "74 bottles of beer on the wall, 74 bottles of beer. Take one down, pass it around, 73 bottles of beer on the wall\n",
      "73 bottles of beer on the wall, 73 bottles of beer. Take one down, pass it around, 72 bottles of beer on the wall\n",
      "72 bottles of beer on the wall, 72 bottles of beer. Take one down, pass it around, 71 bottles of beer on the wall\n",
      "71 bottles of beer on the wall, 71 bottles of beer. Take one down, pass it around, 70 bottles of beer on the wall\n",
      "70 bottles of beer on the wall, 70 bottles of beer. Take one down, pass it around, 69 bottles of beer on the wall\n",
      "69 bottles of beer on the wall, 69 bottles of beer. Take one down, pass it around, 68 bottles of beer on the wall\n",
      "68 bottles of beer on the wall, 68 bottles of beer. Take one down, pass it around, 67 bottles of beer on the wall\n",
      "67 bottles of beer on the wall, 67 bottles of beer. Take one down, pass it around, 66 bottles of beer on the wall\n",
      "66 bottles of beer on the wall, 66 bottles of beer. Take one down, pass it around, 65 bottles of beer on the wall\n",
      "65 bottles of beer on the wall, 65 bottles of beer. Take one down, pass it around, 64 bottles of beer on the wall\n",
      "64 bottles of beer on the wall, 64 bottles of beer. Take one down, pass it around, 63 bottles of beer on the wall\n",
      "63 bottles of beer on the wall, 63 bottles of beer. Take one down, pass it around, 62 bottles of beer on the wall\n",
      "62 bottles of beer on the wall, 62 bottles of beer. Take one down, pass it around, 61 bottles of beer on the wall\n",
      "61 bottles of beer on the wall, 61 bottles of beer. Take one down, pass it around, 60 bottles of beer on the wall\n",
      "60 bottles of beer on the wall, 60 bottles of beer. Take one down, pass it around, 59 bottles of beer on the wall\n",
      "59 bottles of beer on the wall, 59 bottles of beer. Take one down, pass it around, 58 bottles of beer on the wall\n",
      "58 bottles of beer on the wall, 58 bottles of beer. Take one down, pass it around, 57 bottles of beer on the wall\n",
      "57 bottles of beer on the wall, 57 bottles of beer. Take one down, pass it around, 56 bottles of beer on the wall\n",
      "56 bottles of beer on the wall, 56 bottles of beer. Take one down, pass it around, 55 bottles of beer on the wall\n",
      "55 bottles of beer on the wall, 55 bottles of beer. Take one down, pass it around, 54 bottles of beer on the wall\n",
      "54 bottles of beer on the wall, 54 bottles of beer. Take one down, pass it around, 53 bottles of beer on the wall\n",
      "53 bottles of beer on the wall, 53 bottles of beer. Take one down, pass it around, 52 bottles of beer on the wall\n",
      "52 bottles of beer on the wall, 52 bottles of beer. Take one down, pass it around, 51 bottles of beer on the wall\n",
      "51 bottles of beer on the wall, 51 bottles of beer. Take one down, pass it around, 50 bottles of beer on the wall\n",
      "50 bottles of beer on the wall, 50 bottles of beer. Take one down, pass it around, 49 bottles of beer on the wall\n",
      "49 bottles of beer on the wall, 49 bottles of beer. Take one down, pass it around, 48 bottles of beer on the wall\n",
      "48 bottles of beer on the wall, 48 bottles of beer. Take one down, pass it around, 47 bottles of beer on the wall\n",
      "47 bottles of beer on the wall, 47 bottles of beer. Take one down, pass it around, 46 bottles of beer on the wall\n",
      "46 bottles of beer on the wall, 46 bottles of beer. Take one down, pass it around, 45 bottles of beer on the wall\n",
      "45 bottles of beer on the wall, 45 bottles of beer. Take one down, pass it around, 44 bottles of beer on the wall\n",
      "44 bottles of beer on the wall, 44 bottles of beer. Take one down, pass it around, 43 bottles of beer on the wall\n",
      "43 bottles of beer on the wall, 43 bottles of beer. Take one down, pass it around, 42 bottles of beer on the wall\n",
      "42 bottles of beer on the wall, 42 bottles of beer. Take one down, pass it around, 41 bottles of beer on the wall\n",
      "41 bottles of beer on the wall, 41 bottles of beer. Take one down, pass it around, 40 bottles of beer on the wall\n",
      "40 bottles of beer on the wall, 40 bottles of beer. Take one down, pass it around, 39 bottles of beer on the wall\n",
      "39 bottles of beer on the wall, 39 bottles of beer. Take one down, pass it around, 38 bottles of beer on the wall\n",
      "38 bottles of beer on the wall, 38 bottles of beer. Take one down, pass it around, 37 bottles of beer on the wall\n",
      "37 bottles of beer on the wall, 37 bottles of beer. Take one down, pass it around, 36 bottles of beer on the wall\n",
      "36 bottles of beer on the wall, 36 bottles of beer. Take one down, pass it around, 35 bottles of beer on the wall\n",
      "35 bottles of beer on the wall, 35 bottles of beer. Take one down, pass it around, 34 bottles of beer on the wall\n",
      "34 bottles of beer on the wall, 34 bottles of beer. Take one down, pass it around, 33 bottles of beer on the wall\n",
      "33 bottles of beer on the wall, 33 bottles of beer. Take one down, pass it around, 32 bottles of beer on the wall\n",
      "32 bottles of beer on the wall, 32 bottles of beer. Take one down, pass it around, 31 bottles of beer on the wall\n",
      "31 bottles of beer on the wall, 31 bottles of beer. Take one down, pass it around, 30 bottles of beer on the wall\n",
      "30 bottles of beer on the wall, 30 bottles of beer. Take one down, pass it around, 29 bottles of beer on the wall\n",
      "29 bottles of beer on the wall, 29 bottles of beer. Take one down, pass it around, 28 bottles of beer on the wall\n",
      "28 bottles of beer on the wall, 28 bottles of beer. Take one down, pass it around, 27 bottles of beer on the wall\n",
      "27 bottles of beer on the wall, 27 bottles of beer. Take one down, pass it around, 26 bottles of beer on the wall\n",
      "26 bottles of beer on the wall, 26 bottles of beer. Take one down, pass it around, 25 bottles of beer on the wall\n",
      "25 bottles of beer on the wall, 25 bottles of beer. Take one down, pass it around, 24 bottles of beer on the wall\n",
      "24 bottles of beer on the wall, 24 bottles of beer. Take one down, pass it around, 23 bottles of beer on the wall\n",
      "23 bottles of beer on the wall, 23 bottles of beer. Take one down, pass it around, 22 bottles of beer on the wall\n",
      "22 bottles of beer on the wall, 22 bottles of beer. Take one down, pass it around, 21 bottles of beer on the wall\n",
      "21 bottles of beer on the wall, 21 bottles of beer. Take one down, pass it around, 20 bottles of beer on the wall\n",
      "20 bottles of beer on the wall, 20 bottles of beer. Take one down, pass it around, 19 bottles of beer on the wall\n",
      "19 bottles of beer on the wall, 19 bottles of beer. Take one down, pass it around, 18 bottles of beer on the wall\n",
      "18 bottles of beer on the wall, 18 bottles of beer. Take one down, pass it around, 17 bottles of beer on the wall\n",
      "17 bottles of beer on the wall, 17 bottles of beer. Take one down, pass it around, 16 bottles of beer on the wall\n",
      "16 bottles of beer on the wall, 16 bottles of beer. Take one down, pass it around, 15 bottles of beer on the wall\n",
      "15 bottles of beer on the wall, 15 bottles of beer. Take one down, pass it around, 14 bottles of beer on the wall\n",
      "14 bottles of beer on the wall, 14 bottles of beer. Take one down, pass it around, 13 bottles of beer on the wall\n",
      "13 bottles of beer on the wall, 13 bottles of beer. Take one down, pass it around, 12 bottles of beer on the wall\n",
      "12 bottles of beer on the wall, 12 bottles of beer. Take one down, pass it around, 11 bottles of beer on the wall\n",
      "11 bottles of beer on the wall, 11 bottles of beer. Take one down, pass it around, 10 bottles of beer on the wall\n",
      "10 bottles of beer on the wall, 10 bottles of beer. Take one down, pass it around, 9 bottles of beer on the wall\n",
      "9 bottles of beer on the wall, 9 bottles of beer. Take one down, pass it around, 8 bottles of beer on the wall\n",
      "8 bottles of beer on the wall, 8 bottles of beer. Take one down, pass it around, 7 bottles of beer on the wall\n",
      "7 bottles of beer on the wall, 7 bottles of beer. Take one down, pass it around, 6 bottles of beer on the wall\n",
      "6 bottles of beer on the wall, 6 bottles of beer. Take one down, pass it around, 5 bottles of beer on the wall\n",
      "5 bottles of beer on the wall, 5 bottles of beer. Take one down, pass it around, 4 bottles of beer on the wall\n",
      "4 bottles of beer on the wall, 4 bottles of beer. Take one down, pass it around, 3 bottles of beer on the wall\n",
      "3 bottles of beer on the wall, 3 bottles of beer. Take one down, pass it around, 2 bottles of beer on the wall\n",
      "2 bottles of beer on the wall, 2 bottles of beer. Take one down, pass it around, 1 bottles of beer on the wall\n",
      "1 bottle of beer on the wall, 1 bottle of beer. Take it down, pass it around, No more bottles of beer on the wall\n",
      "My song is finished!\n"
     ]
    }
   ],
   "source": [
    "for bottle in range(99,0,-1):\n",
    "    if bottle == 1:\n",
    "        print(\"{0} bottle of beer on the wall, {0} bottle of beer. Take it down, pass it around, No more bottles of beer on the wall\".format(bottle))\n",
    "    else:\n",
    "        print(\"{0} bottles of beer on the wall, {0} bottles of beer. Take one down, pass it around, {1} bottles of beer on the wall\".format(bottle,bottle-1))\n",
    "    \n",
    "print(\"My song is finished!\")"
   ]
  },
  {
   "cell_type": "markdown",
   "metadata": {},
   "source": [
    "## Returning remainders\n",
    "The % (modulo) operator yields the remainder from the division of the first argument by the second. The numeric arguments are first converted to a common type. A zero right argument raises the ZeroDivisionError exception. The arguments may be floating point numbers, e.g., 3.14%0.7 equals 0.34 (since 3.14 equals 4*0.7 + 0.34.) The modulo operator always yields a result with the same sign as its second operand (or zero); the absolute value of the result is strictly smaller than the absolute value of the second operand [2].\n",
    "Taken from http://docs.python.org/reference/expressions.html\n",
    "\n",
    "```python\n",
    "# The remainder of 3 % 2 is 1\n",
    "3 % 2\n",
    "# The remainder of 3 % 3 is 0\n",
    "3 % 3\n",
    "# divmod is a function that returns a tuple containing the quotent and the remainder\n",
    "divmod(10,3) \n",
    "```\n",
    "\n",
    "Example 1:  ```6%2``` evaluates to ```0``` because there's no remainder if 6 is divided by 2 ( 3 times ).\n",
    "\n",
    "Example 2: ```7%2``` evaluates to 1 because there's a remainder of 1 when 7 is divided by 2 ( 3 times ).\n",
    "\n",
    "So to summarise that, it returns the remainder of a division operation, or 0 if there is no remainder. So 6%2 means find the remainder of 6 divided by 2.\n",
    "\n",
    "```python\n",
    "# list the even numbers between 1 and 20 (inclusive)\n",
    "for x in range(1,21):\n",
    "    if x % 2 == 0:\n",
    "        print \"{} is an even number\".format(x)\n",
    "print \"Done!\"\n",
    "\n",
    "# list the multiples of 7 between 1 and 100\n",
    "for x in range (1,101):\n",
    "    if x % 7 == 0:\n",
    "        print \"{} is a multiple of 7\".format(x)\n",
    "print \"Done!\"\n",
    "```"
   ]
  },
  {
   "cell_type": "code",
   "execution_count": 12,
   "metadata": {
    "collapsed": false
   },
   "outputs": [
    {
     "name": "stdout",
     "output_type": "stream",
     "text": [
      "2 is an even number\n",
      "4 is an even number\n",
      "6 is an even number\n",
      "8 is an even number\n",
      "10 is an even number\n",
      "12 is an even number\n",
      "14 is an even number\n",
      "16 is an even number\n",
      "18 is an even number\n",
      "20 is an even number\n",
      "Done!\n",
      "7 is a multiple of 7\n",
      "14 is a multiple of 7\n",
      "21 is a multiple of 7\n",
      "28 is a multiple of 7\n",
      "35 is a multiple of 7\n",
      "42 is a multiple of 7\n",
      "49 is a multiple of 7\n",
      "56 is a multiple of 7\n",
      "63 is a multiple of 7\n",
      "70 is a multiple of 7\n",
      "77 is a multiple of 7\n",
      "84 is a multiple of 7\n",
      "91 is a multiple of 7\n",
      "98 is a multiple of 7\n",
      "Done!\n"
     ]
    }
   ],
   "source": [
    "# list the even numbers between 1 and 20 (inclusive)\n",
    "for x in range(1,21):\n",
    "    if x % 2 == 0:\n",
    "        print \"{} is an even number\".format(x)\n",
    "print \"Done!\"\n",
    "\n",
    "# list the multiples of 7 between 1 and 100\n",
    "for x in range (1,101):\n",
    "    if x % 7 == 0:\n",
    "        print \"{} is a multiple of 7\".format(x)\n",
    "print \"Done!\""
   ]
  },
  {
   "cell_type": "markdown",
   "metadata": {},
   "source": [
    "## FizzBuzz\n",
    "Write a program that prints the numbers from 1 to 100. \n",
    "* For multiples of three print \"Fizz\" instead of the number \n",
    "* For the multiples of five print \"Buzz\" instead of the number \n",
    "* For numbers which are multiples of both three and five print \"FizzBuzz\"\n",
    "\n",
    "*Hint: Write it on paper first then program it in the computer*\n",
    "```\n",
    "Example Output:\n",
    "1\n",
    "2\n",
    "Fizz\n",
    "4\n",
    "Buzz\n",
    "Fizz\n",
    "7\n",
    "8\n",
    "Fizz\n",
    "```"
   ]
  },
  {
   "cell_type": "code",
   "execution_count": null,
   "metadata": {
    "collapsed": true
   },
   "outputs": [],
   "source": [
    "for x in range(1,101):\n",
    "    if x % 3 == 0 and x % 5 == 0:\n",
    "        print 'FizzBuzz'\n",
    "    elif x % 3 == 0:\n",
    "        print 'Fizz'\n",
    "    elif x % 5 == 0:\n",
    "        print 'Buzz'\n",
    "    else:\n",
    "        print x"
   ]
  },
  {
   "cell_type": "markdown",
   "metadata": {
    "collapsed": true
   },
   "source": [
    "## Let's fix this program. It doesn't calculate correctly.\n",
    "\n",
    "```python\n",
    "# Accept the inputs\n",
    "startSal = 100000.0\n",
    "increase = 10\n",
    "years = 10\n",
    "\n",
    "# Compute and display the results\n",
    "print(\"Year   Salary\\n-------------\")\n",
    "multiplier = 1 + (increase / 100)\n",
    "print multiplier\n",
    "nextSal = startSal\n",
    "for year in range(1, years + 1):\n",
    "    print \"{0}  {1:.2f}\".format(year, nextSal)\n",
    "    nextSal = (nextSal * multiplier)\n",
    "```"
   ]
  },
  {
   "cell_type": "code",
   "execution_count": 20,
   "metadata": {
    "collapsed": false
   },
   "outputs": [
    {
     "name": "stdout",
     "output_type": "stream",
     "text": [
      "<type 'float'>\n",
      "<type 'float'>\n",
      "Year   Salary\n",
      "-------------\n",
      "1.1\n",
      "1  1100000.00\n",
      "2  1210000.00\n",
      "3  1331000.00\n",
      "4  1464100.00\n",
      "5  1610510.00\n",
      "6  1771561.00\n",
      "7  1948717.10\n",
      "8  2143588.81\n",
      "9  2357947.69\n",
      "10  2593742.46\n"
     ]
    }
   ],
   "source": [
    "# Accept the inputs\n",
    "startSal = 1000000.0\n",
    "increase = 10.0\n",
    "years = 10\n",
    "\n",
    "print type(startSal)\n",
    "print type(increase)\n",
    "\n",
    "\n",
    "# Compute and display the results\n",
    "print(\"Year   Salary\\n-------------\")\n",
    "multiplier = 1 + (increase / 100.0)\n",
    "print multiplier\n",
    "nextSal = startSal\n",
    "for year in range(1, years + 1):\n",
    "    nextSal = (nextSal * multiplier)\n",
    "    print \"{0}  {1:.2f}\".format(year, nextSal)\n",
    "    "
   ]
  },
  {
   "cell_type": "markdown",
   "metadata": {
    "collapsed": true
   },
   "source": [
    "## A shortcut for you ...\n",
    "Expressions such as x = x + 1 occur so frequently that a shortcut exists for them....\n",
    "You can say x += 1 and get the same result. \n",
    "Note there is no space between the operator (+) and the = sign.\n",
    "This works with other operators as well such as - and * and /\n",
    "Try it below:\n",
    "\n",
    "```python\n",
    "total = 0\n",
    "for amount in range(10):\n",
    "    total = total + amount\n",
    "    print total\n",
    "```\n",
    "\n",
    "*This can be shortened to:* \n",
    "```python\n",
    "total = 0\n",
    "for amount in range(10):\n",
    "    total += amount\n",
    "    print total\n",
    " ```"
   ]
  },
  {
   "cell_type": "markdown",
   "metadata": {},
   "source": [
    "# Reading from a file\n",
    "The file object allows us to  output text to a file. \n",
    "The open function takes a pathname and a mode string as arguments and opens a connection to the file. \n",
    "The mode string can be 'r' to read from a file or 'w' to write to a file.\n",
    "\n",
    "```python\n",
    "f = open(\"myfile.txt\",\"w\")\n",
    "f.write(\"this is line 1\\n\")\n",
    "f.write(\"this is line 2\\n\")\n",
    "f.write(\"this is line 3\\n\")\n",
    "f.close()\n",
    "\n",
    "# reading all the text into a string\n",
    "f = open(\"myfile.txt\",\"r\")\n",
    "text = f.read()\n",
    "f.close\n",
    "print text\n",
    "\n",
    "# reading the file line by line\n",
    "f = open(\"myfile.txt\",\"r\")\n",
    "for line in f:\n",
    "    print line\n",
    "f.close\n",
    "```\n",
    "\n",
    "Details are at https://docs.python.org/2/tutorial/inputoutput.html\n",
    "\n"
   ]
  },
  {
   "cell_type": "markdown",
   "metadata": {},
   "source": [
    "```python\n",
    "f = open(\"myfile.txt\",\"w\")\n",
    "f.write(\"this is line 1\\n\")\n",
    "f.write(\"this is line 2\\n\")\n",
    "f.write(\"this is line 3\\n\")\n",
    "f.close()\n",
    "\n",
    "# reading all the text into a string\n",
    "f = open(\"myfile.txt\",\"r\")\n",
    "text = f.read()\n",
    "f.close\n",
    "print text\n",
    "\n",
    "# reading the file line by line\n",
    "f = open(\"myfile.txt\",\"r\")\n",
    "print f.readline(), # the comma supresses the new line\n",
    "print f.readline(), # the comma supresses the new line\n",
    "print f.readline() # this line will be followed by a new line\n",
    "f.close\n",
    "\n",
    "f = open(\"myfile.txt\",\"r\")\n",
    "for line in f:\n",
    "    print line,\n",
    "f.close\n",
    "\n",
    "# you can also read the lines of a file into a list\n",
    "f = open(\"myfile.txt\",\"r\")\n",
    "l = list(f)\n",
    "f.close\n",
    "print l\n",
    "```"
   ]
  },
  {
   "cell_type": "markdown",
   "metadata": {},
   "source": [
    "## Random Numbers\n",
    "The random library allows our script to generate random numbers.\n",
    "```python\n",
    "import random as rnd #using as allows you to rename the class so you can be lazy and type less\n",
    "```\n",
    "**Warning** The pseudo-random generators of this module should not be used for security purposes. Use ```os.urandom()``` or ```SystemRandom``` if you require a cryptographically secure pseudo-random number generator.\n",
    "\n",
    "```python\n",
    "# generate a random number between 1 and 1000\n",
    "number = rnd.randint(1,1000)\n",
    "print number\n",
    "```\n"
   ]
  },
  {
   "cell_type": "markdown",
   "metadata": {
    "collapsed": false
   },
   "source": [
    "### Example Random Program\n",
    "```python\n",
    "import random as rnd\n",
    "number = rnd.randint(1,500)\n",
    "print number\n",
    "```"
   ]
  },
  {
   "cell_type": "code",
   "execution_count": 31,
   "metadata": {
    "collapsed": false
   },
   "outputs": [
    {
     "name": "stdout",
     "output_type": "stream",
     "text": [
      "90\n"
     ]
    }
   ],
   "source": [
    "import random as rnd\n",
    "number = rnd.randint(1,500)\n",
    "print number"
   ]
  },
  {
   "cell_type": "markdown",
   "metadata": {},
   "source": [
    "## Lists\n",
    "\n",
    "A list is a value that contains multiple values in an ordered sequence. The\n",
    "term list value refers to the list itself (which is a value that can be stored in a\n",
    "variable or passed to a function like any other value), not the values inside\n",
    "the list value. A list value looks like this: ['cat', 'bat', 'rat', 'elephant'].\n",
    "Just as string values are typed with quote characters to mark where the\n",
    "string begins and ends, a list begins with an opening square bracket and\n",
    "ends with a closing square bracket, []. Values inside the list are also called\n",
    "items. Items are separated with commas (that is, they are comma-delimited)."
   ]
  },
  {
   "cell_type": "markdown",
   "metadata": {},
   "source": [
    "### storing items in a list\n",
    "```python\n",
    "simpsons = ['homer','marge','bart','lisa','maggie']\n",
    "print simpsons\n",
    "```\n",
    "\n",
    "### getting individual items\n",
    "```python\n",
    "print simpsons[0]\n",
    "print simpsons[4]\n",
    "```\n",
    "\n",
    "### looping through a list\n",
    "```python\n",
    "for character in simpsons:\n",
    "    print character\n",
    "```"
   ]
  },
  {
   "cell_type": "code",
   "execution_count": 37,
   "metadata": {
    "collapsed": false
   },
   "outputs": [
    {
     "name": "stdout",
     "output_type": "stream",
     "text": [
      "['homer', 'marge', 'bart', 'lisa', 'maggie']\n",
      "homer\n",
      "maggie\n",
      "1\n",
      "2\n",
      "3\n",
      "4\n",
      "a\n",
      "b\n",
      "c\n"
     ]
    }
   ],
   "source": [
    "simpsons = ['homer','marge','bart','lisa','maggie']\n",
    "print simpsons\n",
    "\n",
    "print simpsons[0]\n",
    "print simpsons[4]\n",
    "\n",
    "for x in [1, 2, 3, 4]:\n",
    "    print x\n",
    "    \n",
    "names = [\"a\", \"b\", \"c\"]\n",
    "for purple in names:\n",
    "    print purple    "
   ]
  },
  {
   "cell_type": "markdown",
   "metadata": {},
   "source": [
    "## Printing all items in a list\n",
    "```python\n",
    "for x in [1, 2, 3, 4]:\n",
    "    print x,# comma eliminates new line\n",
    "```"
   ]
  },
  {
   "cell_type": "markdown",
   "metadata": {},
   "source": [
    "## Printing all items in a list\n",
    "```python\n",
    "names = [\"a\", \"b\", \"c\"]\n",
    "for name in names:\n",
    "    print name # no comma so each item prints on it's own line\n",
    "```"
   ]
  },
  {
   "cell_type": "markdown",
   "metadata": {},
   "source": [
    "### Printing part of a list\n",
    "```python\n",
    "letters = ['a','b','c','d','e','f','g','h']\n",
    "for letter in letters[2:6]:# prints letter 0, 1, 2, 3, 4, 5\n",
    "    print letter,\n",
    "\n",
    "print \"\" # print a new line \n",
    "for letter in letters[3:7]:\n",
    "    print letter,\n",
    "```"
   ]
  },
  {
   "cell_type": "code",
   "execution_count": 38,
   "metadata": {
    "collapsed": false
   },
   "outputs": [
    {
     "name": "stdout",
     "output_type": "stream",
     "text": [
      "c d e f \n",
      "d e f g\n"
     ]
    }
   ],
   "source": [
    "letters = ['a','b','c','d','e','f','g','h']\n",
    "for letter in letters[2:6]:# prints letter 2, 3, 4, 5\n",
    "    print letter,\n",
    "\n",
    "print \"\" # print a new line \n",
    "for letter in letters[3:7]:\n",
    "    print letter,"
   ]
  },
  {
   "cell_type": "markdown",
   "metadata": {
    "collapsed": true
   },
   "source": [
    "### Looping with Lists\n",
    "http://learnpythonthehardway.org/book/ex32.html"
   ]
  },
  {
   "cell_type": "markdown",
   "metadata": {},
   "source": [
    "## Modify the movie program\n",
    "* add movies to a list instead of a string variable\n",
    "* When the program is finished make it print the following output:\n",
    "\n",
    "```\n",
    "The first three movies you entered are:\n",
    "movie 1\n",
    "movie 2\n",
    "movie 3\n",
    "\n",
    "The last movie you entered was:\n",
    "movie 99\n",
    "```"
   ]
  },
  {
   "cell_type": "markdown",
   "metadata": {
    "collapsed": true
   },
   "source": [
    "## Python includes a library for dates. We can add that to our program with the following statement:\n",
    "```python\n",
    "import datetime\n",
    "```\n",
    "## Get the date/time for now... according to your computer\n",
    "```python\n",
    "now = datetime.datetime.now()\n",
    "print \"It is now: {} \".format(now)\n",
    "```\n",
    "\n",
    "# Print it all in a nicer format\n",
    "```python\n",
    "print \"The year is: {}, the month is: {}, the day is: {} the time is: {}:{}:{}\".format(now.year, now.month, now.day, now.hour, now.minute, now.second)\n",
    "```\n",
    "\n",
    "## Print the years from 2000 to today\n",
    "# This prints on one line \n",
    "```python\n",
    "for y in range(2000, now.year+1):\n",
    "    print \"{} \".format(y),\n",
    "```\n",
    "\n",
    "### This prints a new line each time the print statement is called. Can you tell why?   \n",
    "```python\n",
    "for y in range(2000, now.year+1):\n",
    "    print \"{} \".format(y)   \n",
    "```  "
   ]
  }
 ],
 "metadata": {
  "anaconda-cloud": {},
  "kernelspec": {
   "display_name": "Python [Root]",
   "language": "python",
   "name": "Python [Root]"
  },
  "language_info": {
   "codemirror_mode": {
    "name": "ipython",
    "version": 2
   },
   "file_extension": ".py",
   "mimetype": "text/x-python",
   "name": "python",
   "nbconvert_exporter": "python",
   "pygments_lexer": "ipython2",
   "version": "2.7.12"
  }
 },
 "nbformat": 4,
 "nbformat_minor": 0
}
