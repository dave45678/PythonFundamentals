{
 "cells": [
  {
   "cell_type": "markdown",
   "metadata": {},
   "source": [
    "# Getting input from the user\n",
    "```\n",
    "prompt = \"Enter something\"\n",
    "value = raw_input(prompt)\n",
    "print value\n",
    "```"
   ]
  },
  {
   "cell_type": "code",
   "execution_count": null,
   "metadata": {
    "collapsed": true
   },
   "outputs": [],
   "source": [
    "# Write a program that prompts the user for their name, \n",
    "# saves it in variable called 'name' and prints the name\n",
    "prompt = 'Please enter your name: '\n",
    "name = raw_input(prompt)\n",
    "print name\n"
   ]
  },
  {
   "cell_type": "code",
   "execution_count": null,
   "metadata": {
    "collapsed": false
   },
   "outputs": [],
   "source": [
    "# Looping to get input multiple times\n",
    "counter = 5\n",
    "while counter > 0:\n",
    "    print \"In the loop\"\n",
    "    counter = counter - 1\n",
    "    \n",
    "print \"Finished with the loop\""
   ]
  },
  {
   "cell_type": "code",
   "execution_count": null,
   "metadata": {
    "collapsed": false
   },
   "outputs": [],
   "source": [
    "\"\"\"\n",
    "Write a program that receives ten numbers from the user \n",
    "until the user presses enter without entering a number.\n",
    "Then print the sum of the numbers and their average.\n",
    "\"\"\"\n",
    "\n",
    "total = 0\n",
    "count = 0\n",
    "while count < 10:\n",
    "    number = raw_input(\"Enter a number or press Enter to quit: \")\n",
    "    total = total + float(number)\n",
    "    count = count + 1\n",
    "    \n",
    "\n",
    "print(\"The sum is\", sum)\n",
    "print(\"The average is\", sum / count)\n"
   ]
  },
  {
   "cell_type": "markdown",
   "metadata": {},
   "source": [
    "#Printing"
   ]
  },
  {
   "cell_type": "code",
   "execution_count": null,
   "metadata": {
    "collapsed": true
   },
   "outputs": [],
   "source": [
    "## Printing\n",
    "a1 = 'a'\n",
    "a2 = 'ab'\n",
    "a3 = 'abc'\n",
    "print (a1)\n",
    "print (a2)\n",
    "print (a3)\n",
    "print (a3[1], a3[1:])"
   ]
  },
  {
   "cell_type": "markdown",
   "metadata": {},
   "source": [
    "#Comments"
   ]
  },
  {
   "cell_type": "code",
   "execution_count": null,
   "metadata": {
    "collapsed": true
   },
   "outputs": [],
   "source": [
    "'''\n",
    "There are two ways to write comments. This is one\n",
    "'''\n",
    "#This is another"
   ]
  },
  {
   "cell_type": "markdown",
   "metadata": {},
   "source": [
    "##Decision Making\n",
    "\n",
    "A program can make decisions\n",
    "\n",
    "Make the following program work then modify it to print I like blue and I like green. To have more than one condition in an if statement use elif insted of else. But always use else at the bottom to capture every possible scenario.\n",
    "\n",
    "Note: to compare two values use == to assign a value use =\n",
    "\n",
    "    ```\n",
    "    favoriteColor = raw_input(\"What is your favorite color? \")\n",
    "\n",
    "    if favoriteColor == \"red\":\n",
    "        print \"I like red, too\"\n",
    "    else:\n",
    "        print \"My favorite color is not \" + favoriteColor\n",
    "    ```\n",
    "    "
   ]
  },
  {
   "cell_type": "code",
   "execution_count": null,
   "metadata": {
    "collapsed": true
   },
   "outputs": [],
   "source": [
    "# Write a logical expression that test to see if the variable x is a number in the range of 1 to 10\n",
    "\n",
    "x = raw_input(\"Enter the value for x: \")\n",
    "if x >=1 and x <= 10:\n",
    "    print True\n",
    "else:\n",
    "    print False\n",
    "    "
   ]
  },
  {
   "cell_type": "code",
   "execution_count": null,
   "metadata": {
    "collapsed": true
   },
   "outputs": [],
   "source": [
    "taxcode = int(raw_input(\"Enter the taxcode: \"))\n",
    "amt = float(raw_input(\"Enter the amount: \"))\n",
    "if taxcode == 1:\n",
    "    tax = .05 * amt\n",
    "    state = 'VA'\n",
    "elif taxcode == 2:\n",
    "    tax = .06 * amt\n",
    "    state = 'MD'\n",
    "elif taxcode == 3:\n",
    "     tax = 0.0\n",
    "     state = 'DE'\n",
    "else:\n",
    "     tax = .07 * amt\n",
    "     state = 'DC'\n",
    "print state,' Tax owed: ', tax\n"
   ]
  },
  {
   "cell_type": "code",
   "execution_count": null,
   "metadata": {
    "collapsed": true
   },
   "outputs": [],
   "source": [
    "\"\"\"\n",
    "Program: employeepay.py\n",
    "Project 2.10\n",
    "\n",
    "Compute an employee's total weekly pay.\n",
    "\n",
    "Useful facts:\n",
    "     An employee's total weekly pay equals the\n",
    "     hourly wage multiplied by the total number\n",
    "     of regular hours plus any overtime pay.  Overtime\n",
    "     pay equals the total overtime hours multiplied by 1.5\n",
    "     times the hourly wage.\n",
    "\n",
    "Write a program that takes as inputs the hourly wage,\n",
    "total regular hours, and total overtime hours and\n",
    "displays an employee's total weekly pay.\n",
    "\n",
    "\"\"\"         \n",
    "\n",
    "# Request the inputs\n",
    "wage = float(input(\"Enter the wage: $\"))  \n",
    "regularHours = float(input(\"Enter the regular hours: \"))  \n",
    "overtimeHours = float(input(\"Enter the overtime hours: \"))  \n",
    "\n",
    "# Compute the result\n",
    "totalPay = regularHours * wage + overtimeHours * wage * 1.5\n",
    "\n",
    "# Display the result\n",
    "print(\"The total weekly pay is $\" + str(round(totalPay, 2)))\n"
   ]
  },
  {
   "cell_type": "markdown",
   "metadata": {},
   "source": [
    "## Returning remainder\n",
    "The % (modulo) operator yields the remainder from the division of the first argument by the second. \n",
    "The numeric arguments are first converted to a common type. \n",
    "A zero right argument raises the ZeroDivisionError exception.\n",
    "\n",
    "```\n",
    "3 % 2\n",
    "3 % 3\n",
    "divmod(10,3)\n",
    "```\n"
   ]
  },
  {
   "cell_type": "markdown",
   "metadata": {},
   "source": [
    "Write a program that prints the numbers from 1 to 100. \n",
    "But for multiples of three print “Fizz” instead of the number \n",
    "and for the multiples of five print “Buzz”. \n",
    "For numbers which are multiples of both three and five print “FizzBuzz”.\n",
    "Write it on paper first then program it in the computer."
   ]
  },
  {
   "cell_type": "code",
   "execution_count": null,
   "metadata": {
    "collapsed": true
   },
   "outputs": [],
   "source": [
    "'''\n",
    "How tall are four-story tall waves?\n",
    "http://www.washingtonpost.com/business/economy/cargo-ship-likely-sank-during-hurricane-coast-guard-says/2015/10/05/2bab59ae-6b79-11e5-aa5b-f78a98956699_story.html\n",
    "\n",
    "Python can help us find out how tall a four story building is \n",
    "and how many of you stacked up would be the height of The Burj Khalifa in Dubui, UAE\n",
    "https://en.wikipedia.org/wiki/List_of_tallest_buildings_and_structures_in_the_world\n",
    "'''\n",
    "#http://www.ctbuh.org/TallBuildings/HeightStatistics/HeightCalculator/OnLineCalculator/tabid/1068/language/en-GB/Default.aspx\n",
    "FEET_PER_METER = 3.28084\n",
    "nmbr_stories = int( raw_input(\"Enter the number of stories: \"))\n",
    "height = (3.9 * nmbr_stories) + 11.7 + (3.9 * (nmbr_stories/20))\n",
    "#convert meters to feet\n",
    "height = height * FEET_PER_METER\n",
    "#https://docs.python.org/2/library/string.html#format-string-syntax\n",
    "print(\"The {0} story tall building would be {1:,.0f} feet tall\".format(nmbr_stories,height))\n",
    "\n"
   ]
  },
  {
   "cell_type": "code",
   "execution_count": null,
   "metadata": {
    "collapsed": true
   },
   "outputs": [],
   "source": [
    "'''\n",
    "You may be as astonished as we were to learn how much water runs off a roof in a rain storm!\n",
    "Take a guess--what is the volume of water that runs off a 1,000 square foot roof during a 1\" rain storm?\n",
    "20 gallons? 50 gallons? 100 gallons? 1000 gallons?\n",
    "Python can give us the answer.\n",
    "\n",
    "To calculate the runoff from any given rainfall:\n",
    "Take the dimensions of the footprint of your roof and convert them to inches. (So, a 50' x 20' roof is 600\" x 240\".)\n",
    "Multiply the roof dimensions by the number of inches of rainfall. \n",
    "In this example, 600\" x 240\" x 1\" = 144,000 cubic inches of water.\n",
    "Divide by 231 to get the number of gallons (because 1 gallon = 231 cubic inches). (144,000/231 = 623.38).\n",
    "'''\n",
    "\n",
    "length = float(raw_input(\"Enter the length of your roof (feet): \"))\n",
    "width = float(raw_input(\"Enter the width of your roof (feet): \"))\n",
    "area = (length * 12) * (width * 12) #calculate the area of the roof in sq. inches\n",
    "how_much_rain = float(raw_input(\"How much rain fell? \"))\n",
    "cu_inches_water = area * how_much_rain\n",
    "nmbr_gallons = cu_inches_water/231 #because 1 gallon is 132 cu inches\n",
    "print(\"Approximately {0:,.1f} gallons of water fell on your roof when {1:.1f} inches rain fell.\".format(nmbr_gallons,how_much_rain))\n",
    "\n"
   ]
  },
  {
   "cell_type": "markdown",
   "metadata": {},
   "source": [
    "Looping in Python\n",
    "repeat code until a condition is met\n",
    "counted repetition (for loops)"
   ]
  },
  {
   "cell_type": "code",
   "execution_count": null,
   "metadata": {
    "collapsed": true
   },
   "outputs": [],
   "source": [
    "#### while loop allows you to repeat code while a condition is true \n",
    "Here the condition is that x is not equal to 0.\n",
    "```!=``` means not equal. Type in the while loop to see how it works.\n",
    "\n",
    "```\n",
    "x= 10\n",
    "while x != 0:\n",
    "    print x\n",
    "    x= x-1\n",
    "    print \" wow, we have counted down x and now it is equal to \" + str(x)\n",
    "\n",
    "print \" And now the loop has ended.\"    \n",
    "```"
   ]
  },
  {
   "cell_type": "code",
   "execution_count": null,
   "metadata": {
    "collapsed": true
   },
   "outputs": [],
   "source": [
    "#### Python expects code to be repeated to follow the colon : and to be indented\n",
    "Normal indentation is 4 spaces\n",
    "\n",
    "```\n",
    "a = 0 \n",
    "b = 3\n",
    "while a < 10:\n",
    "    a = a + 1\n",
    "    b = b + 1\n",
    "    print \"The value of a is \" + str(a) + \" and the value of b is \" + str(b)\n",
    "print \"this line prints after the loop is finished\"\n",
    "print \"The value of a is \" + str(a) + \" and the value of b is \" + str(b)\n",
    "\n",
    "print \"You can change a variable with assignment (=)\"\n",
    "a = 234\n",
    "print \"the value of a is \" + str(a)\n",
    "```"
   ]
  },
  {
   "cell_type": "code",
   "execution_count": null,
   "metadata": {
    "collapsed": true
   },
   "outputs": [],
   "source": [
    "##Python Ranges and for loops\n",
    "'''\n",
    "The range() function allows you to execute a statement (or sequence of statements) a given number of times. \n",
    "\n",
    "start: Starting number of the sequence.\n",
    "stop: Generate numbers up to, but not including this number.\n",
    "step: Difference between each number in the sequence.\n",
    "\n",
    "range([start], stop[, step])    # arguments in []'s are optional\n",
    "    \n",
    "The range function can take one argument, two arguments or three arguments. Try it now with each:\n",
    "'''\n",
    "\n",
    "counter = 4\n",
    "for eachPass in range(counter):\n",
    "    print counter\n",
    "print '_'*20    \n",
    "\n",
    "\n",
    "counter = 1\n",
    "stop = 11\n",
    "for eachPass in range(counter,stop):\n",
    "    print counter\n",
    "print '_'*20    \n",
    "\n",
    "\n",
    "counter = 1\n",
    "stop = 21\n",
    "step = 2\n",
    "for eachPass in range(counter,stop,step):\n",
    "    print counter    \n",
    "print '_'*20    \n"
   ]
  },
  {
   "cell_type": "code",
   "execution_count": null,
   "metadata": {
    "collapsed": true
   },
   "outputs": [],
   "source": [
    "# A shortcut for you ...\n",
    "# Expressions such as x = x + 1 occur so frequently that a shortcut exists for them....\n",
    "# You can say x += 1 and get the same result. \n",
    "# Note there is no space between the operator (+) and the = sign.\n",
    "# This works with other operators as well such as - and * and /\n",
    "# Try it below:\n",
    "\n",
    "total = 0\n",
    "for amount in range(10):\n",
    "    total = total + amount\n",
    "    print total\n",
    "    \n",
    "# can be shortened to \n",
    "total = 0\n",
    "for amount in range(10):\n",
    "    total += amount\n",
    "    print total"
   ]
  },
  {
   "cell_type": "code",
   "execution_count": null,
   "metadata": {
    "collapsed": true
   },
   "outputs": [],
   "source": [
    "# Introducing print formatting. Use empty braces as a place holder followed by .format and the values to include\n",
    "print 'We are the {} who say \"{}!\"'.format('knights', 'Ni')\n",
    "# you can also use numbers in the place holders\n",
    "print 'We are the {0} who say \"{1}!\"'.format('knights', 'Ni')\n",
    "# can you see what just happened?\n",
    "print 'We are the {1} who say \"{0}!\"'.format('Ni','knights')\n",
    "\n",
    "# More details on print formatting are at https://docs.python.org/2/tutorial/inputoutput.html\n"
   ]
  },
  {
   "cell_type": "code",
   "execution_count": null,
   "metadata": {
    "collapsed": true
   },
   "outputs": [],
   "source": [
    "for bottle in range(99,0,-1):\n",
    "    if bottle == 1:\n",
    "        print(\"{0} bottle of beer on the wall, {0} bottle of beer. Take it down, pass it around, No more bottles of beer on the wall\".format(bottle))\n",
    "    else:\n",
    "        print(\"{0} bottles of beer on the wall, {0} bottles of beer. Take one down, pass it around, {1} bottles of beer on the wall\".format(bottle,bottle-1))\n",
    "    \n",
    "print(\"My song is finished!\")"
   ]
  },
  {
   "cell_type": "code",
   "execution_count": null,
   "metadata": {
    "collapsed": true
   },
   "outputs": [],
   "source": [
    "# Python includes a library for dates. We can add that to our program with the following statement:\n",
    "import datetime\n",
    "\n",
    "# Get the date/time for now... according to your computer\n",
    "now = datetime.datetime.now()\n",
    "print \"It is now: {} \".format(now)\n",
    "\n",
    "# Print it all in a nicer format\n",
    "print \"The year is: {}, the month is: {}, the day is: {} the time is: {}:{}:{}\".format(now.year, now.month, now.day, now.hour, now.minute, now.second)\n",
    "\n",
    "\n",
    "# Print the years from 2000 to today\n",
    "# This prints on one line \n",
    "for y in range(2000, now.year+1):\n",
    "    print \"{} \".format(y),\n",
    "    \n",
    "# This prints a new line each time the print statement is called. Can you tell why?    \n",
    "for y in range(2000, now.year+1):\n",
    "    print \"{} \".format(y)    "
   ]
  },
  {
   "cell_type": "code",
   "execution_count": null,
   "metadata": {
    "collapsed": true
   },
   "outputs": [],
   "source": [
    "# Let's fix this program. It doesn't calculate correctly.\n",
    "\n",
    "# Accept the inputs\n",
    "startSal = 100000.0\n",
    "increase = 10\n",
    "years = 10\n",
    "\n",
    "# Compute and display the results\n",
    "print(\"Year   Salary\\n-------------\")\n",
    "multiplier = 1 + (increase / 100.0)\n",
    "print multiplier\n",
    "nextSal = startSal\n",
    "for year in range(1, years + 1):\n",
    "    print \"{0}  {1:.2f}\".format(year, nextSal)\n",
    "    nextSal = (nextSal * multiplier)\n"
   ]
  },
  {
   "cell_type": "code",
   "execution_count": null,
   "metadata": {
    "collapsed": true
   },
   "outputs": [],
   "source": [
    "# Movie Titles\n",
    "'''\n",
    "Modify your script to write your history variable to a file\n",
    "read file to a list\n",
    "sort the list\n",
    "create method for calcScore\n",
    "write only words that have score > 20 to the list\n",
    "\n",
    "''' \n",
    "#Your next assignment is to append all your answers to a variable named history and show history after the user quits\n",
    "history = \"\"\n",
    "while True:\n",
    "    answer = input(\"Enter a movie you like or press 'q' to quit: \")\n",
    "    if answer.lower() == 'q':\n",
    "        break\n",
    "    else:\n",
    "        history += \"\\n\" + answer\n",
    "        #print(\"You entered \" + answer)\n",
    "\n",
    "print(\"You will now exit the program.\")\n",
    "print(history)\n",
    "\n",
    "#Your next assignment is to add a counter to the movies\n",
    "#---------------------------------------------------------------------------------\n",
    "while True:\n",
    "    answer = input(\"Enter a movie you like or press 'q' to quit: \")\n",
    "    if answer.lower() == 'q':\n",
    "        break\n",
    "    else:\n",
    "        print(\"You entered \" + answer)\n",
    "\n",
    "print(\"You will now exit the program.\")\n",
    "#---------------------------------------------------------------------------------\n"
   ]
  }
 ],
 "metadata": {
  "kernelspec": {
   "display_name": "Python [Root]",
   "language": "python",
   "name": "Python [Root]"
  },
  "language_info": {
   "codemirror_mode": {
    "name": "ipython",
    "version": 2
   },
   "file_extension": ".py",
   "mimetype": "text/x-python",
   "name": "python",
   "nbconvert_exporter": "python",
   "pygments_lexer": "ipython2",
   "version": "2.7.12"
  }
 },
 "nbformat": 4,
 "nbformat_minor": 0
}
