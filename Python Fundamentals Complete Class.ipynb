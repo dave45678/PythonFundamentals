{
 "cells": [
  {
   "cell_type": "code",
   "execution_count": 1,
   "metadata": {
    "collapsed": false
   },
   "outputs": [
    {
     "data": {
      "text/html": [
       "<script>\n",
       "code_show=true; \n",
       "function code_toggle() {\n",
       " if (code_show){\n",
       " $('div.input').hide();\n",
       " } else {\n",
       " $('div.input').show();\n",
       " }\n",
       " code_show = !code_show\n",
       "} \n",
       "$( document ).ready(code_toggle);\n",
       "</script>\n",
       "The code for this Jupyter notebook is hidden.\n",
       "To toggle on/off the code, click <a href=\"javascript:code_toggle()\">Show Code</a>."
      ],
      "text/plain": [
       "<IPython.core.display.HTML object>"
      ]
     },
     "execution_count": 1,
     "metadata": {},
     "output_type": "execute_result"
    }
   ],
   "source": [
    "# Script to show/hide code\n",
    "from IPython.display import HTML\n",
    "HTML('''<script>\n",
    "code_show=true; \n",
    "function code_toggle() {\n",
    " if (code_show){\n",
    " $('div.input').hide();\n",
    " } else {\n",
    " $('div.input').show();\n",
    " }\n",
    " code_show = !code_show\n",
    "} \n",
    "$( document ).ready(code_toggle);\n",
    "</script>\n",
    "The code for this Jupyter notebook is hidden.\n",
    "To toggle on/off the code, click <a href=\"javascript:code_toggle()\">Show Code</a>.''')"
   ]
  },
  {
   "cell_type": "markdown",
   "metadata": {},
   "source": [
    "<!-- INSTRUCTOR NOTES \n",
    "https://github.com/ioos/conda-recipes/wiki/Customizing-the-notebook-settings\n",
    "-->"
   ]
  },
  {
   "cell_type": "code",
   "execution_count": 1,
   "metadata": {
    "collapsed": false
   },
   "outputs": [
    {
     "name": "stdout",
     "output_type": "stream",
     "text": [
      "https://gravatar.com/avatar/afd87b3415ef623a1a0337c2b2171949?s=180\n"
     ]
    }
   ],
   "source": [
    "import hashlib\n",
    "#help(hashlib)\n",
    "myMd5 = hashlib.md5(\"dave45678@gmail.com\").hexdigest()\n",
    "gravatarURL = 'https://gravatar.com/avatar/{0}?s={1}'.format(myMd5,180)\n",
    "print gravatarURL"
   ]
  },
  {
   "cell_type": "markdown",
   "metadata": {},
   "source": [
    "## Free Book Recommendation\n",
    " * email address required\n",
    " * lots of other resources\n",
    "\n",
    "https://www.syncfusion.com/resources/techportal/details/ebooks/python"
   ]
  },
  {
   "cell_type": "markdown",
   "metadata": {},
   "source": [
    "## About your instructor\n",
    "<img src='https://gravatar.com/avatar/afd87b3415ef623a1a0337c2b2171949?s=180' alt=\"Dave\"/>"
   ]
  },
  {
   "cell_type": "markdown",
   "metadata": {},
   "source": [
    "## Course Overview\n",
    "### Python Programming, ITI-276\n",
    "\n",
    "Learn basic Python. Python is a powerful scripting language that can be used to automate system administration, create powerful web pages, develop mobile applications, and more. This course is an introduction to Python and introduces many beginner programming concepts along the way. Learn Python objects, Python statements and syntax, numbers, strings, lists, numeric types, variables and references and strings. Topics also include function, scopes, arguments, advanced functions, module coding and packages.\n",
    "\n",
    "Prerequisites: Programming Fundamentals or equivalent experience, and experience with an object oriented language such as C++, Java, or C# recommended.\n",
    "\n"
   ]
  },
  {
   "cell_type": "markdown",
   "metadata": {},
   "source": [
    "From the official Python website: \"Python is a programming language that lets you work more quickly and integrate your systems more effectively. You can learn to use Python and see almost immediate gains in productivity and lower maintenance costs.\"\n",
    "  - It is easy to create clean bug-free programs in Python due to the motto: \"Errors should never pass silently.\"\n",
    "  - Python is an interpreter. \n",
    "  - Python source files (.py files) are typically compiled to an intermediate bytecode language (.pyc files) and\n",
    "  - Python scripts are executed by a Python Virtual Machine."
   ]
  },
  {
   "cell_type": "markdown",
   "metadata": {},
   "source": [
    "## Setting up your computer\n",
    "if you're not using Windows then Python is probably already installed for you. If you are using Windows then you need to get a copy and install it yourself. See https://docs.python.org/2/using/windows.html for details.\n",
    "\n",
    "For this course we are going to use a package called Anaconda. Anaconda is a package that features a complete installation of python along with hundreds of libraries oriented towards data science. Anaconda also lets us use something called jupyter notebook. We'll look at that next. First, download and install Anaconda from https://www.continuum.io/downloads. Choose the version of Anaconda for your operating system and for Python 2.7.\n",
    "\n",
    "### Why are we using Python 2.7 and not Python 3.5?\n",
    "Python 2.7 is so widely used that there are lots of things with work with 2.7 that don't yet work with 3.5. Until they all work together it's better/easier to use what most people are written.\n",
    "\n",
    "If you're writing code that doesn't depend on other existing libraries then using 3.5 is fine, even recommended. Just know that it may not work well with older programs.\n",
    "\n",
    "### Jupyter Notebook\n",
    "Now that you have Anaconda installed you can open the Anaconda command prompt (Start|Program Files|Anaconda... click on the Anaconda command propmpt icon. You'll see a dos prompt open. When that happens type:\n",
    "```jupyter notebook --no-browser```. This will start Jupyter notebook. Once that happens go to Chrome or Firefox (not IE!) and browse to ```localhost:8888```.\n",
    "\n",
    "Once you have the directory tree showing in your browser then click on the button on the right labeled **New** and select **Python [default]**.\n",
    "\n",
    "Now you are in a new tab with the cells of the Jypyter notebook being displayed. Enter the following code then hit CTL + Enter:\n",
    "```python\n",
    "import os\n",
    "print os.getcwd()\n",
    "```\n",
    "You should see your current working directory (cwd).\n"
   ]
  },
  {
   "cell_type": "markdown",
   "metadata": {},
   "source": [
    "\n",
    "To download iPython notebook visit http://continuum.io \n",
    "\n",
    "To start ipyhthon notebook:\n",
    "- open the command prompt (Windows Key + R) then type: cmd\n",
    "- At the command prompt type ```jupyter notebook --no-browser``` \n",
    "- Open Chrome or Firefox (Do not use Internet Explorer. It is not compatible)\n",
    "- Type http://localhost:8888 in the address bar\n",
    "- Start a new notebook by clicking on the ```New``` button and selecting the Python version"
   ]
  },
  {
   "cell_type": "markdown",
   "metadata": {
    "collapsed": true
   },
   "source": [
    "### Cool things you can do in iPython Notebook\n",
    "* type interactive code\n",
    "* switch python versions\n",
    "* run all the cells or just the current cell\n",
    "* write and test code snippets\n",
    "* develop and test python programs"
   ]
  },
  {
   "cell_type": "markdown",
   "metadata": {
    "collapsed": true
   },
   "source": [
    "## What you should do\n",
    "1. Write small programs in iPython Notebook (you should also type the comments)\n",
    "2. Run your program\n",
    "3. Fix your program (this is called debugging)\n",
    "4. Repeat"
   ]
  },
  {
   "cell_type": "markdown",
   "metadata": {},
   "source": [
    "### Let's write something slightly more substantial\n",
    "In programming it is tradtional to write a simple program that prints \"Hello, World!\" \n",
    "to indicate that the software is set up correctly. We'll continue that traditon right now.\n",
    "\n",
    "#### Hello, World! - a first program - making sure everything works\n",
    "\n",
    "Click the ```[+]``` in Jupyter notebook to add a new cell.\n",
    "\n",
    "Enter the following code in the new cell:\n",
    "```python\n",
    "# our first program\n",
    "name = raw_input(\"Enter your name: \")\n",
    "response = \"Hello, \" + name + \"!\"\n",
    "print response\n",
    "```"
   ]
  },
  {
   "cell_type": "markdown",
   "metadata": {},
   "source": [
    "## What does a program do?\n",
    " * Input\n",
    " * Processing \n",
    " * Output\n",
    " "
   ]
  },
  {
   "cell_type": "markdown",
   "metadata": {},
   "source": [
    "## Input\n",
    "\n",
    "Python has a function called ```raw_input()```.\n",
    "\n",
    "We can use ```raw_input()``` to prompt the user. Including a prompt between the parenthesis will display that as a message to the user. This will then open an input dialog box for the user to enter data. \n",
    "\n",
    "```raw_input()``` returns a string so you should always assign it's value to a variable.In the example below the string return_value will contain whatever the user entered.\n",
    "\n",
    "```python\n",
    "return_value = raw_input(\"Enter something\")\n",
    "```\n",
    "\n",
    "#### Converting to other data types:\n",
    "\n",
    "If the user enters a number then it will be stored as a string. It is not available for math operations until you convert it.\n",
    "```python\n",
    "# To convert raw_input to a float (floating-point decimal number):\n",
    "response = float(raw_input(\"Enter something\"))\n",
    "# To convert raw_input to an integer (whole number)\n",
    "response = int(raw_input(\"Enter something\"))\n",
    "# To use raw_input as a string\n",
    "response = raw_input(\"Enter something\")\n",
    "```\n",
    "\n",
    "Note: Python also includes a function called ```input()```. This replaces ```raw_input()``` in Python 3.x. It doesn't work as you expect in Python 2.7. Pleae don't use it.\n"
   ]
  },
  {
   "cell_type": "markdown",
   "metadata": {},
   "source": [
    "## Output"
   ]
  },
  {
   "cell_type": "markdown",
   "metadata": {},
   "source": [
    "```python\n",
    "print \"Hello, World!\"\n",
    "print \"I'd like to write python all night!\"\n",
    "print 'He said: \"You can put quotes inside of quotes in Python\".'\n",
    "```"
   ]
  },
  {
   "cell_type": "markdown",
   "metadata": {
    "collapsed": false
   },
   "source": [
    "```python\n",
    "# A command is some text that is ignored by python but not by the developer.\n",
    "# Your future self will appreciate you telling her or him what the heck you were \n",
    "# thinking today when you wrote this code.\n",
    "\n",
    "print \"This line will print\" # this line will be ignored\n",
    "\n",
    "print \"This line will run. It is in double quotes.\"\n",
    "print 'This line will run. It is in single quotes.'\n",
    "\n",
    "# Data is stored in variables. You can print the variables.\n",
    "\n",
    "myVariable = \"some value\"\n",
    "print myVariable\n",
    "\n",
    "```"
   ]
  },
  {
   "cell_type": "code",
   "execution_count": null,
   "metadata": {
    "collapsed": true
   },
   "outputs": [],
   "source": [
    "## Printing\n",
    "name = raw_input(\"Enter your name: \")\n",
    "print \"Hello, \" + name\n",
    "\n"
   ]
  },
  {
   "cell_type": "code",
   "execution_count": null,
   "metadata": {
    "collapsed": true
   },
   "outputs": [],
   "source": [
    "## Assignment\n",
    "### Create a Python program which prints your name and address like a mailing label. \n",
    "\n"
   ]
  },
  {
   "cell_type": "markdown",
   "metadata": {},
   "source": [
    "## Assignment\n",
    "```python\n",
    "# To create a comment begin with the pound sign (#)\n",
    "# To Insert a new cell click the plus button above\n",
    "# To execute a cell press Control + Enter at the same time\n",
    "\n",
    "# Fix this program so it says:\n",
    "# So you are 9 and you like blue. Right, Dave?\n",
    "\n",
    "name = raw_input(\"Name? \")\n",
    "age = raw_input(\"How old are you \" + name + \"?\")\n",
    "favoriteColor = raw_input(\"What is your favorite color? \")\n",
    "print \"So you are\" + age + \"and you like\" + favoriteColor\n",
    "```\n"
   ]
  },
  {
   "cell_type": "markdown",
   "metadata": {},
   "source": [
    "## Indentation\n",
    "### Indentation is significant in Python\n",
    "\n",
    "Only code that is left-aligned will execute. Code that is indented will execute when it is needed by the code that is left-aligned. You'll see examples of this when we look at if/else statements, loops and function definitions.\n",
    "\n",
    "The indentation level of your statements is significant (i.e. the whitespace at the very left of your statements). Everywhere else, whitespace is not significant and can be used as you like, just like in any other language. \n",
    "\n",
    "You can insert empty lines that contain nothing (or only arbitrary whitespace) anywhere.\n",
    "\n",
    "The exact amount of indentation doesn't matter. The relative indentation of nested blocks is significant. However, in this course we abide by the Python standard of 4 spaces per indent level.\n",
    "\n",
    "Tabs are not the same as spaces. USE FOUR SPACES PER INDENT LEVEL. DO NOT USE TABS. If you do use tabs many (but not all) editors will replace them with fours spaces. Avoid developing this bad habit. \n",
    "\n"
   ]
  },
  {
   "cell_type": "markdown",
   "metadata": {},
   "source": [
    "## Variables and Data Types\n",
    "If you use a value such as 99.9 in Python that is called a literal. More often you will store your value in a variable. *A variable associates a name with a value*. Each variable has a data type associated with it. The data type is set when the value is assigned to it. Other programming languages require you to specify the data type when declare the variable. \n",
    "\n",
    "### Meaningful variable names make your code more readable \n",
    "What value is stored in the following variables: a, b and c? How about nmbrOfBottles, dateOfBirth, movieTitle? Your program is easier to debug when you don't have to translate between a,b, or c and a meaningful variable name. \n",
    "\n",
    "### Variable naming rules\n",
    "* begin with a letter or underscore\n",
    "* can only contain letters, numbers or underscores (no spaces)\n",
    "* can not be the same as a reserved Python word\n",
    "* is case-sensitive but should begin with a lowercase letter (exception below)\n",
    "* variables that never change are called constants. Most programmers make those upper-case\n",
    "* can be any length so make it meaningful and easy to remember\n",
    "\n",
    "### Assigning values to variables\n",
    "Use a single equal sign for assignment: \n",
    "```python\n",
    "nmbrOfBottles = 99\n",
    "```\n",
    "\n",
    "### Evaluating variables\n",
    "Use a double equal sign to compare the value of a variable\n",
    "```python\n",
    "print 99==100 # prints false\n",
    "print 90==10 * 9 # prints true\n",
    "print 10 * 9 == 90 # also prints true (order doesn't matter)\n",
    "```\n",
    "\n",
    "### Reading values from variables\n",
    "use the print method: ```print nmbrOfBottles```\n",
    "If you want to print a number as part of a string then you need to convert the number to a string.\n",
    "\n",
    "```python\n",
    "print \"There are \" + str(nmbrOfBottles) + \" bottles.\"\n",
    "```\n",
    "\n",
    "### Declare your variables at the top of your program\n",
    "This gives structure to your program and lets you know what the anticipated inputs and outputs will be.\n",
    "\n",
    "#### We can work with the following data types in Python: \n",
    "Integers - whole numbers such as -1, 0, 1, 2, 3 ...\n",
    "Decimal Numbers - floating point decimal numbers such as -.5, .25, 10.75\n",
    "Character strings - sequences of characters: 'abcde', 'password123', \"password@123!\", '', \"\"  \n",
    "\n",
    "Later we'll look at other data types such as Lists and Dictionaries (name/value pairs).\n",
    "\n",
    "#### Notes:\n",
    " * A computer's memory places a limit on the magnitude of the largest postitive and negative integers so the largest integer you can store in Python is $2^{31}$  or 4,294,967,296. <!-- format(x, '0,.1f') -->\n",
    " * Numbers are written without commas\n",
    "\n"
   ]
  },
  {
   "cell_type": "markdown",
   "metadata": {},
   "source": [
    "## Assignment\n",
    "Create variables to store the following values\n",
    "* the number of doors on a car\n",
    "* my bank account balance\n",
    "* the name of your pet unicorn\n",
    "* the tax rate which never changes\n",
    "\n",
    "Write a print statement to display the value of each variable"
   ]
  },
  {
   "cell_type": "markdown",
   "metadata": {},
   "source": [
    "## Expressions and Operator Precedence\n",
    "* Operators are evaluated from left to right (except exponents) in the order listed. \n",
    "* To change or control the order of operations use parenthesis!\n",
    "\n",
    "Operator|Description|Example|Evaluates to\n",
    " - |-|-|-\n",
    "** | exponents | 2**3 | 8\n",
    "* | multiplication | 7\\*3 | 21\n",
    "// | integer division | 7//3 | 2\n",
    "/ | floating-point division | 7/3 | 2.3333333333333335\n",
    "* | modulus (remainder) | 7%3 | 1\n",
    "* | addition | 7 + 3 | 10\n",
    "* | subtraction | 7-3 | 4\n",
    "divmod(x,y) | returns both x/y and y%x | divmod(12,8) | (1,4)\n",
    "\n",
    "### Assignment\n",
    "#### Calculate the value of the following expressions:\n",
    "1. 4 + 2**3 / 2 - 1\n",
    "2. 3.0 * 5.0 -2.0 * ((10 - 3) % 2)\n",
    "3. 2**3**2\n",
    "4. (2**3)**2\n",
    "5. divmod (10,3)\n",
    "6. \"September\" + \"12\"\n",
    "7. 2 * len('September')\n",
    "8. 'ab' in \"up Above\"\n",
    "9. 'ab' in \"up above\"\n",
    "10. 3-2==5\n",
    "\n",
    "### Create the following expressions in Python\n",
    "1. create a variable for the tax rate and set it to six percent\n",
    "2. create a variable for the price and set it to seven dollars\n",
    "3. create a variable for the tax and set it to zero\n",
    "4. now set the tax to the price times the tax rate\n",
    "5. create a variable for the total and set it to the sum of the price and the tax\n",
    "6. make your program output the following:\n",
    "(note: we'll discuss formatting the strings to two decimal places soon)\n",
    "```\n",
    "The price is $7.0\n",
    "The total is $7.46\n",
    "```\n"
   ]
  },
  {
   "cell_type": "code",
   "execution_count": 1,
   "metadata": {
    "collapsed": false
   },
   "outputs": [
    {
     "name": "stdout",
     "output_type": "stream",
     "text": [
      "The price is $7.0\n",
      "The total is $7.46\n"
     ]
    }
   ],
   "source": [
    "total = 0\n",
    "tr = 0.065\n",
    "price = 7.0\n",
    "tax = price * tr\n",
    "total += price + tax\n",
    "\n",
    "\n",
    "print \"The price is $\" + str(round(price,2))\n",
    "print \"The total is $\" + str(round(total,2))\n"
   ]
  },
  {
   "cell_type": "code",
   "execution_count": null,
   "metadata": {
    "collapsed": true
   },
   "outputs": [],
   "source": [
    "## Assignment\n",
    "Use Python to evaluate the value of the following expressions\n",
    "\n",
    "### Create an expression in Python\n",
    "To calculate the Celcus temperature, given the Fahrneheit temperature, you take t"
   ]
  },
  {
   "cell_type": "markdown",
   "metadata": {},
   "source": [
    "## Making your code Readable\n",
    "### Comments help make your code readable. \n",
    "Six months from now when  you're a better programmer are you going to remember why you write the code you just wrote? Will you even recognize it? Did you make some assumptions that dictated how or why you wrote the code as you did? Then use comments to minimize any confusion.\n",
    "\n",
    "```python\n",
    "'''\n",
    "There are two ways to write comments. This is a multiline comment.\n",
    "A multiline comment is useful at the top of your program to indicate.\n",
    "what the program will do. It can also indicate the inputs and outputs.\n",
    "'''\n",
    "# This is a single line comment. It can be used to clarify a line of code.\n",
    "```\n",
    "\n"
   ]
  },
  {
   "cell_type": "markdown",
   "metadata": {},
   "source": [
    "### How is a script executed? \n",
    "Python is a dynamic language, and running it from the command line essentially triggers the following steps:\n",
    "\n",
    "The source is compiled the first time it is encountered (e.g., imported as a module or directly executed). This step generates the binary file, with a .pyc or .pyo extension depending on your system.\n",
    "\n",
    "The interpreter reads the binary file and executes the instructions (opcodes) one at a time."
   ]
  },
  {
   "cell_type": "markdown",
   "metadata": {},
   "source": [
    "## Assignment\n",
    "\n",
    "Compute an employee's total weekly pay.\n",
    "\n",
    "Useful facts:\n",
    "\n",
    "    An employee's total weekly pay equals the hourly wage multiplied by the total number\n",
    "    of regular hours plus any overtime pay. Overtime pay equals the total overtime hours multiplied by 1.5\n",
    "    times the hourly wage.\n",
    "\n",
    "Write a program that takes as inputs the hourly wage, total regular hours, and total overtime hours and displays an employee's total weekly pay.\n"
   ]
  },
  {
   "cell_type": "code",
   "execution_count": null,
   "metadata": {
    "collapsed": true
   },
   "outputs": [],
   "source": [
    "# Request the inputs\n",
    "wage = float(input(\"Enter the wage: $\"))  \n",
    "regularHours = float(input(\"Enter the regular hours: \"))  \n",
    "overtimeHours = float(input(\"Enter the overtime hours: \"))  \n",
    "\n",
    "# Compute the result\n",
    "totalPay = regularHours * wage + overtimeHours * wage * 1.5\n",
    "\n",
    "# Display the result\n",
    "print \"The total weekly pay is $\" + str(round(totalPay, 2))"
   ]
  },
  {
   "cell_type": "markdown",
   "metadata": {},
   "source": [
    "<!-- \n",
    "good to illustrate variable types\n",
    "the multiplier is all integers. It needs to be float.\n",
    "-->\n",
    "## Let's fix this program. It doesn't calculate correctly.\n",
    "\n",
    "```python\n",
    "# Accept the inputs\n",
    "startSal = 100000.0\n",
    "increase = 10\n",
    "years = 10\n",
    "\n",
    "# Compute and display the results\n",
    "print(\"Year   Salary\\n-------------\")\n",
    "multiplier = 1 + (increase / 100)\n",
    "print multiplier\n",
    "nextSal = startSal\n",
    "for year in range(1, years + 1):\n",
    "    print \"{0}  {1:.2f}\".format(year, nextSal)\n",
    "    nextSal = (nextSal * multiplier)\n",
    "```\n"
   ]
  },
  {
   "cell_type": "code",
   "execution_count": null,
   "metadata": {
    "collapsed": true
   },
   "outputs": [],
   "source": [
    "# Accept the inputs\n",
    "startSal = 1000000.0\n",
    "increase = 10.0\n",
    "years = 10\n",
    "\n",
    "print type(startSal)\n",
    "print type(increase)\n",
    "\n",
    "\n",
    "# Compute and display the results\n",
    "print(\"Year   Salary\\n-------------\")\n",
    "multiplier = 1 + (increase / 100.0)\n",
    "print multiplier\n",
    "nextSal = startSal\n",
    "for year in range(1, years + 1):\n",
    "    nextSal = (nextSal * multiplier)\n",
    "    print \"{0}  {1:.2f}\".format(year, nextSal)\n",
    "    "
   ]
  },
  {
   "cell_type": "markdown",
   "metadata": {},
   "source": [
    "## A shortcut for you ...\n",
    "Expressions such as x = x + 1 occur so frequently that a shortcut exists for them....\n",
    "You can say x += 1 and get the same result. \n",
    "Note there is no space between the operator (+) and the = sign.\n",
    "This works with other operators as well such as - and * and /\n",
    "Try it below:\n",
    "\n",
    "```python\n",
    "total = 0\n",
    "for amount in range(10):\n",
    "    total = total + amount\n",
    "    print total\n",
    "```\n",
    "\n",
    "*This can be shortened to:* \n",
    "```python\n",
    "total = 0\n",
    "for amount in range(10):\n",
    "    total += amount\n",
    "    print total\n",
    " ```"
   ]
  },
  {
   "cell_type": "code",
   "execution_count": null,
   "metadata": {
    "collapsed": true
   },
   "outputs": [],
   "source": [
    "## Assignment\n",
    "# Modify the followingg program\n",
    "total = 7\n",
    "total += 1\n",
    "\n",
    "\n",
    "\n",
    "\n",
    "print total\n",
    "print \"The total is \" + str(total)"
   ]
  },
  {
   "cell_type": "markdown",
   "metadata": {},
   "source": [
    "## Looking at a complete program\n",
    "\n",
    "```python\n",
    "'''\n",
    "You may be as astonished as we were to learn how much water runs off a roof in a rain storm!\n",
    "Take a guess--what is the volume of water that runs off a 1,000 square foot roof during a 1\" rain storm?\n",
    "20 gallons? 50 gallons? 100 gallons? 1000 gallons?\n",
    "Python can give us the answer.\n",
    "\n",
    "To calculate the runoff from any given rainfall:\n",
    "Take the dimensions of the footprint of your roof and convert them to inches. (So, a 50' x 20' roof is 600\" x 240\".)\n",
    "Multiply the roof dimensions by the number of inches of rainfall. \n",
    "In this example, 600\" x 240\" x 1\" = 144,000 cubic inches of water.\n",
    "Divide by 231 to get the number of gallons (because 1 gallon = 231 cubic inches). (144,000/231 = 623.38).\n",
    "'''\n",
    "\n",
    "length = float(raw_input(\"Enter the length of your roof (feet): \"))\n",
    "width = float(raw_input(\"Enter the width of your roof (feet): \"))\n",
    "area = (length * 12) * (width * 12) #calculate the area of the roof in sq. inches\n",
    "how_much_rain = float(raw_input(\"How much rain fell? \"))\n",
    "cu_inches_water = area * how_much_rain\n",
    "nmbr_gallons = cu_inches_water/231 #because 1 gallon is 132 cu inches\n",
    "print(\"Approximately {0:,.2f} gallons of water fell on your roof when {1:.1f} inches rain fell.\".format(nmbr_gallons,how_much_rain))\n",
    "\n",
    "```"
   ]
  },
  {
   "cell_type": "markdown",
   "metadata": {},
   "source": [
    "## Assignment: Complete the following program:\n",
    "```python\n",
    "'''\n",
    "How tall are four-story tall waves?\n",
    "http://www.washingtonpost.com/business/economy/cargo-ship-likely-sank-during-hurricane-coast-guard-says/2015/10/05/2bab59ae-6b79-11e5-aa5b-f78a98956699_story.html\n",
    "\n",
    "Python can help us find out how tall a four story building is \n",
    "\n",
    "'''\n",
    "#http://www.ctbuh.org/TallBuildings/HeightStatistics/HeightCalculator/OnLineCalculator/tabid/1068/language/en-GB/Default.aspx\n",
    "FEET_PER_METER = 3.28084\n",
    "nmbr_stories = #PROMPT THE USER TO ENTER THE NUMBER OF STORIES\n",
    "height = (3.9 * nmbr_stories) + 11.7 + (3.9 * (nmbr_stories/20))\n",
    "#convert meters to feet\n",
    "height = height * FEET_PER_METER\n",
    "#https://docs.python.org/2/library/string.html#format-string-syntax\n",
    "print(\"The {0} story tall building would be {1:,.0f} feet tall\".format(nmbr_stories,height))\n",
    "\n",
    "```"
   ]
  },
  {
   "cell_type": "code",
   "execution_count": null,
   "metadata": {
    "collapsed": true
   },
   "outputs": [],
   "source": [
    "'''\n",
    "How tall are four-story tall waves?\n",
    "http://www.washingtonpost.com/business/economy/cargo-ship-likely-sank-during-hurricane-coast-guard-says/2015/10/05/2bab59ae-6b79-11e5-aa5b-f78a98956699_story.html\n",
    "\n",
    "Python can help us find out how tall a four story building is \n",
    "and how many of you stacked up would be the height of The Burj Khalifa in Dubui, UAE\n",
    "https://en.wikipedia.org/wiki/List_of_tallest_buildings_and_structures_in_the_world\n",
    "'''\n",
    "#http://www.ctbuh.org/TallBuildings/HeightStatistics/HeightCalculator/OnLineCalculator/tabid/1068/language/en-GB/Default.aspx\n",
    "FEET_PER_METER = 3.28084\n",
    "nmbr_stories = int( raw_input(\"Enter the number of stories: \"))\n",
    "height = (3.9 * nmbr_stories) + 11.7 + (3.9 * (nmbr_stories/20))\n",
    "#convert meters to feet\n",
    "height = height * FEET_PER_METER\n",
    "#https://docs.python.org/2/library/string.html#format-string-syntax\n",
    "print(\"The {0} story tall building would be {1:,.0f} feet tall\".format(nmbr_stories,height))\n"
   ]
  },
  {
   "cell_type": "markdown",
   "metadata": {},
   "source": [
    "## Assignment: \n",
    "### Write a script to determine how many of you stacked up would be the height of The Burj Khalifa in Dubui, UAE\n",
    "\n",
    "https://en.wikipedia.org/wiki/List_of_tallest_buildings_and_structures_in_the_world\n",
    "\n"
   ]
  },
  {
   "cell_type": "markdown",
   "metadata": {},
   "source": [
    "### Using an IDE\n",
    "An integrated development environment (IDE) is a software program designed for writing code. It generally features syntax checking, syntax color schemes, line numbering, debugging and facilties for executing the programming without leaving the software. These and other features make it easy and more efficient to develop software.\n",
    "\n",
    "#### copy the above program to each IDE below\n",
    " - jupyter notebook\n",
    " - eclipse\n",
    " - pycharm\n",
    " - netbeans\n",
    " - spyder\n",
    " - notepad++ and the command line (not an IDE but a common method of writing Python)"
   ]
  },
  {
   "cell_type": "markdown",
   "metadata": {},
   "source": [
    "## what directory is my script running in?\n",
    "```python\n",
    "import os\n",
    "print os.getcwd()\n",
    "```"
   ]
  },
  {
   "cell_type": "markdown",
   "metadata": {
    "collapsed": true
   },
   "source": [
    "\n",
    "\n",
    "sequences examples\n",
    "\n",
    "looping examples\n",
    "\n",
    "while loop\n",
    "for loop\n",
    "looping through a list\n",
    "using the range function\n",
    "\n",
    "decision making examples\n",
    "\n",
    "order of operations\n",
    "discuss the types of operations... + - / * and %\n",
    "\n",
    "\n",
    "\n",
    "\n",
    "\n",
    "\n",
    "\n",
    "\n",
    "\n",
    "\n",
    "\n"
   ]
  },
  {
   "cell_type": "markdown",
   "metadata": {},
   "source": [
    "## Logical Expressions\n",
    "* with one condition\n",
    "* with multiple conditions\n"
   ]
  },
  {
   "cell_type": "markdown",
   "metadata": {
    "collapsed": true
   },
   "source": [
    "## Write a logical expression that tests\n",
    "### if the variable x is a number in the range of 1 to 10\n",
    "```python\n",
    "x = int(raw_input(\"Enter the value for x: \"))\n",
    "\n",
    "if x >=1 and x <= 10:\n",
    "    print True\n",
    "else:\n",
    "    print False\n",
    "```    "
   ]
  },
  {
   "cell_type": "markdown",
   "metadata": {},
   "source": [
    "## Grade program\n",
    "### Create a program which prompts the user to enter a numeric grade and prints the letter grade\n",
    "\n",
    "The letter grade should be assigned as follows:\n",
    "   * 90 to 100 = A    \n",
    "   * 80 to 89 = B\n",
    "   * 70 to 79 = C\n",
    "   * below 70 = F"
   ]
  },
  {
   "cell_type": "code",
   "execution_count": 5,
   "metadata": {
    "collapsed": false
   },
   "outputs": [
    {
     "name": "stdout",
     "output_type": "stream",
     "text": [
      "Enter the numeric grade: 88\n",
      "The letter grade is B\n"
     ]
    }
   ],
   "source": [
    "number = int(raw_input(\"Enter the numeric grade: \"))\n",
    "if number > 89:\n",
    "    letter = 'A'\n",
    "elif number > 79:\n",
    "    letter = 'B'\n",
    "elif number > 69:\n",
    "    letter = 'C'\n",
    "else:\n",
    "    letter = 'F'\n",
    "    \n",
    "print \"The letter grade is {}\".format(letter)    "
   ]
  },
  {
   "cell_type": "markdown",
   "metadata": {},
   "source": [
    "## Returning remainders\n",
    "The % (modulo) operator yields the remainder from the division of the first argument by the second. \n",
    "The numeric arguments are first converted to a common type. \n",
    "A zero right argument raises the ZeroDivisionError exception.\n",
    "Taken from http://docs.python.org/reference/expressions.html\n",
    "\n",
    "```python\n",
    "# The remainder of 3 % 2 is 1\n",
    "3 % 2\n",
    "# The remainder of 3 % 3 is 0\n",
    "3 % 3\n",
    "# divmod is a function that returns a tuple containing the quotent and the remainder\n",
    "divmod(10,3) \n",
    "```\n",
    "\n",
    "Example 1:  ```6%2``` evaluates to ```0``` because there's no remainder if 6 is divided by 2 ( 3 times ).\n",
    "\n",
    "Example 2: ```7%2``` evaluates to 1 because there's a remainder of 1 when 7 is divided by 2 ( 3 times ).\n",
    "\n",
    "So to summarise that, it returns the remainder of a division operation, or 0 if there is no remainder. So 6%2 means find the remainder of 6 divided by 2.\n",
    "\n",
    "```python\n",
    "# list the even numbers between 1 and 20 (inclusive)\n",
    "for x in range(1,21):\n",
    "    if x % 2 == 0:\n",
    "        print \"{} is an even number\".format(x)\n",
    "print \"Done!\"\n",
    "\n",
    "# list the multiples of 7 between 1 and 100\n",
    "for x in range (1,101):\n",
    "    if x % 7 == 0:\n",
    "        print \"{} is a multiple of 7\".format(x)\n",
    "print \"Done!\"\n",
    "```"
   ]
  },
  {
   "cell_type": "code",
   "execution_count": 12,
   "metadata": {
    "collapsed": false
   },
   "outputs": [
    {
     "name": "stdout",
     "output_type": "stream",
     "text": [
      "2 is an even number\n",
      "4 is an even number\n",
      "6 is an even number\n",
      "8 is an even number\n",
      "10 is an even number\n",
      "12 is an even number\n",
      "14 is an even number\n",
      "16 is an even number\n",
      "18 is an even number\n",
      "20 is an even number\n",
      "Done!\n",
      "7 is a multiple of 7\n",
      "14 is a multiple of 7\n",
      "21 is a multiple of 7\n",
      "28 is a multiple of 7\n",
      "35 is a multiple of 7\n",
      "42 is a multiple of 7\n",
      "49 is a multiple of 7\n",
      "56 is a multiple of 7\n",
      "63 is a multiple of 7\n",
      "70 is a multiple of 7\n",
      "77 is a multiple of 7\n",
      "84 is a multiple of 7\n",
      "91 is a multiple of 7\n",
      "98 is a multiple of 7\n",
      "Done!\n"
     ]
    }
   ],
   "source": [
    "# list the even numbers between 1 and 20 (inclusive)\n",
    "for x in range(1,21):\n",
    "    if x % 2 == 0:\n",
    "        print \"{} is an even number\".format(x)\n",
    "print \"Done!\"\n",
    "\n",
    "# list the multiples of 7 between 1 and 100\n",
    "for x in range (1,101):\n",
    "    if x % 7 == 0:\n",
    "        print \"{} is a multiple of 7\".format(x)\n",
    "print \"Done!\""
   ]
  },
  {
   "cell_type": "markdown",
   "metadata": {
    "collapsed": true
   },
   "source": [
    "## Assignment: calculating leap year\n",
    "According to Wikipedia, a leap year is a year containing one additional day added to keep the calendar year synchronized with the astronomical or seasonal year. Leap year shows up on our calendar every February 29th.\n",
    "\n",
    "A leap year is any year that is divisible by 4 but not divisible by 100.\n",
    "\n",
    "Write a python program that prints all the leap years from 1600 to today.\n"
   ]
  },
  {
   "cell_type": "markdown",
   "metadata": {
    "collapsed": true
   },
   "source": [
    "## Python expects code to be repeated to follow the colon : and to be indented\n",
    "Normal indentation is 4 spaces\n",
    "\n",
    "```python\n",
    "a = 0 \n",
    "b = 3\n",
    "while a < 10:\n",
    "    a = a + 1\n",
    "    b = b + 1\n",
    "    print \"The value of a is \" + str(a) + \" and the value of b is \" + str(b)\n",
    "print \"this line prints after the loop is finished\"\n",
    "print \"The value of a is \" + str(a) + \" and the value of b is \" + str(b)\n",
    "\n",
    "print \"You can change a variable with assignment (=)\"\n",
    "a = 234\n",
    "print \"the value of a is \" + str(a)\n",
    "```"
   ]
  },
  {
   "cell_type": "markdown",
   "metadata": {},
   "source": [
    "## Variable Scope\n",
    "Since a and b above are defined before the loop, they are available (visible) to the entire program. Including inside the loop. However, if we define a variable, c, inside the loop then it is visible only inside the loop.\n",
    "\n",
    "The program below will generate an error because c is defined within the loop but used outside of it.\n",
    "\n",
    "```python\n",
    "a = 0 \n",
    "b = 3\n",
    "while a < 10:\n",
    "    a = a + 1\n",
    "    b = b + 1\n",
    "    c = a * b\n",
    "    print \"The value of a is \" + str(a) + \" and the value of b is \" + str(b)\n",
    "print \"this line prints after the loop is finished\"\n",
    "print \"The value of a is \" + str(a) + \" and the value of b is \" + str(b)\n",
    "\n",
    "print \"You can change a variable with assignment (=)\"\n",
    "a = 234\n",
    "print \"the value of a is \" + str(a)\n",
    "print \"I can't see \" + str(c) + \" here because it is 'out of scope'!\"\n",
    "```"
   ]
  },
  {
   "cell_type": "markdown",
   "metadata": {},
   "source": [
    "## FizzBuzz\n",
    "\n",
    "### Write a program that prints the integers from 1 to 100 (inclusive).\n",
    "But:\n",
    "   - for multiples of three, print   Fizz (instead of the number)\n",
    "   - for multiples of five, print   Buzz (instead of the number)\n",
    "   - for multiples of both three and five, print   FizzBuzz (instead of the number)\n",
    "\n",
    "*Hint: Write it on paper first then program it in the computer*\n",
    "```\n",
    "Example Output:\n",
    "1\n",
    "2\n",
    "Fizz\n",
    "4\n",
    "Buzz\n",
    "Fizz\n",
    "7\n",
    "8\n",
    "Fizz\n",
    "```"
   ]
  },
  {
   "cell_type": "code",
   "execution_count": null,
   "metadata": {
    "collapsed": false
   },
   "outputs": [],
   "source": [
    "# FizzBuzz\n",
    "for i in xrange(1, 101):\n",
    "    if i % 15 == 0:\n",
    "        print \"FizzBuzz\"\n",
    "    elif i % 3 == 0:\n",
    "        print \"Fizz\"\n",
    "    elif i % 5 == 0:\n",
    "        print \"Buzz\"\n",
    "    else:\n",
    "        print i"
   ]
  },
  {
   "cell_type": "code",
   "execution_count": null,
   "metadata": {
    "collapsed": true
   },
   "outputs": [],
   "source": [
    "for x in range(1,101):\n",
    "    if x % 3 == 0 and x % 5 == 0:\n",
    "        print 'FizzBuzz'\n",
    "    elif x % 3 == 0:\n",
    "        print 'Fizz'\n",
    "    elif x % 5 == 0:\n",
    "        print 'Buzz'\n",
    "    else:\n",
    "        print x"
   ]
  },
  {
   "cell_type": "code",
   "execution_count": null,
   "metadata": {
    "collapsed": false
   },
   "outputs": [],
   "source": [
    "# FizzBuzz in one line of code\n",
    "for i in range(100):print(i%3//2*'Fizz'+i%5//4*'Buzz'or i+1)"
   ]
  },
  {
   "cell_type": "markdown",
   "metadata": {},
   "source": [
    "## Coding Style\n",
    "### Make your code easy to read for yourself or others who have to maintain your code\n",
    "\n",
    "Now that you are about to write longer, more complex pieces of Python, it is a good time to talk about coding style. \n",
    "Most languages can be written in different styles; some are more readable than others. \n",
    "\n",
    "For Python, PEP 8 has emerged as the style guide that most projects adhere to; it promotes a very readable and eye-pleasing coding style. Every Python developer should read it at some point; here are the most important points extracted for you:\n",
    "\n",
    "* Use 4-space indentation, and no tabs.\n",
    "* 4 spaces are a good compromise between small indentation (allows greater nesting depth) and large indentation (easier to read). Tabs introduce confusion, and are best left out.\n",
    "* Wrap lines so that they don’t exceed 79 characters so you can put multiple code files side-by-side on the display\n",
    "* Use blank lines to separate functions and classes, and larger blocks of code inside functions.\n",
    "* When possible, put comments on a line of their own.\n",
    "* Use docstrings (longer comments) to explain functions and modules\n",
    "* Use spaces around operators and after commas, but not directly inside bracketing constructs: a = f(1, 2) + g(3, 4).\n",
    "* Name your classes and functions consistently; the convention is to use CamelCase for classes and lower_case_with_underscores for functions and methods. "
   ]
  },
  {
   "cell_type": "code",
   "execution_count": 3,
   "metadata": {
    "collapsed": false
   },
   "outputs": [
    {
     "name": "stdout",
     "output_type": "stream",
     "text": [
      "Enter the data or press enter to quit: a\n",
      "in the loop\n",
      "Enter the data or press enter to quit: b\n",
      "in the loop\n",
      "Enter the data or press enter to quit: c\n",
      "in the loop\n",
      "Enter the data or press enter to quit: \n",
      "abc\n"
     ]
    }
   ],
   "source": [
    "# This program didn't work as entered above. Fix is below:\n",
    "# prompt for the first value\n",
    "inputdata = raw_input(\"Enter the data or press enter to quit: \")\n",
    "data = inputdata\n",
    "while inputdata != '':\n",
    "    print \"in the loop\"\n",
    "    inputdata = raw_input(\"Enter the data or press enter to quit: \")\n",
    "    data = data + inputdata\n",
    "\n",
    "print data"
   ]
  },
  {
   "cell_type": "markdown",
   "metadata": {
    "collapsed": true
   },
   "source": [
    "#### while loop allows you to repeat code while a condition is true \n",
    "Here the condition is that x is not equal to 0.\n",
    "```!=``` means not equal. Type in the while loop to see how it works.\n",
    "\n",
    "```python\n",
    "x= 10\n",
    "while x != 0:\n",
    "    print x\n",
    "    x= x-1\n",
    "    print \" wow, we have counted down x and now it is equal to \" + str(x)\n",
    "\n",
    "print \" And now the loop has ended.\"    \n",
    "```"
   ]
  },
  {
   "cell_type": "markdown",
   "metadata": {
    "collapsed": false
   },
   "source": [
    "## Looping until no data is received\n",
    "\n",
    "```python\n",
    "# prompt for the first value\n",
    "data = raw_input(\"Enter the data or press enter to quit: \")\n",
    "while data != '':\n",
    "    print \"in the loop\"\n",
    "    data = raw_input(\"Enter the data or press enter to quit: \")\n",
    "    output += data\n",
    "\n",
    "print output    \n",
    "```\n",
    "\n",
    "\n",
    "## Using a counter in a while loop\n",
    "```python\n",
    "sum = 0\n",
    "counter = 1\n",
    "while counter <= 100:\n",
    "    sum = sum + counter\n",
    "    counter = counter + 1\n",
    "print sum\n",
    "\n",
    "# You can do the same thing with the for loop. \n",
    "# This is more efficient. \n",
    "# Notice I don't have to initialize the counter separately.\n",
    "# Range goes from 1 upto but not including 101 .. so fo 1 to \n",
    "sum = 0\n",
    "for counter in range(1,101):\n",
    "    sum = sum + counter\n",
    "print sum\n",
    "```"
   ]
  },
  {
   "cell_type": "code",
   "execution_count": null,
   "metadata": {
    "collapsed": true
   },
   "outputs": [],
   "source": [
    "# PythonIsFun!\n",
    "# Loops can contain other loops or condtional statements\n",
    "# Here is a while loop that changes the output based on the value\n",
    "# Notice that the if statement follows tghe normal indentation rules\n",
    "a = 10\n",
    "while a > 0:\n",
    "    print a\n",
    "    if a > 5: \n",
    "        print \"Big number!\"\n",
    "    elif a < 5:\n",
    "        print \"Small number!\"\n",
    "    else:\n",
    "        print \"a is 5\"\n",
    "    a = a - 1\n",
    "    print \"we just made a one less than it was!\"\n",
    "    print \"Unless a is greater than 0 we'll loop again.\"\n",
    "print \"The loop is finshed.\""
   ]
  },
  {
   "cell_type": "markdown",
   "metadata": {
    "collapsed": true
   },
   "source": [
    "## Movie Titles\n",
    "\n",
    "### Your next assignment is to append all your answers to a variable named history and show history after the user quits\n",
    "```python\n",
    "history = \"\"\n",
    "while True:\n",
    "    answer = input(\"Enter a movie you like or press 'q' to quit: \")\n",
    "    if answer.lower() == 'q':\n",
    "        break\n",
    "    else:\n",
    "        history += \"\\n\" + answer\n",
    "        #print(\"You entered \" + answer)\n",
    "\n",
    "print(\"You will now exit the program.\")\n",
    "print(history)\n",
    "```\n",
    "\n",
    "### Your next assignment is to add a counter to the movies\n",
    "```python\n",
    "while True:\n",
    "    answer = input(\"Enter a movie you like or press 'q' to quit: \")\n",
    "    if answer.lower() == 'q':\n",
    "        break\n",
    "    else:\n",
    "        print(\"You entered \" + answer)\n",
    "\n",
    "print(\"You will now exit the program.\")\n",
    "\n",
    "```"
   ]
  },
  {
   "cell_type": "code",
   "execution_count": null,
   "metadata": {
    "collapsed": true
   },
   "outputs": [],
   "source": [
    "## Next Modify the movie title script to write your history variable to a file"
   ]
  },
  {
   "cell_type": "code",
   "execution_count": null,
   "metadata": {
    "collapsed": true
   },
   "outputs": [],
   "source": [
    "# Movie Titles\n",
    "'''\n",
    "Modify your script to write your history variable to a file\n",
    "read file to a list\n",
    "sort the list\n",
    "create method for calcScore\n",
    "write only words that have score > 20 to the list\n",
    "\n",
    "''' \n",
    "#Your next assignment is to append all your answers to a variable named history and show history after the user quits\n",
    "history = \"\"\n",
    "while True:\n",
    "    answer = input(\"Enter a movie you like or press 'q' to quit: \")\n",
    "    if answer.lower() == 'q':\n",
    "        break\n",
    "    else:\n",
    "        history += \"\\n\" + answer\n",
    "        #print(\"You entered \" + answer)\n",
    "\n",
    "print(\"You will now exit the program.\")\n",
    "print(history)\n",
    "\n",
    "#Your next assignment is to add a counter to the movies\n",
    "#---------------------------------------------------------------------------------\n",
    "while True:\n",
    "    answer = input(\"Enter a movie you like or press 'q' to quit: \")\n",
    "    if answer.lower() == 'q':\n",
    "        break\n",
    "    else:\n",
    "        print(\"You entered \" + answer)\n",
    "\n",
    "print(\"You will now exit the program.\")\n",
    "#---------------------------------------------------------------------------------\n"
   ]
  },
  {
   "cell_type": "markdown",
   "metadata": {
    "collapsed": true
   },
   "source": [
    "## Python Ranges and for loops\n",
    "\n",
    "The range() function allows you to execute a statement (or sequence of statements) a given number of times. \n",
    "\n",
    "start: Starting number of the sequence.<br/>\n",
    "stop: Generate numbers up to, but not including this number.<br/>\n",
    "step: Difference between each number in the sequence.<br/>\n",
    "\n",
    "```range([start], stop[, step]) ```   # arguments in []'s are optional\n",
    "    \n",
    "The range function can take one argument, two arguments or three arguments. Try it now with each:\n",
    "\n",
    "```python\n",
    "counter = 4\n",
    "for eachPass in range(counter):\n",
    "    print counter\n",
    "print '-'*20   # this line prints the  - character 20 times\n",
    "\n",
    "counter = 1\n",
    "stop = 11\n",
    "for eachPass in range(counter,stop):\n",
    "    print counter\n",
    "print '-'*20   # this line prints the  - character 20 times  \n",
    "\n",
    "\n",
    "counter = 1\n",
    "stop = 21\n",
    "step = 2\n",
    "for eachPass in range(counter,stop,step):\n",
    "    print counter    \n",
    "print '-'*20  # this line prints the  - character 20 times   \n",
    "```"
   ]
  },
  {
   "cell_type": "markdown",
   "metadata": {},
   "source": [
    "## Counting down in a loop\n",
    "```python\n",
    "for x in range(10,0,-1):\n",
    "    print x\n",
    "```    "
   ]
  },
  {
   "cell_type": "markdown",
   "metadata": {},
   "source": [
    "## Assignment\n",
    "### write a program that counts from 10 to 0 \n",
    "\n",
    "Which prints the number from 10 down to 1 and prints 'blast off!' instead of 0."
   ]
  },
  {
   "cell_type": "code",
   "execution_count": 9,
   "metadata": {
    "collapsed": false
   },
   "outputs": [
    {
     "name": "stdout",
     "output_type": "stream",
     "text": [
      "10\n",
      "9\n",
      "8\n",
      "7\n",
      "6\n",
      "5\n",
      "4\n",
      "3\n",
      "2\n",
      "1\n"
     ]
    }
   ],
   "source": [
    "for x in range(10,0,-1):\n",
    "    print x"
   ]
  },
  {
   "cell_type": "markdown",
   "metadata": {
    "collapsed": true
   },
   "source": [
    "## Introducing print formatting. \n",
    "Use empty braces as a place holder followed by ```.format``` and the values to include\n",
    "\n",
    "```python\n",
    "print 'We are the {} who say \"{}!\"'.format('knights', 'Ni')\n",
    "```\n",
    "### you can also use numbers in the place holders\n",
    "```python\n",
    "print 'We are the {0} who say \"{1}!\"'.format('knights', 'Ni')\n",
    "```\n",
    "\n",
    "### can you see what just happened?\n",
    "```python\n",
    "print 'We are the {1} who say \"{0}!\"'.format('Ni','knights')\n",
    "```\n",
    "\n",
    "### More details on print formatting are at \n",
    "https://docs.python.org/2/tutorial/inputoutput.html\n"
   ]
  },
  {
   "cell_type": "code",
   "execution_count": 8,
   "metadata": {
    "collapsed": false
   },
   "outputs": [
    {
     "name": "stdout",
     "output_type": "stream",
     "text": [
      "We are the knights who say \"Ni!\"\n",
      "We are the knights who say \"Ni!\"\n",
      "We are the knights who say \"Ni!\"\n"
     ]
    }
   ],
   "source": [
    "print 'We are the {} who say \"{}!\"'.format('knights', 'Ni')\n",
    "print 'We are the {0} who say \"{1}!\"'.format('knights', 'Ni')\n",
    "print 'We are the {1} who say \"{0}!\"'.format('Ni','knights')"
   ]
  },
  {
   "cell_type": "markdown",
   "metadata": {},
   "source": [
    "## Print formatting\n",
    "```python\n",
    "print(\"{0} is the first item, {0} is the first item again, {1} is the second item\".format(1,2))\n",
    "```"
   ]
  },
  {
   "cell_type": "markdown",
   "metadata": {},
   "source": [
    "# What does this print?\n",
    "```python\n",
    "print(\"{0} is the first item, {0} is the first item again, {1} is the second item\".format(1,2))\n",
    "print(\"{0} is the first item, {0} is the first item again, {1} is the second item {0} is the first item\".format(1,2+3))\n",
    "```\n",
    "Output:\n",
    "```\n",
    "1 is the first item, 1 is the first item again, 2 is the second item\n",
    "1 is the first item, 1 is the first item again, 5 is the second item 1 is the first item\n",
    "```"
   ]
  },
  {
   "cell_type": "code",
   "execution_count": 10,
   "metadata": {
    "collapsed": false
   },
   "outputs": [
    {
     "name": "stdout",
     "output_type": "stream",
     "text": [
      "1 is the first item, 1 is the first item again, 5 is the second item 1 is the first item\n"
     ]
    }
   ],
   "source": [
    "print(\"{0} is the first item, {0} is the first item again, {1} is the second item {0} is the first item\".format(1,2+3))"
   ]
  },
  {
   "cell_type": "markdown",
   "metadata": {},
   "source": [
    "## Assignment\n",
    "\n",
    "### Create a program which prints the lyrics to the song 99 bottles of beer on the wall. The program should print the correct lyrics if there are multiple bottles or if there is only one bottle."
   ]
  },
  {
   "cell_type": "code",
   "execution_count": null,
   "metadata": {
    "collapsed": false
   },
   "outputs": [],
   "source": [
    "for bottle in range(99,0,-1):\n",
    "    if bottle == 1:\n",
    "        print(\"{0} bottle of beer on the wall, {0} bottle of beer. Take it down, pass it around, No more bottles of beer on the wall\".format(bottle))\n",
    "    else:\n",
    "        print(\"{0} bottles of beer on the wall, {0} bottles of beer. Take one down, pass it around, {1} bottles of beer on the wall\".format(bottle,bottle-1))\n",
    "    \n",
    "print(\"My song is finished!\")"
   ]
  },
  {
   "cell_type": "markdown",
   "metadata": {},
   "source": [
    "## Random Numbers\n",
    "The random library allows our script to generate random numbers.\n",
    "```python\n",
    "import random as rnd #using as allows you to rename the class so you can be lazy and type less\n",
    "```\n",
    "**Warning** The pseudo-random generators of this module should not be used for security purposes. Use ```os.urandom()``` or ```SystemRandom``` if you require a cryptographically secure pseudo-random number generator.\n",
    "\n",
    "```python\n",
    "# generate a random number between 1 and 1000\n",
    "number = rnd.randint(1,1000)\n",
    "print number\n",
    "```\n"
   ]
  },
  {
   "cell_type": "markdown",
   "metadata": {},
   "source": [
    "### Example Random Program\n",
    "```python\n",
    "import random as rnd\n",
    "number = rnd.randint(1,500)\n",
    "print number\n",
    "```"
   ]
  },
  {
   "cell_type": "code",
   "execution_count": 19,
   "metadata": {
    "collapsed": false
   },
   "outputs": [
    {
     "name": "stdout",
     "output_type": "stream",
     "text": [
      "477\n"
     ]
    }
   ],
   "source": [
    "import random as rnd\n",
    "number = rnd.randint(1,500)\n",
    "print number"
   ]
  },
  {
   "cell_type": "markdown",
   "metadata": {},
   "source": [
    "## Assignment: Create Zork\n",
    "Zork was a famous text-only adventure game for the computer. It was popular in the late 1970's. Users would type commands and navigate the rooms of an old house and a dungeon. Zork launched a genre of software games known as interactive fiction.\n",
    "\n",
    "Write an application that asks the user what direction they wish to travel in. Once they tell you the direction, move them to the next room and tell them what is in it and in what direction the other exits are.\n",
    "\n",
    "Your program shall allow the user to move from one room back and forth to any other connected room. The player should not be able to move to a non-connected room or through a wall.\n",
    "\n",
    "You program should allow the user to find the secret room only 25% of the time. However, once they find the secret room they can always find it.\n",
    "\n",
    "When the user exits the house or quits there is a 33% chance they will be followed by a ghost or something. Let them know when they are being followed.\n",
    "\n",
    "Let the user know how many rooms they visited after they exit or quit.\n",
    "\n",
    "||room|contains|doors to (direction & room #)\n",
    "|-|-|\n",
    "|#1|foyer|dead scorpion|room n2|\n",
    "|#2|front room|piano|rooms s1,w3, e4|\n",
    "|#3|parlor|3 walking skeletons|rooms n7, e2|\n",
    "|#4|dining room|bats|rooms w2,n5|\n",
    "|#5|kitchen|dust<br/>empty box|room s4|\n",
    "|#6|vault|treasure chest|rooms w7, e8 (33% of the time)|\n",
    "|#7|library|spiders|rooms e6 & s3|\n",
    "|#8|secret room|piles of gold|room w6|\n",
    " \n",
    "\n",
    "<!--\n",
    "additions: \n",
    "money or points in each room\n",
    "money is only available the first time they enter the room\n",
    "random amount of money avail\n",
    "get lamp\n",
    "allow text commands\n",
    "-->\n",
    "\n",
    "```\n",
    "Welcome to Zork's Haunted House\n",
    "\n",
    "You are standing in the foyer of an old house.\n",
    "You see a dead scorpion.\n",
    "You can (1) exit to the north, (2) run. \n",
    "What do you want to do? 1\n",
    "\n",
    "You are standing in the front room.\n",
    "You see a piano.\n",
    "You can (1) exit to the south, (2) exit to the east, (3) exit to the west, (4) run. \n",
    "What do you want to do? 2\n",
    "\n",
    "You are standing in the kitchen.\n",
    "You see bats.\n",
    "You can (1) exit to the east, (2) exit to the north, (3) run. \n",
    "What do you want to do? 2\n",
    "\n",
    "You are standing in the front room.\n",
    "You see a piano.\n",
    "You can (1) exit to the south, (2) exit to the east, (3) exit to the west, (4) run. \n",
    "What do you want to do? 3\n",
    "\n",
    "You are standing in the library.\n",
    "You see spiders.\n",
    "You can (1) exit to the east, (2) exit to the north, (3) run. \n",
    "What do you want to do? 3\n",
    "You have exited the house. But you are not alone. \n",
    "Or are you? . . .\n",
    "```"
   ]
  },
  {
   "cell_type": "markdown",
   "metadata": {
    "collapsed": true
   },
   "source": [
    "### Functions\n",
    "The keyword ```def``` introduces a function definition. It must be followed by the function name and the parenthesized list of formal parameters. The statements that form the body of the function start at the next line, and must be indented.\n",
    "\n",
    "* The first statement of the function body can be a string literal; this is the  docstring.\n",
    "* It’s good practice to include docstrings in code that you write.\n",
    "* Variables defined in the function exist only in the function and are not available to your program.\n",
    "* Variables defined globally outside of your function may be passed as arguments or as global variables.\n",
    "* Many programmers consider globally defined variables a bad idea."
   ]
  },
  {
   "cell_type": "markdown",
   "metadata": {},
   "source": [
    "```python\n",
    "# functions can print\n",
    "def convertF2C():\n",
    "    fahr = float(raw_input(\"Enter the temperature in F: \"))\n",
    "    cel = (fahr - 32) * 5.0/9.0\n",
    "    print \"the temperature in C is: {0:.02f}\".format(cel)\n",
    "    # no return type is specified so the function returns None\n",
    "    \n",
    "# functions can return a value to a variable \n",
    "def convertC2F(ctemp):\n",
    "    ftemp = (ctemp * (9.0/5.0)) + 32\n",
    "    return ftemp\n",
    "\n",
    "# functions are defined before you call them \n",
    "# but they wait for you to call them before they run\n",
    "convertF2C()\n",
    "\n",
    "c = float(raw_input(\"Enter the temperature in C: \"))\n",
    "f = convertC2F(c)\n",
    "print \"the temperature in F is: {0:.02f}\".format(f)\n",
    "``` "
   ]
  },
  {
   "cell_type": "markdown",
   "metadata": {},
   "source": [
    "## Modules\n",
    "A module is a file containing Python definitions and statements. The file name is the module name with the suffix .py appended. Within a module, the module’s name (as a string) is available as the value of the global variable ```__name__```. \n",
    "\n",
    "Modules can import other modules. It is customary to place all import statements at the beginning of your module or script.\n",
    "\n",
    "If you modify a module after importing it then you will probably need to reload it. Use the reload method for this purpose:\n",
    "```reload(module)```\n",
    "\n"
   ]
  },
  {
   "cell_type": "markdown",
   "metadata": {},
   "source": [
    "### Python looks for modules in the path\n",
    "```python\n",
    "import os\n",
    "print(os.environ['PYTHONPATH']) # this may not exist on all systems\n",
    "\n",
    "import sys\n",
    "print sys.path\n",
    "```"
   ]
  },
  {
   "cell_type": "markdown",
   "metadata": {},
   "source": [
    "```python\n",
    "import temperature\n",
    "# The built-in function dir() is used to find out which names a module defines.\n",
    "dir(temperature)\n",
    "```"
   ]
  },
  {
   "cell_type": "markdown",
   "metadata": {},
   "source": [
    "```python\n",
    "# import the module to make it's functions available for your script\n",
    "# when the module is imported, the code is not run\n",
    "import temperature as t # t is an optional alias for the module\n",
    "reload(temperature)\n",
    "t.convertF2C()\n",
    "print t.convertC2F(32.0)\n",
    "print t.greeting(\"dave\")\n",
    "help(temperature)\n",
    "print t.message\n",
    "print t.__name__ # the variable __name__ contains the name of the module\n",
    "```"
   ]
  },
  {
   "cell_type": "code",
   "execution_count": null,
   "metadata": {
    "collapsed": false
   },
   "outputs": [],
   "source": [
    "# import the module to make it's functions available for your script\n",
    "# when the module is imported, the code is not run\n",
    "import temperature as t\n",
    "reload(temperature)\n",
    "t.convertF2C()\n",
    "print t.convertC2F(32.0)\n",
    "print t.greeting(\"dave\")\n",
    "help(temperature)\n",
    "print t.message\n",
    "print t.__name__ # the variable __name__ contains the name of the module"
   ]
  },
  {
   "cell_type": "markdown",
   "metadata": {},
   "source": [
    "## Module Assignment\n",
    "### Write a function called Greeting which takes one parameter, a name.\n",
    "\n",
    "* The function should return a string which simply says: ```hello, name```\n",
    "* Call the function to make sure it works. Be sure to prepend the module name to the front of the function.\n",
    "* Put the function in a module and import the module\n",
    "* You should still be able to call the function as before"
   ]
  },
  {
   "cell_type": "markdown",
   "metadata": {},
   "source": [
    "# Reading from a file\n",
    "The file object allows us to  output text to a file. \n",
    "The open function takes a pathname and a mode string as arguments and opens a connection to the file. \n",
    "The mode string can be 'r' to read from a file or 'w' to write to a file.\n",
    "\n",
    "```python\n",
    "f = open(\"myfile.txt\",\"w\")\n",
    "f.write(\"this is line 1\\n\")\n",
    "f.write(\"this is line 2\\n\")\n",
    "f.write(\"this is line 3\\n\")\n",
    "f.close()\n",
    "\n",
    "# reading all the text into a string\n",
    "f = open(\"myfile.txt\",\"r\")\n",
    "text = f.read()\n",
    "f.close\n",
    "print text\n",
    "\n",
    "# reading the file line by line\n",
    "f = open(\"myfile.txt\",\"r\")\n",
    "for line in f:\n",
    "    print line\n",
    "f.close\n",
    "```\n",
    "\n",
    "Details are at https://docs.python.org/2/tutorial/inputoutput.html\n",
    "\n"
   ]
  },
  {
   "cell_type": "markdown",
   "metadata": {},
   "source": [
    "## Writing to a file\n",
    "\n",
    "```python\n",
    "f = open(\"myfile.txt\",\"w\")\n",
    "f.write(\"this is line 1\\n\")\n",
    "f.write(\"this is line 2\\n\")\n",
    "f.write(\"this is line 3\\n\")\n",
    "f.close()\n",
    "\n",
    "# reading all the text into a string\n",
    "f = open(\"myfile.txt\",\"r\")\n",
    "text = f.read()\n",
    "f.close\n",
    "print text\n",
    "\n",
    "# reading the file line by line\n",
    "f = open(\"myfile.txt\",\"r\")\n",
    "print f.readline(), # the comma supresses the new line\n",
    "print f.readline(), # the comma supresses the new line\n",
    "print f.readline() # this line will be followed by a new line\n",
    "f.close\n",
    "\n",
    "f = open(\"myfile.txt\",\"r\")\n",
    "for line in f:\n",
    "    print line,\n",
    "f.close\n",
    "\n",
    "# you can also read the lines of a file into a list\n",
    "f = open(\"myfile.txt\",\"r\")\n",
    "l = list(f)\n",
    "f.close\n",
    "print l\n",
    "```"
   ]
  },
  {
   "cell_type": "markdown",
   "metadata": {},
   "source": [
    "## Lists\n",
    "\n",
    "A list is a value that contains multiple values in an ordered sequence. The\n",
    "term list value refers to the list itself (which is a value that can be stored in a\n",
    "variable or passed to a function like any other value), not the values inside\n",
    "the list value. A list value looks like this: ['cat', 'bat', 'rat', 'elephant'].\n",
    "Just as string values are typed with quote characters to mark where the\n",
    "string begins and ends, a list begins with an opening square bracket and\n",
    "ends with a closing square bracket, []. Values inside the list are also called\n",
    "items. Items are separated with commas (that is, they are comma-delimited)."
   ]
  },
  {
   "cell_type": "markdown",
   "metadata": {},
   "source": [
    "## List operations\n",
    "lst.append(val)\n",
    "lst.insert(i,val)\n",
    "lst.remove(val)\n",
    "lst.pop()#remove last item\n",
    "lst.pop(3)#remove third item (remember: numbering starts at 0!)\n",
    "lst.sort()\n",
    "lst.reverse()\n",
    "\n",
    "### adding items to a list\n",
    "\n",
    "\n",
    "### storing items in a list\n",
    "```python\n",
    "simpsons = ['homer','marge','bart','lisa','maggie']\n",
    "print simpsons\n",
    "```\n",
    "\n",
    "### getting individual items\n",
    "```python\n",
    "print simpsons[0]\n",
    "print simpsons[4]\n",
    "```\n",
    "\n",
    "### looping through a list\n",
    "```python\n",
    "for character in simpsons:\n",
    "    print character\n",
    "```"
   ]
  },
  {
   "cell_type": "code",
   "execution_count": 24,
   "metadata": {
    "collapsed": false
   },
   "outputs": [
    {
     "name": "stdout",
     "output_type": "stream",
     "text": [
      "None\n",
      "[1, 2, 3, 4, 5, 6, 7, 8, 3]\n",
      "None\n",
      "[1, 2, 3, 3, 4, 5, 6, 7, 8, 3]\n",
      "None\n",
      "[1, 2, 3, 4, 5, 6, 7, 8, 3]\n",
      "3\n",
      "[1, 2, 3, 4, 5, 6, 7, 8]\n",
      "4\n",
      "None\n",
      "[1, 2, 3, 5, 6, 7, 8]\n",
      "None\n",
      "[8, 7, 6, 5, 3, 2, 1]\n"
     ]
    }
   ],
   "source": [
    "lst=[1,2,3,4,5,6,7,8]\n",
    "val = 3\n",
    "i = 2\n",
    "print lst.append(val)\n",
    "print lst\n",
    "print lst.insert(i,val)\n",
    "print lst\n",
    "print lst.remove(val)\n",
    "print lst\n",
    "print lst.pop()#remove last item\n",
    "print lst\n",
    "print lst.pop(3)#remove third item (remember: numbering starts at 0!)\n",
    "print lst.sort()\n",
    "print lst\n",
    "print lst.reverse()\n",
    "print lst"
   ]
  },
  {
   "cell_type": "code",
   "execution_count": 37,
   "metadata": {
    "collapsed": false
   },
   "outputs": [
    {
     "name": "stdout",
     "output_type": "stream",
     "text": [
      "['homer', 'marge', 'bart', 'lisa', 'maggie']\n",
      "homer\n",
      "maggie\n",
      "1\n",
      "2\n",
      "3\n",
      "4\n",
      "a\n",
      "b\n",
      "c\n"
     ]
    }
   ],
   "source": [
    "simpsons = ['homer','marge','bart','lisa','maggie']\n",
    "print simpsons\n",
    "\n",
    "print simpsons[0]\n",
    "print simpsons[4]\n",
    "\n",
    "for x in [1, 2, 3, 4]:\n",
    "    print x\n",
    "    \n",
    "names = [\"a\", \"b\", \"c\"]\n",
    "for purple in names:\n",
    "    print purple    "
   ]
  },
  {
   "cell_type": "markdown",
   "metadata": {},
   "source": [
    "## Printing all items in a list\n",
    "```python\n",
    "for x in [1, 2, 3, 4]:\n",
    "    print x,# comma eliminates new line\n",
    "```"
   ]
  },
  {
   "cell_type": "markdown",
   "metadata": {},
   "source": [
    "## Printing all items in a list\n",
    "```python\n",
    "names = [\"a\", \"b\", \"c\"]\n",
    "for name in names:\n",
    "    print name # no comma so each item prints on it's own line\n",
    "```"
   ]
  },
  {
   "cell_type": "markdown",
   "metadata": {},
   "source": [
    "## Slicing\n",
    "\n",
    "### Printing part of a list\n",
    "\n",
    "```python\n",
    "letters = ['a','b','c','d','e','f','g','h']\n",
    "for letter in letters[2:6]:# prints letter 0, 1, 2, 3, 4, 5\n",
    "    print letter,\n",
    "\n",
    "print \"\" # print a new line \n",
    "for letter in letters[3:7]:\n",
    "    print letter,\n",
    "```"
   ]
  },
  {
   "cell_type": "code",
   "execution_count": null,
   "metadata": {
    "collapsed": true
   },
   "outputs": [],
   "source": [
    "## Assignment\n",
    "### create a program which prints \"c d e f\" from the list below"
   ]
  },
  {
   "cell_type": "code",
   "execution_count": 38,
   "metadata": {
    "collapsed": false
   },
   "outputs": [
    {
     "name": "stdout",
     "output_type": "stream",
     "text": [
      "c d e f \n",
      "d e f g\n"
     ]
    }
   ],
   "source": [
    "letters = ['a','b','c','d','e','f','g','h']\n",
    "for letter in letters[2:6]:# prints letter 2, 3, 4, 5\n",
    "    print letter,\n",
    "\n",
    "print \"\" # print a new line \n",
    "for letter in letters[3:7]:\n",
    "    print letter,"
   ]
  },
  {
   "cell_type": "markdown",
   "metadata": {
    "collapsed": true
   },
   "source": [
    "### Looping with Lists\n",
    "http://learnpythonthehardway.org/book/ex32.html"
   ]
  },
  {
   "cell_type": "markdown",
   "metadata": {},
   "source": [
    "## Modify the movie program\n",
    "* add movies to a list instead of a string variable\n",
    "* When the program is finished make it print the following output:\n",
    "\n",
    "```\n",
    "The first three movies you entered are:\n",
    "movie 1\n",
    "movie 2\n",
    "movie 3\n",
    "\n",
    "The last movie you entered was:\n",
    "movie 99\n",
    "```"
   ]
  },
  {
   "cell_type": "markdown",
   "metadata": {
    "collapsed": true
   },
   "source": [
    "## Python includes a library for dates. We can add that to our program with the following statement:\n",
    "```python\n",
    "import datetime\n",
    "```\n",
    "## Get the date/time for now... according to your computer\n",
    "```python\n",
    "now = datetime.datetime.now()\n",
    "print \"It is now: {} \".format(now)\n",
    "```\n",
    "\n",
    "# Print it all in a nicer format\n",
    "```python\n",
    "print \"The year is: {}, the month is: {}, the day is: {} the time is: {}:{}:{}\".format(now.year, now.month, now.day, now.hour, now.minute, now.second)\n",
    "```\n",
    "\n",
    "## Print the years from 2000 to today\n",
    "# This prints on one line \n",
    "```python\n",
    "for y in range(2000, now.year+1):\n",
    "    print \"{} \".format(y),\n",
    "```\n",
    "\n",
    "### This prints a new line each time the print statement is called. Can you tell why?   \n",
    "```python\n",
    "for y in range(2000, now.year+1):\n",
    "    print \"{} \".format(y)   \n",
    "```  "
   ]
  },
  {
   "cell_type": "code",
   "execution_count": 1,
   "metadata": {
    "collapsed": false
   },
   "outputs": [
    {
     "name": "stdout",
     "output_type": "stream",
     "text": [
      "Please enter your name: Bob\n",
      "Dave\n"
     ]
    }
   ],
   "source": [
    "# Write a program that prompts the user for their name, \n",
    "# saves it in variable called 'name' and prints the name\n",
    "prompt = 'Please enter your name: '\n",
    "name = raw_input(prompt)\n",
    "print name\n"
   ]
  },
  {
   "cell_type": "code",
   "execution_count": 3,
   "metadata": {
    "collapsed": false
   },
   "outputs": [
    {
     "name": "stdout",
     "output_type": "stream",
     "text": [
      "Please enter a number: 8\n",
      "13\n"
     ]
    }
   ],
   "source": [
    "# To get a number from the user\n",
    "prompt = \"Please enter a number: \"\n",
    "number = int(raw_input(prompt))\n",
    "print number + 5\n",
    "\n"
   ]
  },
  {
   "cell_type": "code",
   "execution_count": null,
   "metadata": {
    "collapsed": false
   },
   "outputs": [],
   "source": [
    "# Looping to get input multiple times\n",
    "counter = 5\n",
    "while counter > 0:\n",
    "    print \"In the loop\"\n",
    "    counter = counter - 1\n",
    "    \n",
    "print \"Finished with the loop\""
   ]
  },
  {
   "cell_type": "code",
   "execution_count": null,
   "metadata": {
    "collapsed": false
   },
   "outputs": [],
   "source": [
    "\"\"\"\n",
    "Write a program that receives ten numbers from the user \n",
    "until the user presses enter without entering a number.\n",
    "Then print the total of the numbers and their average.\n",
    "\"\"\"\n",
    "\n",
    "total = 0\n",
    "count = 0\n",
    "while count < 10:\n",
    "    number = raw_input(\"Enter a number: \")\n",
    "    total = total + float(number)\n",
    "    count = count + 1\n",
    "    \n",
    "\n",
    "print \"The total is\", total\n",
    "print \"The average is \" + str(total / count)\n"
   ]
  },
  {
   "cell_type": "markdown",
   "metadata": {},
   "source": [
    "## Decision Making\n",
    "\n",
    "A program can make decisions\n",
    "\n",
    "Make the following program work then modify it to print I like blue and I like green. To have more than one condition in an if statement use elif insted of else. But always use else at the bottom to capture every possible scenario.\n",
    "\n",
    "Note: to compare two values use == to assign a value use =\n",
    "\n",
    "    ```\n",
    "    favoriteColor = raw_input(\"What is your favorite color? \")\n",
    "\n",
    "    if favoriteColor == \"red\":\n",
    "        print \"I like red, too\"\n",
    "    else:\n",
    "        print \"My favorite color is not \" + favoriteColor\n",
    "    ```\n",
    "    "
   ]
  },
  {
   "cell_type": "code",
   "execution_count": null,
   "metadata": {
    "collapsed": true
   },
   "outputs": [],
   "source": [
    "# Write a logical expression that test to see if the variable x is a number in the range of 1 to 10\n",
    "\n",
    "x = raw_input(\"Enter the value for x: \")\n",
    "if x >=1 and x <= 10:\n",
    "    print True\n",
    "else:\n",
    "    print False\n",
    "    "
   ]
  },
  {
   "cell_type": "code",
   "execution_count": 6,
   "metadata": {
    "collapsed": false
   },
   "outputs": [
    {
     "name": "stdout",
     "output_type": "stream",
     "text": [
      "Enter the taxcode: 2\n",
      "Enter the amount: 50\n",
      "MD  Tax owed:  3.0\n"
     ]
    }
   ],
   "source": [
    "taxcode = int(raw_input(\"Enter the taxcode: \"))\n",
    "amt = float(raw_input(\"Enter the amount: \"))\n",
    "if taxcode == 1:\n",
    "    tax = .05 * amt\n",
    "    state = 'VA'\n",
    "elif taxcode == 2:\n",
    "    tax = .06 * amt\n",
    "    state = 'MD'\n",
    "elif taxcode == 3:\n",
    "     tax = 0.0\n",
    "     state = 'DE'\n",
    "else:\n",
    "     tax = .07 * amt\n",
    "     state = 'DC'\n",
    "print state,' Tax owed: ', tax\n"
   ]
  },
  {
   "cell_type": "markdown",
   "metadata": {},
   "source": [
    "Looping in Python\n",
    "repeat code until a condition is met\n",
    "counted repetition (for loops)"
   ]
  },
  {
   "cell_type": "code",
   "execution_count": null,
   "metadata": {
    "collapsed": true
   },
   "outputs": [],
   "source": [
    "#### while loop allows you to repeat code while a condition is true \n",
    "Here the condition is that x is not equal to 0.\n",
    "```!=``` means not equal. Type in the while loop to see how it works.\n",
    "\n",
    "```\n",
    "x= 10\n",
    "while x != 0:\n",
    "    print x\n",
    "    x= x-1\n",
    "    print \" wow, we have counted down x and now it is equal to \" + str(x)\n",
    "\n",
    "print \" And now the loop has ended.\"    \n",
    "```"
   ]
  },
  {
   "cell_type": "code",
   "execution_count": null,
   "metadata": {
    "collapsed": true
   },
   "outputs": [],
   "source": [
    "#### Python expects code to be repeated to follow the colon : and to be indented\n",
    "Normal indentation is 4 spaces\n",
    "\n",
    "```\n",
    "a = 0 \n",
    "b = 3\n",
    "while a < 10:\n",
    "    a = a + 1\n",
    "    b = b + 1\n",
    "    print \"The value of a is \" + str(a) + \" and the value of b is \" + str(b)\n",
    "print \"this line prints after the loop is finished\"\n",
    "print \"The value of a is \" + str(a) + \" and the value of b is \" + str(b)\n",
    "\n",
    "print \"You can change a variable with assignment (=)\"\n",
    "a = 234\n",
    "print \"the value of a is \" + str(a)\n",
    "```"
   ]
  },
  {
   "cell_type": "code",
   "execution_count": null,
   "metadata": {
    "collapsed": true
   },
   "outputs": [],
   "source": [
    "##Python Ranges and for loops\n",
    "'''\n",
    "The range() function allows you to execute a statement (or sequence of statements) a given number of times. \n",
    "\n",
    "start: Starting number of the sequence.\n",
    "stop: Generate numbers up to, but not including this number.\n",
    "step: Difference between each number in the sequence.\n",
    "\n",
    "range([start], stop[, step])    # arguments in []'s are optional\n",
    "    \n",
    "The range function can take one argument, two arguments or three arguments. Try it now with each:\n",
    "'''\n",
    "\n",
    "counter = 4\n",
    "for eachPass in range(counter):\n",
    "    print counter\n",
    "print '_'*20    \n",
    "\n",
    "\n",
    "counter = 1\n",
    "stop = 11\n",
    "for eachPass in range(counter,stop):\n",
    "    print counter\n",
    "print '_'*20    \n",
    "\n",
    "\n",
    "counter = 1\n",
    "stop = 21\n",
    "step = 2\n",
    "for eachPass in range(counter,stop,step):\n",
    "    print counter    \n",
    "print '_'*20    \n"
   ]
  },
  {
   "cell_type": "code",
   "execution_count": null,
   "metadata": {
    "collapsed": true
   },
   "outputs": [],
   "source": [
    "# A shortcut for you ...\n",
    "# Expressions such as x = x + 1 occur so frequently that a shortcut exists for them....\n",
    "# You can say x += 1 and get the same result. \n",
    "# Note there is no space between the operator (+) and the = sign.\n",
    "# This works with other operators as well such as - and * and /\n",
    "# Try it below:\n",
    "\n",
    "total = 0\n",
    "for amount in range(10):\n",
    "    total = total + amount\n",
    "    print total\n",
    "    \n",
    "# can be shortened to \n",
    "total = 0\n",
    "for amount in range(10):\n",
    "    total += amount\n",
    "    print total"
   ]
  },
  {
   "cell_type": "code",
   "execution_count": null,
   "metadata": {
    "collapsed": true
   },
   "outputs": [],
   "source": [
    "# Introducing print formatting. Use empty braces as a place holder followed by .format and the values to include\n",
    "print 'We are the {} who say \"{}!\"'.format('knights', 'Ni')\n",
    "# you can also use numbers in the place holders\n",
    "print 'We are the {0} who say \"{1}!\"'.format('knights', 'Ni')\n",
    "# can you see what just happened?\n",
    "print 'We are the {1} who say \"{0}!\"'.format('Ni','knights')\n",
    "\n",
    "# More details on print formatting are at https://docs.python.org/2/tutorial/inputoutput.html\n"
   ]
  },
  {
   "cell_type": "code",
   "execution_count": null,
   "metadata": {
    "collapsed": true
   },
   "outputs": [],
   "source": [
    "for bottle in range(99,0,-1):\n",
    "    if bottle == 1:\n",
    "        print(\"{0} bottle of beer on the wall, {0} bottle of beer. Take it down, pass it around, No more bottles of beer on the wall\".format(bottle))\n",
    "    else:\n",
    "        print(\"{0} bottles of beer on the wall, {0} bottles of beer. Take one down, pass it around, {1} bottles of beer on the wall\".format(bottle,bottle-1))\n",
    "    \n",
    "print(\"My song is finished!\")"
   ]
  },
  {
   "cell_type": "code",
   "execution_count": null,
   "metadata": {
    "collapsed": true
   },
   "outputs": [],
   "source": [
    "# Python includes a library for dates. We can add that to our program with the following statement:\n",
    "import datetime\n",
    "\n",
    "# Get the date/time for now... according to your computer\n",
    "now = datetime.datetime.now()\n",
    "print \"It is now: {} \".format(now)\n",
    "\n",
    "# Print it all in a nicer format\n",
    "print \"The year is: {}, the month is: {}, the day is: {} the time is: {}:{}:{}\".format(now.year, now.month, now.day, now.hour, now.minute, now.second)\n",
    "\n",
    "\n",
    "# Print the years from 2000 to today\n",
    "# This prints on one line \n",
    "for y in range(2000, now.year+1):\n",
    "    print \"{} \".format(y),\n",
    "    \n",
    "# This prints a new line each time the print statement is called. Can you tell why?    \n",
    "for y in range(2000, now.year+1):\n",
    "    print \"{} \".format(y)    "
   ]
  },
  {
   "cell_type": "code",
   "execution_count": null,
   "metadata": {
    "collapsed": true
   },
   "outputs": [],
   "source": []
  },
  {
   "cell_type": "code",
   "execution_count": null,
   "metadata": {
    "collapsed": true
   },
   "outputs": [],
   "source": [
    "# write and read to Excel (automate boring stuff ch. 12)"
   ]
  }
 ],
 "metadata": {
  "anaconda-cloud": {},
  "kernelspec": {
   "display_name": "Python [default]",
   "language": "python",
   "name": "python2"
  },
  "language_info": {
   "codemirror_mode": {
    "name": "ipython",
    "version": 2
   },
   "file_extension": ".py",
   "mimetype": "text/x-python",
   "name": "python",
   "nbconvert_exporter": "python",
   "pygments_lexer": "ipython2",
   "version": "2.7.12"
  }
 },
 "nbformat": 4,
 "nbformat_minor": 0
}
